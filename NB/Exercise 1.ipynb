{
 "metadata": {
  "name": "",
  "signature": "sha256:a39944962b2946917401d02f6006413b987ce64195ee6667c453e5695969d6c8"
 },
 "nbformat": 3,
 "nbformat_minor": 0,
 "worksheets": [
  {
   "cells": [
    {
     "cell_type": "code",
     "collapsed": false,
     "input": [
      "import pandas as pd\n",
      "import numpy as np\n",
      "from __future__ import division\n",
      "pd.set_option('display.max_rows', 500)\n",
      "pd.set_option('display.max_columns', 500)\n",
      "pd.set_option('display.width', 1000)\n",
      "pd.options.display.mpl_style = 'default'"
     ],
     "language": "python",
     "metadata": {},
     "outputs": [],
     "prompt_number": 1
    },
    {
     "cell_type": "code",
     "collapsed": false,
     "input": [
      "header_row = ['mpg', 'cyl', 'dis', 'hp', 'wt', 'acc', 'my','org','car_name']\n",
      "url = 'http://archive.ics.uci.edu/ml/machine-learning-databases/auto-mpg/auto-mpg.data'\n",
      "car_data = pd.read_csv(url, header=0, na_values = '?', delimiter = '\\s+')\n",
      "car_data.columns = header_row"
     ],
     "language": "python",
     "metadata": {},
     "outputs": [],
     "prompt_number": 3
    },
    {
     "cell_type": "code",
     "collapsed": false,
     "input": [
      "car_data.head()\n"
     ],
     "language": "python",
     "metadata": {},
     "outputs": [
      {
       "html": [
        "<div style=\"max-height:1000px;max-width:1500px;overflow:auto;\">\n",
        "<table border=\"1\" class=\"dataframe\">\n",
        "  <thead>\n",
        "    <tr style=\"text-align: right;\">\n",
        "      <th></th>\n",
        "      <th>mpg</th>\n",
        "      <th>cyl</th>\n",
        "      <th>dis</th>\n",
        "      <th>hp</th>\n",
        "      <th>wt</th>\n",
        "      <th>acc</th>\n",
        "      <th>my</th>\n",
        "      <th>org</th>\n",
        "      <th>car_name</th>\n",
        "    </tr>\n",
        "  </thead>\n",
        "  <tbody>\n",
        "    <tr>\n",
        "      <th>0</th>\n",
        "      <td> 15</td>\n",
        "      <td> 8</td>\n",
        "      <td> 350</td>\n",
        "      <td> 165</td>\n",
        "      <td> 3693</td>\n",
        "      <td> 11.5</td>\n",
        "      <td> 70</td>\n",
        "      <td> 1</td>\n",
        "      <td>  buick skylark 320</td>\n",
        "    </tr>\n",
        "    <tr>\n",
        "      <th>1</th>\n",
        "      <td> 18</td>\n",
        "      <td> 8</td>\n",
        "      <td> 318</td>\n",
        "      <td> 150</td>\n",
        "      <td> 3436</td>\n",
        "      <td> 11.0</td>\n",
        "      <td> 70</td>\n",
        "      <td> 1</td>\n",
        "      <td> plymouth satellite</td>\n",
        "    </tr>\n",
        "    <tr>\n",
        "      <th>2</th>\n",
        "      <td> 16</td>\n",
        "      <td> 8</td>\n",
        "      <td> 304</td>\n",
        "      <td> 150</td>\n",
        "      <td> 3433</td>\n",
        "      <td> 12.0</td>\n",
        "      <td> 70</td>\n",
        "      <td> 1</td>\n",
        "      <td>      amc rebel sst</td>\n",
        "    </tr>\n",
        "    <tr>\n",
        "      <th>3</th>\n",
        "      <td> 17</td>\n",
        "      <td> 8</td>\n",
        "      <td> 302</td>\n",
        "      <td> 140</td>\n",
        "      <td> 3449</td>\n",
        "      <td> 10.5</td>\n",
        "      <td> 70</td>\n",
        "      <td> 1</td>\n",
        "      <td>        ford torino</td>\n",
        "    </tr>\n",
        "    <tr>\n",
        "      <th>4</th>\n",
        "      <td> 15</td>\n",
        "      <td> 8</td>\n",
        "      <td> 429</td>\n",
        "      <td> 198</td>\n",
        "      <td> 4341</td>\n",
        "      <td> 10.0</td>\n",
        "      <td> 70</td>\n",
        "      <td> 1</td>\n",
        "      <td>   ford galaxie 500</td>\n",
        "    </tr>\n",
        "  </tbody>\n",
        "</table>\n",
        "</div>"
       ],
       "metadata": {},
       "output_type": "pyout",
       "prompt_number": 4,
       "text": [
        "   mpg  cyl  dis   hp    wt   acc  my  org            car_name\n",
        "0   15    8  350  165  3693  11.5  70    1   buick skylark 320\n",
        "1   18    8  318  150  3436  11.0  70    1  plymouth satellite\n",
        "2   16    8  304  150  3433  12.0  70    1       amc rebel sst\n",
        "3   17    8  302  140  3449  10.5  70    1         ford torino\n",
        "4   15    8  429  198  4341  10.0  70    1    ford galaxie 500"
       ]
      }
     ],
     "prompt_number": 4
    },
    {
     "cell_type": "code",
     "collapsed": false,
     "input": [
      "subset_70 = car_data[car_data['my'] == 70]\n",
      "subset_82 = car_data[car_data['my'] == 82]\n",
      "print subset_70.describe()\n",
      "print subset_82.describe()"
     ],
     "language": "python",
     "metadata": {},
     "outputs": [
      {
       "output_type": "stream",
       "stream": "stdout",
       "text": [
        "             mpg        cyl         dis          hp           wt        acc  my        org\n",
        "count  28.000000  28.000000   28.000000   28.000000    28.000000  28.000000  28  28.000000\n",
        "mean   17.678571   6.714286  280.500000  148.464286  3368.107143  12.982143  70   1.321429\n",
        "std     5.436867   1.739671  126.605395   54.609375   868.138679   3.387018   0   0.611832\n",
        "min     9.000000   4.000000   97.000000   46.000000  1835.000000   8.000000  70   1.000000\n",
        "25%    14.000000   5.500000  178.750000   95.000000  2632.750000  10.000000  70   1.000000\n",
        "50%    15.500000   8.000000  305.500000  150.000000  3442.500000  13.000000  70   1.000000\n",
        "75%    22.500000   8.000000  384.750000  198.500000  4319.250000  15.125000  70   1.250000\n",
        "max    27.000000   8.000000  455.000000  225.000000  4732.000000  20.500000  70   3.000000\n",
        "             mpg        cyl         dis          hp           wt        acc  my        org\n",
        "count  31.000000  31.000000   31.000000   30.000000    31.000000  31.000000  31  31.000000\n",
        "mean   31.709677   4.193548  128.870968   81.466667  2453.548387  16.638710  82   1.645161\n",
        "std     5.392548   0.601074   39.352037   13.296962   354.276713   2.484844   0   0.914636\n",
        "min    22.000000   4.000000   91.000000   52.000000  1965.000000  11.600000  82   1.000000\n",
        "25%    27.000000   4.000000  105.000000   70.000000  2127.500000  14.850000  82   1.000000\n",
        "50%    32.000000   4.000000  119.000000   84.000000  2525.000000  16.400000  82   1.000000\n",
        "75%    36.000000   4.000000  142.000000   88.000000  2727.500000  18.000000  82   3.000000\n",
        "max    44.000000   6.000000  262.000000  112.000000  3035.000000  24.600000  82   3.000000\n"
       ]
      }
     ],
     "prompt_number": 16
    },
    {
     "cell_type": "code",
     "collapsed": false,
     "input": [
      "print car_data[car_data.hp.isnull()]"
     ],
     "language": "python",
     "metadata": {},
     "outputs": [
      {
       "output_type": "stream",
       "stream": "stdout",
       "text": [
        "      mpg  cyl  dis  hp    wt   acc  my  org              car_name\n",
        "31   25.0    4   98 NaN  2046  19.0  71    1            ford pinto\n",
        "125  21.0    6  200 NaN  2875  17.0  74    1         ford maverick\n",
        "329  40.9    4   85 NaN  1835  17.3  80    2  renault lecar deluxe\n",
        "335  23.6    4  140 NaN  2905  14.3  80    1    ford mustang cobra\n",
        "353  34.5    4  100 NaN  2320  15.8  81    2           renault 18i\n",
        "373  23.0    4  151 NaN  3035  20.5  82    1        amc concord dl\n"
       ]
      }
     ],
     "prompt_number": 18
    },
    {
     "cell_type": "code",
     "collapsed": false,
     "input": [
      "grouped = car_data.groupby('my')\n",
      "grouped.hp.mean()"
     ],
     "language": "python",
     "metadata": {},
     "outputs": [
      {
       "metadata": {},
       "output_type": "pyout",
       "prompt_number": 26,
       "text": [
        "my\n",
        "70    148.464286\n",
        "71    107.037037\n",
        "72    120.178571\n",
        "73    130.475000\n",
        "74     94.230769\n",
        "75    101.066667\n",
        "76    101.117647\n",
        "77    105.071429\n",
        "78     99.694444\n",
        "79    101.206897\n",
        "80     77.481481\n",
        "81     81.035714\n",
        "82     81.466667\n",
        "Name: hp, dtype: float64"
       ]
      }
     ],
     "prompt_number": 26
    },
    {
     "cell_type": "code",
     "collapsed": false,
     "input": [],
     "language": "python",
     "metadata": {},
     "outputs": []
    }
   ],
   "metadata": {}
  }
 ]
}