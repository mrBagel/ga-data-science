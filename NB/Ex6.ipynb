{
 "metadata": {
  "name": "",
  "signature": "sha256:85a481a55871303d286526a01a5d944e38e88a972c01fcc31367f333b8bb27c7"
 },
 "nbformat": 3,
 "nbformat_minor": 0,
 "worksheets": [
  {
   "cells": [
    {
     "cell_type": "code",
     "collapsed": false,
     "input": [
      "%pylab inline"
     ],
     "language": "python",
     "metadata": {},
     "outputs": [
      {
       "output_type": "stream",
       "stream": "stdout",
       "text": [
        "Populating the interactive namespace from numpy and matplotlib\n"
       ]
      }
     ],
     "prompt_number": 3
    },
    {
     "cell_type": "code",
     "collapsed": false,
     "input": [
      "# any other imports here\n",
      "import pandas as pd\n",
      "import numpy as np\n",
      "import matplotlib.pyplot as plt\n",
      "import seaborn as sns\n",
      "from __future__ import division\n",
      "pd.set_option('display.max_rows', 500)\n",
      "pd.set_option('display.max_columns', 50)\n",
      "pd.set_option('display.width', 1000)"
     ],
     "language": "python",
     "metadata": {},
     "outputs": [],
     "prompt_number": 2
    },
    {
     "cell_type": "code",
     "collapsed": false,
     "input": [
      "from sklearn import linear_model as lm"
     ],
     "language": "python",
     "metadata": {},
     "outputs": [],
     "prompt_number": 1
    },
    {
     "cell_type": "code",
     "collapsed": false,
     "input": [
      "a = np.array([(1,2,3)])\n"
     ],
     "language": "python",
     "metadata": {},
     "outputs": [],
     "prompt_number": 8
    },
    {
     "cell_type": "code",
     "collapsed": false,
     "input": [
      "a"
     ],
     "language": "python",
     "metadata": {},
     "outputs": [
      {
       "metadata": {},
       "output_type": "pyout",
       "prompt_number": 9,
       "text": [
        "array([[1, 2, 3]])"
       ]
      }
     ],
     "prompt_number": 9
    },
    {
     "cell_type": "code",
     "collapsed": false,
     "input": [
      "a*2"
     ],
     "language": "python",
     "metadata": {},
     "outputs": [
      {
       "metadata": {},
       "output_type": "pyout",
       "prompt_number": 10,
       "text": [
        "array([[2, 4, 6]])"
       ]
      }
     ],
     "prompt_number": 10
    },
    {
     "cell_type": "code",
     "collapsed": false,
     "input": [
      "a*a\n"
     ],
     "language": "python",
     "metadata": {},
     "outputs": [
      {
       "metadata": {},
       "output_type": "pyout",
       "prompt_number": 11,
       "text": [
        "array([[1, 4, 9]])"
       ]
      }
     ],
     "prompt_number": 11
    },
    {
     "cell_type": "code",
     "collapsed": false,
     "input": [
      "3.385+0.48+1.35+465+36.33\n",
      "\n"
     ],
     "language": "python",
     "metadata": {},
     "outputs": [
      {
       "metadata": {},
       "output_type": "pyout",
       "prompt_number": 13,
       "text": [
        "506.54499999999996"
       ]
      }
     ],
     "prompt_number": 13
    },
    {
     "cell_type": "code",
     "collapsed": false,
     "input": [
      "3.385**2\n"
     ],
     "language": "python",
     "metadata": {},
     "outputs": [
      {
       "metadata": {},
       "output_type": "pyout",
       "prompt_number": 14,
       "text": [
        "11.458224999999999"
       ]
      }
     ],
     "prompt_number": 14
    },
    {
     "cell_type": "code",
     "collapsed": false,
     "input": [
      "import pandas as pd\n",
      "import numpy as np\n",
      "from sklearn import linear_model as lm\n",
      "\n",
      "practice_set = pd.DataFrame({\n",
      "    'x': [3.385, 0.48, 1.35, 465, 36.33],\n",
      "    'y': [44.5, 15.5, 8.1, 423, 119.5],\n",
      "})\n",
      "\n",
      "A = np.array([[1, 1, 1, 1, 1], practice_set['x']])\n",
      "print np.linalg.inv(A.dot(A.T)).dot(A.dot(practice_set['y']))\n",
      "\n",
      "model = lm.LinearRegression().fit(practice_set[['x']], practice_set['y'])\n",
      "print model.intercept_\n",
      "print model.coef_"
     ],
     "language": "python",
     "metadata": {},
     "outputs": [
      {
       "output_type": "stream",
       "stream": "stdout",
       "text": [
        "[ 37.20089608   0.83821876]\n",
        "37.2008960793\n",
        "[ 0.83821876]\n"
       ]
      }
     ],
     "prompt_number": 18
    },
    {
     "cell_type": "code",
     "collapsed": false,
     "input": [
      "from sklearn import linear_model as lm\n",
      "from sklearn.datasets import load_boston\n",
      "from sklearn import cross_validation as cv\n",
      "from sklearn import metrics\n",
      "\n",
      "boston = load_boston()\n",
      "desc = boston.DESCR\n",
      "bostondf = pd.DataFrame(boston.data, columns=boston.feature_names)\n",
      "y_col = 'MEDV'\n",
      "bostondf[y_col] = boston.target\n",
      "x_cols = [\n",
      "    'CRIM',\n",
      "    'ZN',\n",
      "    'INDUS',\n",
      "    'CHAS',\n",
      "    'NOX',\n",
      "    'RM',\n",
      "    'AGE',\n",
      "    'DIS',\n",
      "    'RAD',\n",
      "    'TAX',\n",
      "    'PTRATIO',\n",
      "    'B',\n",
      "    'LSTAT',\n",
      "]\n",
      "\n",
      "\n",
      "x_train, x_test, y_train, y_test = cv.train_test_split(bostondf[x_cols],\n",
      "                                                           bostondf[y_col],\n",
      "                                                           test_size=0.333,\n",
      "                                                           random_state=1234)\n",
      "alpha = np.arange(0.000000000001,0.1,0.001)\n",
      "score = []\n",
      "for a in alpha:\n",
      "    model = lm.Ridge(a).fit(x_train, y_train)\n",
      "    score.append(metrics.mean_squared_error(y_test, model.predict(x_test)))\n",
      "    \n"
     ],
     "language": "python",
     "metadata": {},
     "outputs": [],
     "prompt_number": 72
    },
    {
     "cell_type": "code",
     "collapsed": false,
     "input": [
      "plt.figure(figsize=(8, 6), dpi=80)\n",
      "ax.set_yscale('log')\n",
      "plt.plot(alpha,score)\n"
     ],
     "language": "python",
     "metadata": {},
     "outputs": [
      {
       "metadata": {},
       "output_type": "pyout",
       "prompt_number": 76,
       "text": [
        "[<matplotlib.lines.Line2D at 0x10d365b90>]"
       ]
      },
      {
       "metadata": {},
       "output_type": "display_data",
       "png": "[encoded data removed]",
       "text": [
        "<matplotlib.figure.Figure at 0x10d207bd0>"
       ]
      }
     ],
     "prompt_number": 76
    },
    {
     "cell_type": "code",
     "collapsed": false,
     "input": [],
     "language": "python",
     "metadata": {},
     "outputs": [],
     "prompt_number": 76
    },
    {
     "cell_type": "code",
     "collapsed": false,
     "input": [],
     "language": "python",
     "metadata": {},
     "outputs": []
    }
   ],
   "metadata": {}
  }
 ]
}