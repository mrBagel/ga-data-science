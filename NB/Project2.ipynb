{
 "metadata": {
  "name": "",
  "signature": "sha256:599b23dcefb85a1d7ce7392e00dff2617be1d0565d2cbbf926e6ec101cd20e97"
 },
 "nbformat": 3,
 "nbformat_minor": 0,
 "worksheets": [
  {
   "cells": [
    {
     "cell_type": "code",
     "collapsed": false,
     "input": [
      "%pylab inline"
     ],
     "language": "python",
     "metadata": {},
     "outputs": [
      {
       "output_type": "stream",
       "stream": "stdout",
       "text": [
        "Populating the interactive namespace from numpy and matplotlib\n"
       ]
      }
     ],
     "prompt_number": 13
    },
    {
     "cell_type": "markdown",
     "metadata": {},
     "source": [
      "# Supervised Learning: Yelp Reviews\n",
      "* In this project, I'm trying to build machine learning models based on yelp's data: http://www.yelp.com/dataset_challenge to study features of the business and make prdedictions that could help the business.\n",
      "* This dataset includes:\n",
      "  * 1.6M reviews and 500K tips by 366K users for 61K businesses\n",
      "  * 481K business attributes, e.g., hours, parking availability, ambience.\n",
      "  * Social network of 366K users for a total of 2.9M social edges.\n",
      "  * Aggregated check-ins over time for each of the 61K businesses\n",
      "* 5 files: \n",
      "  1. **Business**: dataset about business attributes, e.g., hours, parking availability, ambience\n",
      "  2. **Review**: text reviews of the businesses\n",
      "  3. **User**: information about users who made the reviews\n",
      "  4. **Check-in**: checkin records of business\n",
      "  5. **Tip**: short text giving tips about businesses"
     ]
    },
    {
     "cell_type": "markdown",
     "metadata": {},
     "source": [
      "## Data Cleaning and Transformation\n",
      "This dataset comes in as .json format. I used `json-to-csv-convert.py` from https://github.com/Yelp/dataset-examples to convert all the data to .csv files and so it's eaiser to load into dataframes."
     ]
    },
    {
     "cell_type": "markdown",
     "metadata": {},
     "source": [
      "## Explore Business Features"
     ]
    },
    {
     "cell_type": "code",
     "collapsed": false,
     "input": [
      "import pandas as pd\n",
      "from matplotlib import pyplot as plt\n",
      "import seaborn as sns\n",
      "biz = pd.read_csv('./data/yelp_data/yelp_academic_dataset_business.csv',low_memory=False)\n",
      "biz.head()"
     ],
     "language": "python",
     "metadata": {},
     "outputs": [
      {
       "html": [
        "<div style=\"max-height:1000px;max-width:1500px;overflow:auto;\">\n",
        "<table border=\"1\" class=\"dataframe\">\n",
        "  <thead>\n",
        "    <tr style=\"text-align: right;\">\n",
        "      <th></th>\n",
        "      <th>attributes.Ambience.divey</th>\n",
        "      <th>attributes.Dietary Restrictions.vegan</th>\n",
        "      <th>attributes.Happy Hour</th>\n",
        "      <th>hours.Thursday.open</th>\n",
        "      <th>attributes.Order at Counter</th>\n",
        "      <th>attributes.Hair Types Specialized In.africanamerican</th>\n",
        "      <th>attributes.Hair Types Specialized In.kids</th>\n",
        "      <th>attributes.BYOB</th>\n",
        "      <th>hours.Friday.open</th>\n",
        "      <th>categories</th>\n",
        "      <th>...</th>\n",
        "      <th>attributes.Smoking</th>\n",
        "      <th>attributes.Attire</th>\n",
        "      <th>attributes.Hair Types Specialized In.curly</th>\n",
        "      <th>attributes.Good For Groups</th>\n",
        "      <th>neighborhoods</th>\n",
        "      <th>attributes.Open 24 Hours</th>\n",
        "      <th>attributes.Ambience.romantic</th>\n",
        "      <th>attributes.Hair Types Specialized In.perms</th>\n",
        "      <th>attributes.Music.jukebox</th>\n",
        "      <th>attributes.Ambience.upscale</th>\n",
        "    </tr>\n",
        "  </thead>\n",
        "  <tbody>\n",
        "    <tr>\n",
        "      <th>0</th>\n",
        "      <td>   NaN</td>\n",
        "      <td> NaN</td>\n",
        "      <td>   NaN</td>\n",
        "      <td> 08:00</td>\n",
        "      <td> NaN</td>\n",
        "      <td> NaN</td>\n",
        "      <td> NaN</td>\n",
        "      <td> NaN</td>\n",
        "      <td> 08:00</td>\n",
        "      <td>                   ['Doctors', 'Health &amp; Medical']</td>\n",
        "      <td>...</td>\n",
        "      <td> NaN</td>\n",
        "      <td>    NaN</td>\n",
        "      <td> NaN</td>\n",
        "      <td>  NaN</td>\n",
        "      <td> []</td>\n",
        "      <td> NaN</td>\n",
        "      <td>   NaN</td>\n",
        "      <td> NaN</td>\n",
        "      <td> NaN</td>\n",
        "      <td>   NaN</td>\n",
        "    </tr>\n",
        "    <tr>\n",
        "      <th>1</th>\n",
        "      <td>   NaN</td>\n",
        "      <td> NaN</td>\n",
        "      <td>  True</td>\n",
        "      <td>   NaN</td>\n",
        "      <td> NaN</td>\n",
        "      <td> NaN</td>\n",
        "      <td> NaN</td>\n",
        "      <td> NaN</td>\n",
        "      <td>   NaN</td>\n",
        "      <td>                                     ['Nightlife']</td>\n",
        "      <td>...</td>\n",
        "      <td> NaN</td>\n",
        "      <td>    NaN</td>\n",
        "      <td> NaN</td>\n",
        "      <td> True</td>\n",
        "      <td> []</td>\n",
        "      <td> NaN</td>\n",
        "      <td>   NaN</td>\n",
        "      <td> NaN</td>\n",
        "      <td> NaN</td>\n",
        "      <td>   NaN</td>\n",
        "    </tr>\n",
        "    <tr>\n",
        "      <th>2</th>\n",
        "      <td>   NaN</td>\n",
        "      <td> NaN</td>\n",
        "      <td>   NaN</td>\n",
        "      <td>   NaN</td>\n",
        "      <td> NaN</td>\n",
        "      <td> NaN</td>\n",
        "      <td> NaN</td>\n",
        "      <td> NaN</td>\n",
        "      <td>   NaN</td>\n",
        "      <td>              ['Active Life', 'Mini Golf', 'Golf']</td>\n",
        "      <td>...</td>\n",
        "      <td> NaN</td>\n",
        "      <td>    NaN</td>\n",
        "      <td> NaN</td>\n",
        "      <td>  NaN</td>\n",
        "      <td> []</td>\n",
        "      <td> NaN</td>\n",
        "      <td>   NaN</td>\n",
        "      <td> NaN</td>\n",
        "      <td> NaN</td>\n",
        "      <td>   NaN</td>\n",
        "    </tr>\n",
        "    <tr>\n",
        "      <th>3</th>\n",
        "      <td>   NaN</td>\n",
        "      <td> NaN</td>\n",
        "      <td>   NaN</td>\n",
        "      <td> 10:00</td>\n",
        "      <td> NaN</td>\n",
        "      <td> NaN</td>\n",
        "      <td> NaN</td>\n",
        "      <td> NaN</td>\n",
        "      <td> 10:00</td>\n",
        "      <td> ['Shopping', 'Home Services', 'Internet Servic...</td>\n",
        "      <td>...</td>\n",
        "      <td> NaN</td>\n",
        "      <td>    NaN</td>\n",
        "      <td> NaN</td>\n",
        "      <td>  NaN</td>\n",
        "      <td> []</td>\n",
        "      <td> NaN</td>\n",
        "      <td>   NaN</td>\n",
        "      <td> NaN</td>\n",
        "      <td> NaN</td>\n",
        "      <td>   NaN</td>\n",
        "    </tr>\n",
        "    <tr>\n",
        "      <th>4</th>\n",
        "      <td> False</td>\n",
        "      <td> NaN</td>\n",
        "      <td> False</td>\n",
        "      <td> 10:00</td>\n",
        "      <td> NaN</td>\n",
        "      <td> NaN</td>\n",
        "      <td> NaN</td>\n",
        "      <td> NaN</td>\n",
        "      <td> 10:00</td>\n",
        "      <td> ['Bars', 'American (New)', 'Nightlife', 'Loung...</td>\n",
        "      <td>...</td>\n",
        "      <td>  no</td>\n",
        "      <td> casual</td>\n",
        "      <td> NaN</td>\n",
        "      <td> True</td>\n",
        "      <td> []</td>\n",
        "      <td> NaN</td>\n",
        "      <td> False</td>\n",
        "      <td> NaN</td>\n",
        "      <td> NaN</td>\n",
        "      <td> False</td>\n",
        "    </tr>\n",
        "  </tbody>\n",
        "</table>\n",
        "<p>5 rows \u00d7 105 columns</p>\n",
        "</div>"
       ],
       "metadata": {},
       "output_type": "pyout",
       "prompt_number": 14,
       "text": [
        "  attributes.Ambience.divey attributes.Dietary Restrictions.vegan  \\\n",
        "0                       NaN                                   NaN   \n",
        "1                       NaN                                   NaN   \n",
        "2                       NaN                                   NaN   \n",
        "3                       NaN                                   NaN   \n",
        "4                     False                                   NaN   \n",
        "\n",
        "  attributes.Happy Hour hours.Thursday.open attributes.Order at Counter  \\\n",
        "0                   NaN               08:00                         NaN   \n",
        "1                  True                 NaN                         NaN   \n",
        "2                   NaN                 NaN                         NaN   \n",
        "3                   NaN               10:00                         NaN   \n",
        "4                 False               10:00                         NaN   \n",
        "\n",
        "  attributes.Hair Types Specialized In.africanamerican  \\\n",
        "0                                                NaN     \n",
        "1                                                NaN     \n",
        "2                                                NaN     \n",
        "3                                                NaN     \n",
        "4                                                NaN     \n",
        "\n",
        "  attributes.Hair Types Specialized In.kids attributes.BYOB hours.Friday.open  \\\n",
        "0                                       NaN             NaN             08:00   \n",
        "1                                       NaN             NaN               NaN   \n",
        "2                                       NaN             NaN               NaN   \n",
        "3                                       NaN             NaN             10:00   \n",
        "4                                       NaN             NaN             10:00   \n",
        "\n",
        "                                          categories  \\\n",
        "0                    ['Doctors', 'Health & Medical']   \n",
        "1                                      ['Nightlife']   \n",
        "2               ['Active Life', 'Mini Golf', 'Golf']   \n",
        "3  ['Shopping', 'Home Services', 'Internet Servic...   \n",
        "4  ['Bars', 'American (New)', 'Nightlife', 'Loung...   \n",
        "\n",
        "              ...              attributes.Smoking attributes.Attire  \\\n",
        "0             ...                             NaN               NaN   \n",
        "1             ...                             NaN               NaN   \n",
        "2             ...                             NaN               NaN   \n",
        "3             ...                             NaN               NaN   \n",
        "4             ...                              no            casual   \n",
        "\n",
        "  attributes.Hair Types Specialized In.curly attributes.Good For Groups  \\\n",
        "0                                        NaN                        NaN   \n",
        "1                                        NaN                       True   \n",
        "2                                        NaN                        NaN   \n",
        "3                                        NaN                        NaN   \n",
        "4                                        NaN                       True   \n",
        "\n",
        "  neighborhoods attributes.Open 24 Hours attributes.Ambience.romantic  \\\n",
        "0            []                      NaN                          NaN   \n",
        "1            []                      NaN                          NaN   \n",
        "2            []                      NaN                          NaN   \n",
        "3            []                      NaN                          NaN   \n",
        "4            []                      NaN                        False   \n",
        "\n",
        "  attributes.Hair Types Specialized In.perms attributes.Music.jukebox  \\\n",
        "0                                        NaN                      NaN   \n",
        "1                                        NaN                      NaN   \n",
        "2                                        NaN                      NaN   \n",
        "3                                        NaN                      NaN   \n",
        "4                                        NaN                      NaN   \n",
        "\n",
        "  attributes.Ambience.upscale  \n",
        "0                         NaN  \n",
        "1                         NaN  \n",
        "2                         NaN  \n",
        "3                         NaN  \n",
        "4                       False  \n",
        "\n",
        "[5 rows x 105 columns]"
       ]
      }
     ],
     "prompt_number": 14
    },
    {
     "cell_type": "code",
     "collapsed": false,
     "input": [
      "print biz.shape\n",
      "print biz.dtypes"
     ],
     "language": "python",
     "metadata": {},
     "outputs": [
      {
       "output_type": "stream",
       "stream": "stdout",
       "text": [
        "(61184, 105)\n",
        "attributes.Ambience.divey                                object\n",
        "attributes.Dietary Restrictions.vegan                    object\n",
        "attributes.Happy Hour                                    object\n",
        "hours.Thursday.open                                      object\n",
        "attributes.Order at Counter                              object\n",
        "attributes.Hair Types Specialized In.africanamerican     object\n",
        "attributes.Hair Types Specialized In.kids                object\n",
        "attributes.BYOB                                          object\n",
        "hours.Friday.open                                        object\n",
        "categories                                               object\n",
        "latitude                                                float64\n",
        "attributes.Outdoor Seating                               object\n",
        "attributes.Alcohol                                       object\n",
        "attributes.Ambience.classy                               object\n",
        "attributes.Payment Types.mastercard                      object\n",
        "...\n",
        "attributes.Dogs Allowed                       object\n",
        "attributes.Drive-Thru                         object\n",
        "attributes.Dietary Restrictions.vegetarian    object\n",
        "hours.Wednesday.open                          object\n",
        "attributes.Noise Level                        object\n",
        "attributes.Smoking                            object\n",
        "attributes.Attire                             object\n",
        "attributes.Hair Types Specialized In.curly    object\n",
        "attributes.Good For Groups                    object\n",
        "neighborhoods                                 object\n",
        "attributes.Open 24 Hours                      object\n",
        "attributes.Ambience.romantic                  object\n",
        "attributes.Hair Types Specialized In.perms    object\n",
        "attributes.Music.jukebox                      object\n",
        "attributes.Ambience.upscale                   object\n",
        "Length: 105, dtype: object\n"
       ]
      }
     ],
     "prompt_number": 15
    },
    {
     "cell_type": "code",
     "collapsed": false,
     "input": [
      "biz.describe()"
     ],
     "language": "python",
     "metadata": {},
     "outputs": [
      {
       "html": [
        "<div style=\"max-height:1000px;max-width:1500px;overflow:auto;\">\n",
        "<table border=\"1\" class=\"dataframe\">\n",
        "  <thead>\n",
        "    <tr style=\"text-align: right;\">\n",
        "      <th></th>\n",
        "      <th>latitude</th>\n",
        "      <th>review_count</th>\n",
        "      <th>open</th>\n",
        "      <th>stars</th>\n",
        "      <th>attributes.Price Range</th>\n",
        "      <th>longitude</th>\n",
        "    </tr>\n",
        "  </thead>\n",
        "  <tbody>\n",
        "    <tr>\n",
        "      <th>count</th>\n",
        "      <td> 61184.000000</td>\n",
        "      <td> 61184.000000</td>\n",
        "      <td>     61184</td>\n",
        "      <td> 61184.000000</td>\n",
        "      <td> 41694.000000</td>\n",
        "      <td> 61184.000000</td>\n",
        "    </tr>\n",
        "    <tr>\n",
        "      <th>mean</th>\n",
        "      <td>    37.326077</td>\n",
        "      <td>    28.272506</td>\n",
        "      <td>  0.878089</td>\n",
        "      <td>     3.673305</td>\n",
        "      <td>     1.800283</td>\n",
        "      <td>   -97.491803</td>\n",
        "    </tr>\n",
        "    <tr>\n",
        "      <th>std</th>\n",
        "      <td>     5.741085</td>\n",
        "      <td>    88.652050</td>\n",
        "      <td> 0.3271856</td>\n",
        "      <td>     0.891207</td>\n",
        "      <td>     0.717469</td>\n",
        "      <td>    29.624473</td>\n",
        "    </tr>\n",
        "    <tr>\n",
        "      <th>min</th>\n",
        "      <td>    32.871923</td>\n",
        "      <td>     3.000000</td>\n",
        "      <td>     False</td>\n",
        "      <td>     1.000000</td>\n",
        "      <td>     1.000000</td>\n",
        "      <td>  -115.386550</td>\n",
        "    </tr>\n",
        "    <tr>\n",
        "      <th>25%</th>\n",
        "      <td>    33.509601</td>\n",
        "      <td>     4.000000</td>\n",
        "      <td>         1</td>\n",
        "      <td>     3.000000</td>\n",
        "      <td>     1.000000</td>\n",
        "      <td>  -115.052224</td>\n",
        "    </tr>\n",
        "    <tr>\n",
        "      <th>50%</th>\n",
        "      <td>    35.994636</td>\n",
        "      <td>     8.000000</td>\n",
        "      <td>         1</td>\n",
        "      <td>     3.500000</td>\n",
        "      <td>     2.000000</td>\n",
        "      <td>  -111.932944</td>\n",
        "    </tr>\n",
        "    <tr>\n",
        "      <th>75%</th>\n",
        "      <td>    36.240430</td>\n",
        "      <td>    21.000000</td>\n",
        "      <td>         1</td>\n",
        "      <td>     4.500000</td>\n",
        "      <td>     2.000000</td>\n",
        "      <td>   -80.863329</td>\n",
        "    </tr>\n",
        "    <tr>\n",
        "      <th>max</th>\n",
        "      <td>    56.036545</td>\n",
        "      <td>  4578.000000</td>\n",
        "      <td>      True</td>\n",
        "      <td>     5.000000</td>\n",
        "      <td>     4.000000</td>\n",
        "      <td>     8.549249</td>\n",
        "    </tr>\n",
        "  </tbody>\n",
        "</table>\n",
        "</div>"
       ],
       "metadata": {},
       "output_type": "pyout",
       "prompt_number": 16,
       "text": [
        "           latitude  review_count       open         stars  \\\n",
        "count  61184.000000  61184.000000      61184  61184.000000   \n",
        "mean      37.326077     28.272506   0.878089      3.673305   \n",
        "std        5.741085     88.652050  0.3271856      0.891207   \n",
        "min       32.871923      3.000000      False      1.000000   \n",
        "25%       33.509601      4.000000          1      3.000000   \n",
        "50%       35.994636      8.000000          1      3.500000   \n",
        "75%       36.240430     21.000000          1      4.500000   \n",
        "max       56.036545   4578.000000       True      5.000000   \n",
        "\n",
        "       attributes.Price Range     longitude  \n",
        "count            41694.000000  61184.000000  \n",
        "mean                 1.800283    -97.491803  \n",
        "std                  0.717469     29.624473  \n",
        "min                  1.000000   -115.386550  \n",
        "25%                  1.000000   -115.052224  \n",
        "50%                  2.000000   -111.932944  \n",
        "75%                  2.000000    -80.863329  \n",
        "max                  4.000000      8.549249  "
       ]
      }
     ],
     "prompt_number": 16
    },
    {
     "cell_type": "code",
     "collapsed": false,
     "input": [
      "cols = ['review_count', 'stars', 'attributes.Price Range']\n",
      "pd.scatter_matrix(biz[cols], figsize=(12, 12))"
     ],
     "language": "python",
     "metadata": {},
     "outputs": [
      {
       "metadata": {},
       "output_type": "pyout",
       "prompt_number": 17,
       "text": [
        "array([[<matplotlib.axes._subplots.AxesSubplot object at 0x10a714f90>,\n",
        "        <matplotlib.axes._subplots.AxesSubplot object at 0x132538590>,\n",
        "        <matplotlib.axes._subplots.AxesSubplot object at 0x13234dc10>],\n",
        "       [<matplotlib.axes._subplots.AxesSubplot object at 0x12e1b6850>,\n",
        "        <matplotlib.axes._subplots.AxesSubplot object at 0x1213ebb90>,\n",
        "        <matplotlib.axes._subplots.AxesSubplot object at 0x11ebe8310>],\n",
        "       [<matplotlib.axes._subplots.AxesSubplot object at 0x11b0d6650>,\n",
        "        <matplotlib.axes._subplots.AxesSubplot object at 0x10c643b90>,\n",
        "        <matplotlib.axes._subplots.AxesSubplot object at 0x110303ed0>]], dtype=object)"
       ]
      },
      {
       "metadata": {},
       "output_type": "display_data",
       "png": "[encoded data removed]",
       "text": [
        "<matplotlib.figure.Figure at 0x10a34a310>"
       ]
      }
     ],
     "prompt_number": 17
    },
    {
     "cell_type": "markdown",
     "metadata": {},
     "source": [
      "* In the business dataset, each of the feature attributes such as 'Wi-fi', 'Good for kids' were represented as binary. And there was a lot of missing values.\n",
      "* Stars, price range look like continous variable but the actually discrete beacuse stars were rounded to half point and price range can only take values from 1-4\n",
      "* Most of the businesses have stars above 3.5 in this dataset"
     ]
    },
    {
     "cell_type": "markdown",
     "metadata": {},
     "source": [
      "## Predicting business features based on text reviews\n",
      "* When poeple post reviews on yelp, text reviews are required but reviews of the features of the buiness such as 'Good for Kids', 'Good for Group' , ' Have Wifi' etc. are voluntary. So it will be helpful if we can predict some of the features based on the text reviews.\n",
      "* To simplify the study, I only predict one feature: 'Is Good for Kids'. But the methdology used could be replicated to study other features as well."
     ]
    },
    {
     "cell_type": "markdown",
     "metadata": {},
     "source": [
      "### Sampling the dataset\n",
      "* Since this dataset is huge: __1,569,264__ reviews, so I need to sample the data in order to build models on it. So I took __30 reviews__ out of it and the rest could be used as OOS samples for validation"
     ]
    },
    {
     "cell_type": "code",
     "collapsed": false,
     "input": [
      "import pandas as pd\n",
      "review = pd.read_csv('./data/yelp_data/yelp_academic_dataset_review.csv')\n",
      "print review.shape\n",
      "\n",
      "sample_rows = np.random.choice(review.index.values, 30000)\n",
      "sample_reviews = review.ix[sample_rows]\n",
      "sample_reviews.head()"
     ],
     "language": "python",
     "metadata": {},
     "outputs": [
      {
       "output_type": "stream",
       "stream": "stdout",
       "text": [
        "(1569264, 10)\n"
       ]
      },
      {
       "html": [
        "<div style=\"max-height:1000px;max-width:1500px;overflow:auto;\">\n",
        "<table border=\"1\" class=\"dataframe\">\n",
        "  <thead>\n",
        "    <tr style=\"text-align: right;\">\n",
        "      <th></th>\n",
        "      <th>user_id</th>\n",
        "      <th>review_id</th>\n",
        "      <th>text</th>\n",
        "      <th>votes.cool</th>\n",
        "      <th>business_id</th>\n",
        "      <th>votes.funny</th>\n",
        "      <th>stars</th>\n",
        "      <th>date</th>\n",
        "      <th>type</th>\n",
        "      <th>votes.useful</th>\n",
        "    </tr>\n",
        "  </thead>\n",
        "  <tbody>\n",
        "    <tr>\n",
        "      <th>466302 </th>\n",
        "      <td> zHH2Iz49wCZYYDLBTv0YOg</td>\n",
        "      <td> xcOGQcr7IP1KV2rpEcPPdA</td>\n",
        "      <td> Never thought I'd find anything better than Bo...</td>\n",
        "      <td> 7</td>\n",
        "      <td> xLCbkTYQaP-nij6mEfaw7A</td>\n",
        "      <td> 7</td>\n",
        "      <td> 5</td>\n",
        "      <td> 2009-01-25</td>\n",
        "      <td> review</td>\n",
        "      <td> 7</td>\n",
        "    </tr>\n",
        "    <tr>\n",
        "      <th>394698 </th>\n",
        "      <td> p220YEtJi2hBjxoOFmcOgg</td>\n",
        "      <td> 8d620GfnZ5fHSL0kzSRIRA</td>\n",
        "      <td> I love this place, it's my 4th time here and i...</td>\n",
        "      <td> 1</td>\n",
        "      <td> SsTxjxo8qvqBMvan1rzNzg</td>\n",
        "      <td> 0</td>\n",
        "      <td> 5</td>\n",
        "      <td> 2014-08-20</td>\n",
        "      <td> review</td>\n",
        "      <td> 0</td>\n",
        "    </tr>\n",
        "    <tr>\n",
        "      <th>1341001</th>\n",
        "      <td> MFSiefeUEsb7iymt2DstRw</td>\n",
        "      <td> fjHGpisHv40TuB3p3Iu1_A</td>\n",
        "      <td> Stephanie is amazing! She is my go to person i...</td>\n",
        "      <td> 0</td>\n",
        "      <td> sZlpaIhaj9KnVpR3P9Bqnw</td>\n",
        "      <td> 0</td>\n",
        "      <td> 5</td>\n",
        "      <td> 2012-08-12</td>\n",
        "      <td> review</td>\n",
        "      <td> 0</td>\n",
        "    </tr>\n",
        "    <tr>\n",
        "      <th>1507888</th>\n",
        "      <td> q3YUPpSMqX8YbK48TodlXg</td>\n",
        "      <td> WCb6RytwYgnUZZFXpZR0uw</td>\n",
        "      <td> This place is AWESOME! The breakfast burros ar...</td>\n",
        "      <td> 1</td>\n",
        "      <td> cscosdWU2MaSJ-snEaDieg</td>\n",
        "      <td> 0</td>\n",
        "      <td> 5</td>\n",
        "      <td> 2014-08-16</td>\n",
        "      <td> review</td>\n",
        "      <td> 1</td>\n",
        "    </tr>\n",
        "    <tr>\n",
        "      <th>328528 </th>\n",
        "      <td> 7HzqUXTj_pwMnkWGf0SfIg</td>\n",
        "      <td> b-X0uDTAZIn1J76NLFWxxQ</td>\n",
        "      <td> First the great review. My second visit here a...</td>\n",
        "      <td> 1</td>\n",
        "      <td> Q_Rwcv9APBLggk2KAsBEvg</td>\n",
        "      <td> 0</td>\n",
        "      <td> 4</td>\n",
        "      <td> 2011-09-12</td>\n",
        "      <td> review</td>\n",
        "      <td> 0</td>\n",
        "    </tr>\n",
        "  </tbody>\n",
        "</table>\n",
        "</div>"
       ],
       "metadata": {},
       "output_type": "pyout",
       "prompt_number": 29,
       "text": [
        "                        user_id               review_id  \\\n",
        "466302   zHH2Iz49wCZYYDLBTv0YOg  xcOGQcr7IP1KV2rpEcPPdA   \n",
        "394698   p220YEtJi2hBjxoOFmcOgg  8d620GfnZ5fHSL0kzSRIRA   \n",
        "1341001  MFSiefeUEsb7iymt2DstRw  fjHGpisHv40TuB3p3Iu1_A   \n",
        "1507888  q3YUPpSMqX8YbK48TodlXg  WCb6RytwYgnUZZFXpZR0uw   \n",
        "328528   7HzqUXTj_pwMnkWGf0SfIg  b-X0uDTAZIn1J76NLFWxxQ   \n",
        "\n",
        "                                                      text  votes.cool  \\\n",
        "466302   Never thought I'd find anything better than Bo...           7   \n",
        "394698   I love this place, it's my 4th time here and i...           1   \n",
        "1341001  Stephanie is amazing! She is my go to person i...           0   \n",
        "1507888  This place is AWESOME! The breakfast burros ar...           1   \n",
        "328528   First the great review. My second visit here a...           1   \n",
        "\n",
        "                    business_id  votes.funny  stars        date    type  \\\n",
        "466302   xLCbkTYQaP-nij6mEfaw7A            7      5  2009-01-25  review   \n",
        "394698   SsTxjxo8qvqBMvan1rzNzg            0      5  2014-08-20  review   \n",
        "1341001  sZlpaIhaj9KnVpR3P9Bqnw            0      5  2012-08-12  review   \n",
        "1507888  cscosdWU2MaSJ-snEaDieg            0      5  2014-08-16  review   \n",
        "328528   Q_Rwcv9APBLggk2KAsBEvg            0      4  2011-09-12  review   \n",
        "\n",
        "         votes.useful  \n",
        "466302              7  \n",
        "394698              0  \n",
        "1341001             0  \n",
        "1507888             1  \n",
        "328528              0  "
       ]
      }
     ],
     "prompt_number": 29
    },
    {
     "cell_type": "markdown",
     "metadata": {},
     "source": [
      "### Merge reviews and business on business_id"
     ]
    },
    {
     "cell_type": "code",
     "collapsed": false,
     "input": [
      "biz_review = pd.merge(sample_reviews,biz,on='business_id')"
     ],
     "language": "python",
     "metadata": {},
     "outputs": [],
     "prompt_number": 19
    },
    {
     "cell_type": "code",
     "collapsed": false,
     "input": [
      "biz_review.shape"
     ],
     "language": "python",
     "metadata": {},
     "outputs": [
      {
       "metadata": {},
       "output_type": "pyout",
       "prompt_number": 20,
       "text": [
        "(30000, 114)"
       ]
      }
     ],
     "prompt_number": 20
    },
    {
     "cell_type": "code",
     "collapsed": false,
     "input": [
      "## This helper function takes in a string and return a string with stopwords removed\n",
      "def remove_stop_words(text):\n",
      "    from nltk.corpus import stopwords\n",
      "    stop = set(stopwords.words('english'))\n",
      "    return ' '.join([w for w in text.split() if not w in stop])"
     ],
     "language": "python",
     "metadata": {},
     "outputs": [],
     "prompt_number": 21
    },
    {
     "cell_type": "code",
     "collapsed": false,
     "input": [
      "df = biz_review[['attributes.Good For Kids','text','votes.useful']]\n",
      "df = df.dropna()\n",
      "df.shape"
     ],
     "language": "python",
     "metadata": {},
     "outputs": [
      {
       "metadata": {},
       "output_type": "pyout",
       "prompt_number": 34,
       "text": [
        "(5443, 3)"
       ]
      }
     ],
     "prompt_number": 34
    },
    {
     "cell_type": "code",
     "collapsed": false,
     "input": [
      "df['text_sw'] = df.text.apply(remove_stop_words)"
     ],
     "language": "python",
     "metadata": {},
     "outputs": [],
     "prompt_number": 23
    },
    {
     "cell_type": "code",
     "collapsed": false,
     "input": [
      "# Generate the feature vector and target variable\n",
      "from sklearn.feature_extraction.text import CountVectorizer\n",
      "vectorizer = CountVectorizer(ngram_range = (1,2))\n",
      "x = vectorizer.fit_transform(df.text_sw)\n",
      "y = df['attributes.Good For Kids'].values.astype(int)"
     ],
     "language": "python",
     "metadata": {},
     "outputs": [],
     "prompt_number": 24
    },
    {
     "cell_type": "code",
     "collapsed": false,
     "input": [
      "#Convert the sparse matrix back to a normal array to run feature selection\n",
      "x_back = x.toarray()\n",
      "x_df = pd.DataFrame(x_back, columns=vectorizer.get_feature_names())\n",
      "x_columns = list(x_df.columns)\n",
      "\n",
      "#Feature selection\n",
      "from sklearn import feature_selection as f_select\n",
      "significant_features = []\n",
      "pvals = []\n",
      "for feature in x_columns:\n",
      "    pval = f_select.f_classif(x_df[feature],y)\n",
      "    if pval[1][0] < 0.05:\n",
      "        significant_features.append(feature)\n",
      "        pvals.append(pval[1][0])"
     ],
     "language": "python",
     "metadata": {},
     "outputs": [],
     "prompt_number": 25
    },
    {
     "cell_type": "code",
     "collapsed": false,
     "input": [
      "from sklearn import naive_bayes, linear_model\n",
      "new_features = x_df[significant_features]\n",
      "\n",
      "from sklearn.cross_validation import cross_val_score\n",
      "scores = cross_val_score(naive_bayes.MultinomialNB(),new_features,y,scoring='roc_auc',cv=5)"
     ],
     "language": "python",
     "metadata": {},
     "outputs": [],
     "prompt_number": 26
    },
    {
     "cell_type": "code",
     "collapsed": false,
     "input": [
      "scores.mean()"
     ],
     "language": "python",
     "metadata": {},
     "outputs": [
      {
       "metadata": {},
       "output_type": "pyout",
       "prompt_number": 51,
       "text": [
        "0.86872183677052028"
       ]
      }
     ],
     "prompt_number": 51
    },
    {
     "cell_type": "code",
     "collapsed": false,
     "input": [
      "plt.figure(figsize=(8, 6))\n",
      "sns.kdeplot(np.random.normal(loc=np.array(scores).mean(), scale=np.array(scores).std(), size=10000), shade=True)"
     ],
     "language": "python",
     "metadata": {},
     "outputs": [
      {
       "metadata": {},
       "output_type": "pyout",
       "prompt_number": 28,
       "text": [
        "<matplotlib.axes._subplots.AxesSubplot at 0x1bc6b5750>"
       ]
      },
      {
       "metadata": {},
       "output_type": "display_data",
       "png": "[encoded data removed]",
       "text": [
        "<matplotlib.figure.Figure at 0x1bc6b57d0>"
       ]
      }
     ],
     "prompt_number": 28
    },
    {
     "cell_type": "markdown",
     "metadata": {},
     "source": [
      "We had 0.86 auc score from the cross validated test, which I think is pretty good."
     ]
    },
    {
     "cell_type": "markdown",
     "metadata": {},
     "source": [
      "## Can I improve the prediction by taking the useful votes of the review into account?\n",
      "* Each review has several vote columns such as, votes.funny, votes.useful and votes.cool, which are vote counts for those categories. So it might be helpful to take the useful votes into consideration."
     ]
    },
    {
     "cell_type": "code",
     "collapsed": false,
     "input": [
      "review_votes = new_features.join(df[['attributes.Good For Kids','votes.useful']]).dropna()\n",
      "features = list(review_votes.columns)\n",
      "features.remove('attributes.Good For Kids')\n",
      "y = review_votes['attributes.Good For Kids'].values.astype(int)\n",
      "x = review_votes[features]"
     ],
     "language": "python",
     "metadata": {},
     "outputs": [],
     "prompt_number": 49
    },
    {
     "cell_type": "code",
     "collapsed": false,
     "input": [
      "new_score = cross_val_score(naive_bayes.MultinomialNB(),x,y,scoring='roc_auc',cv=5)"
     ],
     "language": "python",
     "metadata": {},
     "outputs": [],
     "prompt_number": 51
    },
    {
     "cell_type": "code",
     "collapsed": false,
     "input": [
      "plt.figure(figsize=(8, 6))\n",
      "sns.kdeplot(np.random.normal(loc=np.array(new_score).mean(), scale=np.array(new_score).std(), size=10000), shade=True)"
     ],
     "language": "python",
     "metadata": {},
     "outputs": [
      {
       "metadata": {},
       "output_type": "pyout",
       "prompt_number": 54,
       "text": [
        "<matplotlib.axes._subplots.AxesSubplot at 0x113a28ed0>"
       ]
      },
      {
       "metadata": {},
       "output_type": "display_data",
       "png": "[encoded data removed]",
       "text": [
        "<matplotlib.figure.Figure at 0x113a28e90>"
       ]
      }
     ],
     "prompt_number": 54
    },
    {
     "cell_type": "markdown",
     "metadata": {},
     "source": [
      "## Conclusions and Next Steps\n",
      "1. Adding the number of useful reviews actually did worse than they other model\n",
      "2. Use the model to predict other features of the business to see if I can get desiable results.\n",
      "3. Explore data from users, tips and check-in to see if there is anything could be used for improve the model\n",
      "4. Predict review stars based on text reviews: this will be a muli-class classification so need to use SVM or other algoritems."
     ]
    }
   ],
   "metadata": {}
  }
 ]
}