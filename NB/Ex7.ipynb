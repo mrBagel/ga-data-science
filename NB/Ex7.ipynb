{
 "metadata": {
  "name": "",
  "signature": "sha256:8352183a447f7a9fa8ce18f6ff4a3debf9223250e007b45ab79abda056f1040f"
 },
 "nbformat": 3,
 "nbformat_minor": 0,
 "worksheets": [
  {
   "cells": [
    {
     "cell_type": "code",
     "collapsed": false,
     "input": [
      "%pylab inline"
     ],
     "language": "python",
     "metadata": {},
     "outputs": [
      {
       "output_type": "stream",
       "stream": "stdout",
       "text": [
        "Populating the interactive namespace from numpy and matplotlib\n"
       ]
      }
     ],
     "prompt_number": 2
    },
    {
     "cell_type": "code",
     "collapsed": false,
     "input": [
      "# any other imports here\n",
      "import pandas as pd\n",
      "import numpy as np\n",
      "import matplotlib.pyplot as plt\n",
      "import seaborn as sns\n",
      "from __future__ import division\n",
      "pd.set_option('display.max_rows', 500)\n",
      "pd.set_option('display.max_columns', 50)\n",
      "pd.set_option('display.width', 1000)"
     ],
     "language": "python",
     "metadata": {},
     "outputs": [],
     "prompt_number": 3
    },
    {
     "cell_type": "code",
     "collapsed": false,
     "input": [
      "import json\n",
      "pet = json.load(open('./data/petfinder.json'))\n",
      "petdf = pd.DataFrame(pet['results'])\n",
      "petdf['is_terrier'] = 0\n",
      "petdf.ix[petdf.primary_breed.str.contains('Terrier'),'is_terrier'] = 1\n",
      "\n",
      "petdf['is_old'] = petdf.apply(lambda x: 0 if x['age'] == 'Adult' else 0, axis =1)\n",
      "\n",
      "petdf['lat'] = petdf.apply(lambda x: x['coords'].split(',')[0],axis=1) ###SLOWWWWWWWWWWWW axis =1 is always slow\n",
      "petdf['lon'] = petdf['coords'].apply(lambda x: x.split(',')[1]) \n"
     ],
     "language": "python",
     "metadata": {},
     "outputs": [],
     "prompt_number": 31
    },
    {
     "cell_type": "code",
     "collapsed": false,
     "input": [
      "petdf.head()"
     ],
     "language": "python",
     "metadata": {},
     "outputs": [
      {
       "html": [
        "<div style=\"max-height:1000px;max-width:1500px;overflow:auto;\">\n",
        "<table border=\"1\" class=\"dataframe\">\n",
        "  <thead>\n",
        "    <tr style=\"text-align: right;\">\n",
        "      <th></th>\n",
        "      <th>age</th>\n",
        "      <th>animal</th>\n",
        "      <th>contact_name</th>\n",
        "      <th>coords</th>\n",
        "      <th>country_code</th>\n",
        "      <th>date_updated</th>\n",
        "      <th>description</th>\n",
        "      <th>email_address</th>\n",
        "      <th>export</th>\n",
        "      <th>export_api</th>\n",
        "      <th>export_partners</th>\n",
        "      <th>features</th>\n",
        "      <th>gender</th>\n",
        "      <th>id</th>\n",
        "      <th>locality</th>\n",
        "      <th>mixed_breed</th>\n",
        "      <th>name</th>\n",
        "      <th>pet_photo</th>\n",
        "      <th>pet_photo_primary</th>\n",
        "      <th>pet_video</th>\n",
        "      <th>pet_video_link</th>\n",
        "      <th>phone</th>\n",
        "      <th>postal_code</th>\n",
        "      <th>primary_breed</th>\n",
        "      <th>record_nav_links</th>\n",
        "      <th>region_code</th>\n",
        "      <th>secondary_breed</th>\n",
        "      <th>shelter_id</th>\n",
        "      <th>shelter_name</th>\n",
        "      <th>size</th>\n",
        "      <th>species</th>\n",
        "      <th>status</th>\n",
        "      <th>street_address</th>\n",
        "      <th>is_terrier</th>\n",
        "      <th>is_old</th>\n",
        "      <th>lat</th>\n",
        "      <th>lon</th>\n",
        "    </tr>\n",
        "  </thead>\n",
        "  <tbody>\n",
        "    <tr>\n",
        "      <th>0</th>\n",
        "      <td> Young</td>\n",
        "      <td> Dog</td>\n",
        "      <td> Samantha Brody</td>\n",
        "      <td> 40.7316,-73.9892</td>\n",
        "      <td> US</td>\n",
        "      <td> 2014-10-08T18:34:07Z</td>\n",
        "      <td> Please VISIT OUR FACEBOOK PAGE AND WEBSITE for...</td>\n",
        "      <td> samantha@socialteesnyc.org</td>\n",
        "      <td> True</td>\n",
        "      <td> True</td>\n",
        "      <td> True</td>\n",
        "      <td>       [House trained, Spay/Neuter, Shots Current]</td>\n",
        "      <td>   Male</td>\n",
        "      <td> 28151483</td>\n",
        "      <td> Nyc</td>\n",
        "      <td>  True</td>\n",
        "      <td> Sasha and his cat</td>\n",
        "      <td> [/photos/pets/28151483/1/?bust=1412793247, /ph...</td>\n",
        "      <td> /photos/pets/28151483/1/?bust=1412793247</td>\n",
        "      <td> NaN</td>\n",
        "      <td> NaN</td>\n",
        "      <td> NaN</td>\n",
        "      <td> 10003</td>\n",
        "      <td>              Boxer</td>\n",
        "      <td> {u'next': u'http://www.petfinder/2A0BD832-546C...</td>\n",
        "      <td> NY</td>\n",
        "      <td> Staffordshire Bull Terrier</td>\n",
        "      <td> NY835</td>\n",
        "      <td> Social Tees Animal Rescue Foundation</td>\n",
        "      <td> Medium</td>\n",
        "      <td> Dog</td>\n",
        "      <td> Adoptable</td>\n",
        "      <td> please email dimitra.socialtees@gmail.com</td>\n",
        "      <td> 0</td>\n",
        "      <td> 0</td>\n",
        "      <td> 40.7316</td>\n",
        "      <td> -73.9892</td>\n",
        "    </tr>\n",
        "    <tr>\n",
        "      <th>1</th>\n",
        "      <td> Young</td>\n",
        "      <td> Dog</td>\n",
        "      <td> Samantha Brody</td>\n",
        "      <td> 40.7316,-73.9892</td>\n",
        "      <td> US</td>\n",
        "      <td> 2014-08-20T20:56:44Z</td>\n",
        "      <td> Please VISIT OUR FACEBOOK PAGE AND WEBSITE for...</td>\n",
        "      <td> samantha@socialteesnyc.org</td>\n",
        "      <td> True</td>\n",
        "      <td> True</td>\n",
        "      <td> True</td>\n",
        "      <td>       [House trained, Spay/Neuter, Shots Current]</td>\n",
        "      <td> Female</td>\n",
        "      <td> 28523506</td>\n",
        "      <td> Nyc</td>\n",
        "      <td> False</td>\n",
        "      <td>           Chi Chi</td>\n",
        "      <td> [/photos/pets/28523506/1/?bust=1394807003, /ph...</td>\n",
        "      <td> /photos/pets/28523506/1/?bust=1394807003</td>\n",
        "      <td> NaN</td>\n",
        "      <td> NaN</td>\n",
        "      <td> NaN</td>\n",
        "      <td> 10003</td>\n",
        "      <td> Manchester Terrier</td>\n",
        "      <td> {u'previous': u'http://www.petfinder/2A0BD832-...</td>\n",
        "      <td> NY</td>\n",
        "      <td>                        NaN</td>\n",
        "      <td> NY835</td>\n",
        "      <td> Social Tees Animal Rescue Foundation</td>\n",
        "      <td>  Small</td>\n",
        "      <td> Dog</td>\n",
        "      <td> Adoptable</td>\n",
        "      <td> please email dimitra.socialtees@gmail.com</td>\n",
        "      <td> 1</td>\n",
        "      <td> 0</td>\n",
        "      <td> 40.7316</td>\n",
        "      <td> -73.9892</td>\n",
        "    </tr>\n",
        "    <tr>\n",
        "      <th>2</th>\n",
        "      <td> Adult</td>\n",
        "      <td> Dog</td>\n",
        "      <td> Samantha Brody</td>\n",
        "      <td> 40.7316,-73.9892</td>\n",
        "      <td> US</td>\n",
        "      <td> 2014-03-07T20:09:56Z</td>\n",
        "      <td> Please VISIT OUR FACEBOOK PAGE AND WEBSITE for...</td>\n",
        "      <td> samantha@socialteesnyc.org</td>\n",
        "      <td> True</td>\n",
        "      <td> True</td>\n",
        "      <td> True</td>\n",
        "      <td>       [House trained, Spay/Neuter, Shots Current]</td>\n",
        "      <td>   Male</td>\n",
        "      <td> 28607245</td>\n",
        "      <td> Nyc</td>\n",
        "      <td> False</td>\n",
        "      <td>             Beast</td>\n",
        "      <td> [/photos/pets/28607245/1/?bust=1393547223, /ph...</td>\n",
        "      <td> /photos/pets/28607245/3/?bust=1394222995</td>\n",
        "      <td> NaN</td>\n",
        "      <td> NaN</td>\n",
        "      <td> NaN</td>\n",
        "      <td> 10003</td>\n",
        "      <td>          Chihuahua</td>\n",
        "      <td> {u'next': u'http://www.petfinder/2A0BD832-546C...</td>\n",
        "      <td> NY</td>\n",
        "      <td>                        NaN</td>\n",
        "      <td> NY835</td>\n",
        "      <td> Social Tees Animal Rescue Foundation</td>\n",
        "      <td>  Small</td>\n",
        "      <td> Dog</td>\n",
        "      <td> Adoptable</td>\n",
        "      <td> please email dimitra.socialtees@gmail.com</td>\n",
        "      <td> 0</td>\n",
        "      <td> 0</td>\n",
        "      <td> 40.7316</td>\n",
        "      <td> -73.9892</td>\n",
        "    </tr>\n",
        "    <tr>\n",
        "      <th>3</th>\n",
        "      <td> Young</td>\n",
        "      <td> Dog</td>\n",
        "      <td> Samantha Brody</td>\n",
        "      <td> 40.7316,-73.9892</td>\n",
        "      <td> US</td>\n",
        "      <td> 2014-07-15T01:11:37Z</td>\n",
        "      <td> Please VISIT OUR FACEBOOK PAGE AND WEBSITE for...</td>\n",
        "      <td> samantha@socialteesnyc.org</td>\n",
        "      <td> True</td>\n",
        "      <td> True</td>\n",
        "      <td> True</td>\n",
        "      <td>       [House trained, Spay/Neuter, Shots Current]</td>\n",
        "      <td>   Male</td>\n",
        "      <td> 28628404</td>\n",
        "      <td> Nyc</td>\n",
        "      <td>  True</td>\n",
        "      <td>              Oreo</td>\n",
        "      <td> [/photos/pets/28628404/1/?bust=1393545376, /ph...</td>\n",
        "      <td> /photos/pets/28628404/1/?bust=1393545376</td>\n",
        "      <td> NaN</td>\n",
        "      <td> NaN</td>\n",
        "      <td> NaN</td>\n",
        "      <td> 10003</td>\n",
        "      <td>     Boston Terrier</td>\n",
        "      <td> {u'previous': u'http://www.petfinder/2A0BD832-...</td>\n",
        "      <td> NY</td>\n",
        "      <td>                  Chihuahua</td>\n",
        "      <td> NY835</td>\n",
        "      <td> Social Tees Animal Rescue Foundation</td>\n",
        "      <td>  Small</td>\n",
        "      <td> Dog</td>\n",
        "      <td> Adoptable</td>\n",
        "      <td> please email dimitra.socialtees@gmail.com</td>\n",
        "      <td> 1</td>\n",
        "      <td> 0</td>\n",
        "      <td> 40.7316</td>\n",
        "      <td> -73.9892</td>\n",
        "    </tr>\n",
        "    <tr>\n",
        "      <th>4</th>\n",
        "      <td> Adult</td>\n",
        "      <td> Dog</td>\n",
        "      <td> Samantha Brody</td>\n",
        "      <td> 40.7316,-73.9892</td>\n",
        "      <td> US</td>\n",
        "      <td> 2014-10-13T13:14:10Z</td>\n",
        "      <td> Please VISIT OUR FACEBOOK PAGE AND WEBSITE for...</td>\n",
        "      <td> samantha@socialteesnyc.org</td>\n",
        "      <td> True</td>\n",
        "      <td> True</td>\n",
        "      <td> True</td>\n",
        "      <td> [House trained, Spay/Neuter, Special needs, Sh...</td>\n",
        "      <td> Female</td>\n",
        "      <td> 28663255</td>\n",
        "      <td> Nyc</td>\n",
        "      <td>  True</td>\n",
        "      <td>             Daisy</td>\n",
        "      <td> [/photos/pets/28663255/1/?bust=1395841254, /ph...</td>\n",
        "      <td> /photos/pets/28663255/2/?bust=1413206050</td>\n",
        "      <td> NaN</td>\n",
        "      <td> NaN</td>\n",
        "      <td> NaN</td>\n",
        "      <td> 10003</td>\n",
        "      <td>           Shih Tzu</td>\n",
        "      <td> {u'previous': u'http://www.petfinder/2A0BD832-...</td>\n",
        "      <td> NY</td>\n",
        "      <td>       Jack Russell Terrier</td>\n",
        "      <td> NY835</td>\n",
        "      <td> Social Tees Animal Rescue Foundation</td>\n",
        "      <td>  Small</td>\n",
        "      <td> Dog</td>\n",
        "      <td> Adoptable</td>\n",
        "      <td> please email dimitra.socialtees@gmail.com</td>\n",
        "      <td> 0</td>\n",
        "      <td> 0</td>\n",
        "      <td> 40.7316</td>\n",
        "      <td> -73.9892</td>\n",
        "    </tr>\n",
        "  </tbody>\n",
        "</table>\n",
        "</div>"
       ],
       "metadata": {},
       "output_type": "pyout",
       "prompt_number": 34,
       "text": [
        "     age animal    contact_name            coords country_code          date_updated                                        description               email_address export export_api export_partners                                           features  gender        id locality mixed_breed               name                                          pet_photo                         pet_photo_primary pet_video pet_video_link phone postal_code       primary_breed                                   record_nav_links region_code             secondary_breed shelter_id                          shelter_name    size species     status                             street_address  is_terrier  is_old      lat       lon\n",
        "0  Young    Dog  Samantha Brody  40.7316,-73.9892           US  2014-10-08T18:34:07Z  Please VISIT OUR FACEBOOK PAGE AND WEBSITE for...  samantha@socialteesnyc.org   True       True            True        [House trained, Spay/Neuter, Shots Current]    Male  28151483      Nyc        True  Sasha and his cat  [/photos/pets/28151483/1/?bust=1412793247, /ph...  /photos/pets/28151483/1/?bust=1412793247       NaN            NaN   NaN       10003               Boxer  {u'next': u'http://www.petfinder/2A0BD832-546C...          NY  Staffordshire Bull Terrier      NY835  Social Tees Animal Rescue Foundation  Medium     Dog  Adoptable  please email dimitra.socialtees@gmail.com           0       0  40.7316  -73.9892\n",
        "1  Young    Dog  Samantha Brody  40.7316,-73.9892           US  2014-08-20T20:56:44Z  Please VISIT OUR FACEBOOK PAGE AND WEBSITE for...  samantha@socialteesnyc.org   True       True            True        [House trained, Spay/Neuter, Shots Current]  Female  28523506      Nyc       False            Chi Chi  [/photos/pets/28523506/1/?bust=1394807003, /ph...  /photos/pets/28523506/1/?bust=1394807003       NaN            NaN   NaN       10003  Manchester Terrier  {u'previous': u'http://www.petfinder/2A0BD832-...          NY                         NaN      NY835  Social Tees Animal Rescue Foundation   Small     Dog  Adoptable  please email dimitra.socialtees@gmail.com           1       0  40.7316  -73.9892\n",
        "2  Adult    Dog  Samantha Brody  40.7316,-73.9892           US  2014-03-07T20:09:56Z  Please VISIT OUR FACEBOOK PAGE AND WEBSITE for...  samantha@socialteesnyc.org   True       True            True        [House trained, Spay/Neuter, Shots Current]    Male  28607245      Nyc       False              Beast  [/photos/pets/28607245/1/?bust=1393547223, /ph...  /photos/pets/28607245/3/?bust=1394222995       NaN            NaN   NaN       10003           Chihuahua  {u'next': u'http://www.petfinder/2A0BD832-546C...          NY                         NaN      NY835  Social Tees Animal Rescue Foundation   Small     Dog  Adoptable  please email dimitra.socialtees@gmail.com           0       0  40.7316  -73.9892\n",
        "3  Young    Dog  Samantha Brody  40.7316,-73.9892           US  2014-07-15T01:11:37Z  Please VISIT OUR FACEBOOK PAGE AND WEBSITE for...  samantha@socialteesnyc.org   True       True            True        [House trained, Spay/Neuter, Shots Current]    Male  28628404      Nyc        True               Oreo  [/photos/pets/28628404/1/?bust=1393545376, /ph...  /photos/pets/28628404/1/?bust=1393545376       NaN            NaN   NaN       10003      Boston Terrier  {u'previous': u'http://www.petfinder/2A0BD832-...          NY                   Chihuahua      NY835  Social Tees Animal Rescue Foundation   Small     Dog  Adoptable  please email dimitra.socialtees@gmail.com           1       0  40.7316  -73.9892\n",
        "4  Adult    Dog  Samantha Brody  40.7316,-73.9892           US  2014-10-13T13:14:10Z  Please VISIT OUR FACEBOOK PAGE AND WEBSITE for...  samantha@socialteesnyc.org   True       True            True  [House trained, Spay/Neuter, Special needs, Sh...  Female  28663255      Nyc        True              Daisy  [/photos/pets/28663255/1/?bust=1395841254, /ph...  /photos/pets/28663255/2/?bust=1413206050       NaN            NaN   NaN       10003            Shih Tzu  {u'previous': u'http://www.petfinder/2A0BD832-...          NY        Jack Russell Terrier      NY835  Social Tees Animal Rescue Foundation   Small     Dog  Adoptable  please email dimitra.socialtees@gmail.com           0       0  40.7316  -73.9892"
       ]
      }
     ],
     "prompt_number": 34
    },
    {
     "cell_type": "code",
     "collapsed": false,
     "input": [
      "##Append, concat, merge, join \n",
      "##get_dummies -> get a singular marix based on the unique values\n",
      "\n",
      "ages = pd.get_dummies(petdf['age'])"
     ],
     "language": "python",
     "metadata": {},
     "outputs": [],
     "prompt_number": 37
    },
    {
     "cell_type": "code",
     "collapsed": false,
     "input": [
      "petdf.join(ages)\n"
     ],
     "language": "python",
     "metadata": {},
     "outputs": [
      {
       "html": [
        "<div style=\"max-height:1000px;max-width:1500px;overflow:auto;\">\n",
        "<table border=\"1\" class=\"dataframe\">\n",
        "  <thead>\n",
        "    <tr style=\"text-align: right;\">\n",
        "      <th></th>\n",
        "      <th>age</th>\n",
        "      <th>animal</th>\n",
        "      <th>contact_name</th>\n",
        "      <th>coords</th>\n",
        "      <th>country_code</th>\n",
        "      <th>date_updated</th>\n",
        "      <th>description</th>\n",
        "      <th>email_address</th>\n",
        "      <th>export</th>\n",
        "      <th>export_api</th>\n",
        "      <th>export_partners</th>\n",
        "      <th>features</th>\n",
        "      <th>gender</th>\n",
        "      <th>id</th>\n",
        "      <th>locality</th>\n",
        "      <th>mixed_breed</th>\n",
        "      <th>name</th>\n",
        "      <th>pet_photo</th>\n",
        "      <th>pet_photo_primary</th>\n",
        "      <th>pet_video</th>\n",
        "      <th>pet_video_link</th>\n",
        "      <th>phone</th>\n",
        "      <th>postal_code</th>\n",
        "      <th>primary_breed</th>\n",
        "      <th>record_nav_links</th>\n",
        "      <th>region_code</th>\n",
        "      <th>secondary_breed</th>\n",
        "      <th>shelter_id</th>\n",
        "      <th>shelter_name</th>\n",
        "      <th>size</th>\n",
        "      <th>species</th>\n",
        "      <th>status</th>\n",
        "      <th>street_address</th>\n",
        "      <th>is_terrier</th>\n",
        "      <th>is_old</th>\n",
        "      <th>lat</th>\n",
        "      <th>lon</th>\n",
        "      <th>Adult</th>\n",
        "      <th>Baby</th>\n",
        "      <th>Young</th>\n",
        "    </tr>\n",
        "  </thead>\n",
        "  <tbody>\n",
        "    <tr>\n",
        "      <th>0 </th>\n",
        "      <td> Young</td>\n",
        "      <td> Dog</td>\n",
        "      <td>  Samantha Brody</td>\n",
        "      <td> 40.7316,-73.9892</td>\n",
        "      <td> US</td>\n",
        "      <td> 2014-10-08T18:34:07Z</td>\n",
        "      <td> Please VISIT OUR FACEBOOK PAGE AND WEBSITE for...</td>\n",
        "      <td> samantha@socialteesnyc.org</td>\n",
        "      <td> True</td>\n",
        "      <td> True</td>\n",
        "      <td> True</td>\n",
        "      <td>       [House trained, Spay/Neuter, Shots Current]</td>\n",
        "      <td>   Male</td>\n",
        "      <td> 28151483</td>\n",
        "      <td> Nyc</td>\n",
        "      <td>  True</td>\n",
        "      <td> Sasha and his cat</td>\n",
        "      <td> [/photos/pets/28151483/1/?bust=1412793247, /ph...</td>\n",
        "      <td> /photos/pets/28151483/1/?bust=1412793247</td>\n",
        "      <td>    NaN</td>\n",
        "      <td>                                               NaN</td>\n",
        "      <td>        NaN</td>\n",
        "      <td> 10003</td>\n",
        "      <td>                   Boxer</td>\n",
        "      <td> {u'next': u'http://www.petfinder/2A0BD832-546C...</td>\n",
        "      <td> NY</td>\n",
        "      <td> Staffordshire Bull Terrier</td>\n",
        "      <td> NY835</td>\n",
        "      <td> Social Tees Animal Rescue Foundation</td>\n",
        "      <td> Medium</td>\n",
        "      <td> Dog</td>\n",
        "      <td> Adoptable</td>\n",
        "      <td> please email dimitra.socialtees@gmail.com</td>\n",
        "      <td> 0</td>\n",
        "      <td> 0</td>\n",
        "      <td> 40.7316</td>\n",
        "      <td> -73.9892</td>\n",
        "      <td> 0</td>\n",
        "      <td> 0</td>\n",
        "      <td> 1</td>\n",
        "    </tr>\n",
        "    <tr>\n",
        "      <th>1 </th>\n",
        "      <td> Young</td>\n",
        "      <td> Dog</td>\n",
        "      <td>  Samantha Brody</td>\n",
        "      <td> 40.7316,-73.9892</td>\n",
        "      <td> US</td>\n",
        "      <td> 2014-08-20T20:56:44Z</td>\n",
        "      <td> Please VISIT OUR FACEBOOK PAGE AND WEBSITE for...</td>\n",
        "      <td> samantha@socialteesnyc.org</td>\n",
        "      <td> True</td>\n",
        "      <td> True</td>\n",
        "      <td> True</td>\n",
        "      <td>       [House trained, Spay/Neuter, Shots Current]</td>\n",
        "      <td> Female</td>\n",
        "      <td> 28523506</td>\n",
        "      <td> Nyc</td>\n",
        "      <td> False</td>\n",
        "      <td>           Chi Chi</td>\n",
        "      <td> [/photos/pets/28523506/1/?bust=1394807003, /ph...</td>\n",
        "      <td> /photos/pets/28523506/1/?bust=1394807003</td>\n",
        "      <td>    NaN</td>\n",
        "      <td>                                               NaN</td>\n",
        "      <td>        NaN</td>\n",
        "      <td> 10003</td>\n",
        "      <td>      Manchester Terrier</td>\n",
        "      <td> {u'previous': u'http://www.petfinder/2A0BD832-...</td>\n",
        "      <td> NY</td>\n",
        "      <td>                        NaN</td>\n",
        "      <td> NY835</td>\n",
        "      <td> Social Tees Animal Rescue Foundation</td>\n",
        "      <td>  Small</td>\n",
        "      <td> Dog</td>\n",
        "      <td> Adoptable</td>\n",
        "      <td> please email dimitra.socialtees@gmail.com</td>\n",
        "      <td> 1</td>\n",
        "      <td> 0</td>\n",
        "      <td> 40.7316</td>\n",
        "      <td> -73.9892</td>\n",
        "      <td> 0</td>\n",
        "      <td> 0</td>\n",
        "      <td> 1</td>\n",
        "    </tr>\n",
        "    <tr>\n",
        "      <th>2 </th>\n",
        "      <td> Adult</td>\n",
        "      <td> Dog</td>\n",
        "      <td>  Samantha Brody</td>\n",
        "      <td> 40.7316,-73.9892</td>\n",
        "      <td> US</td>\n",
        "      <td> 2014-03-07T20:09:56Z</td>\n",
        "      <td> Please VISIT OUR FACEBOOK PAGE AND WEBSITE for...</td>\n",
        "      <td> samantha@socialteesnyc.org</td>\n",
        "      <td> True</td>\n",
        "      <td> True</td>\n",
        "      <td> True</td>\n",
        "      <td>       [House trained, Spay/Neuter, Shots Current]</td>\n",
        "      <td>   Male</td>\n",
        "      <td> 28607245</td>\n",
        "      <td> Nyc</td>\n",
        "      <td> False</td>\n",
        "      <td>             Beast</td>\n",
        "      <td> [/photos/pets/28607245/1/?bust=1393547223, /ph...</td>\n",
        "      <td> /photos/pets/28607245/3/?bust=1394222995</td>\n",
        "      <td>    NaN</td>\n",
        "      <td>                                               NaN</td>\n",
        "      <td>        NaN</td>\n",
        "      <td> 10003</td>\n",
        "      <td>               Chihuahua</td>\n",
        "      <td> {u'next': u'http://www.petfinder/2A0BD832-546C...</td>\n",
        "      <td> NY</td>\n",
        "      <td>                        NaN</td>\n",
        "      <td> NY835</td>\n",
        "      <td> Social Tees Animal Rescue Foundation</td>\n",
        "      <td>  Small</td>\n",
        "      <td> Dog</td>\n",
        "      <td> Adoptable</td>\n",
        "      <td> please email dimitra.socialtees@gmail.com</td>\n",
        "      <td> 0</td>\n",
        "      <td> 0</td>\n",
        "      <td> 40.7316</td>\n",
        "      <td> -73.9892</td>\n",
        "      <td> 1</td>\n",
        "      <td> 0</td>\n",
        "      <td> 0</td>\n",
        "    </tr>\n",
        "    <tr>\n",
        "      <th>3 </th>\n",
        "      <td> Young</td>\n",
        "      <td> Dog</td>\n",
        "      <td>  Samantha Brody</td>\n",
        "      <td> 40.7316,-73.9892</td>\n",
        "      <td> US</td>\n",
        "      <td> 2014-07-15T01:11:37Z</td>\n",
        "      <td> Please VISIT OUR FACEBOOK PAGE AND WEBSITE for...</td>\n",
        "      <td> samantha@socialteesnyc.org</td>\n",
        "      <td> True</td>\n",
        "      <td> True</td>\n",
        "      <td> True</td>\n",
        "      <td>       [House trained, Spay/Neuter, Shots Current]</td>\n",
        "      <td>   Male</td>\n",
        "      <td> 28628404</td>\n",
        "      <td> Nyc</td>\n",
        "      <td>  True</td>\n",
        "      <td>              Oreo</td>\n",
        "      <td> [/photos/pets/28628404/1/?bust=1393545376, /ph...</td>\n",
        "      <td> /photos/pets/28628404/1/?bust=1393545376</td>\n",
        "      <td>    NaN</td>\n",
        "      <td>                                               NaN</td>\n",
        "      <td>        NaN</td>\n",
        "      <td> 10003</td>\n",
        "      <td>          Boston Terrier</td>\n",
        "      <td> {u'previous': u'http://www.petfinder/2A0BD832-...</td>\n",
        "      <td> NY</td>\n",
        "      <td>                  Chihuahua</td>\n",
        "      <td> NY835</td>\n",
        "      <td> Social Tees Animal Rescue Foundation</td>\n",
        "      <td>  Small</td>\n",
        "      <td> Dog</td>\n",
        "      <td> Adoptable</td>\n",
        "      <td> please email dimitra.socialtees@gmail.com</td>\n",
        "      <td> 1</td>\n",
        "      <td> 0</td>\n",
        "      <td> 40.7316</td>\n",
        "      <td> -73.9892</td>\n",
        "      <td> 0</td>\n",
        "      <td> 0</td>\n",
        "      <td> 1</td>\n",
        "    </tr>\n",
        "    <tr>\n",
        "      <th>4 </th>\n",
        "      <td> Adult</td>\n",
        "      <td> Dog</td>\n",
        "      <td>  Samantha Brody</td>\n",
        "      <td> 40.7316,-73.9892</td>\n",
        "      <td> US</td>\n",
        "      <td> 2014-10-13T13:14:10Z</td>\n",
        "      <td> Please VISIT OUR FACEBOOK PAGE AND WEBSITE for...</td>\n",
        "      <td> samantha@socialteesnyc.org</td>\n",
        "      <td> True</td>\n",
        "      <td> True</td>\n",
        "      <td> True</td>\n",
        "      <td> [House trained, Spay/Neuter, Special needs, Sh...</td>\n",
        "      <td> Female</td>\n",
        "      <td> 28663255</td>\n",
        "      <td> Nyc</td>\n",
        "      <td>  True</td>\n",
        "      <td>             Daisy</td>\n",
        "      <td> [/photos/pets/28663255/1/?bust=1395841254, /ph...</td>\n",
        "      <td> /photos/pets/28663255/2/?bust=1413206050</td>\n",
        "      <td>    NaN</td>\n",
        "      <td>                                               NaN</td>\n",
        "      <td>        NaN</td>\n",
        "      <td> 10003</td>\n",
        "      <td>                Shih Tzu</td>\n",
        "      <td> {u'previous': u'http://www.petfinder/2A0BD832-...</td>\n",
        "      <td> NY</td>\n",
        "      <td>       Jack Russell Terrier</td>\n",
        "      <td> NY835</td>\n",
        "      <td> Social Tees Animal Rescue Foundation</td>\n",
        "      <td>  Small</td>\n",
        "      <td> Dog</td>\n",
        "      <td> Adoptable</td>\n",
        "      <td> please email dimitra.socialtees@gmail.com</td>\n",
        "      <td> 0</td>\n",
        "      <td> 0</td>\n",
        "      <td> 40.7316</td>\n",
        "      <td> -73.9892</td>\n",
        "      <td> 1</td>\n",
        "      <td> 0</td>\n",
        "      <td> 0</td>\n",
        "    </tr>\n",
        "    <tr>\n",
        "      <th>5 </th>\n",
        "      <td> Young</td>\n",
        "      <td> Dog</td>\n",
        "      <td>  Samantha Brody</td>\n",
        "      <td> 40.7316,-73.9892</td>\n",
        "      <td> US</td>\n",
        "      <td> 2014-07-28T15:09:15Z</td>\n",
        "      <td> Please VISIT OUR FACEBOOK PAGE AND WEBSITE for...</td>\n",
        "      <td> samantha@socialteesnyc.org</td>\n",
        "      <td> True</td>\n",
        "      <td> True</td>\n",
        "      <td> True</td>\n",
        "      <td>       [House trained, Spay/Neuter, Shots Current]</td>\n",
        "      <td> Female</td>\n",
        "      <td> 28672414</td>\n",
        "      <td> Nyc</td>\n",
        "      <td>  True</td>\n",
        "      <td>     Salt &amp; Pepper</td>\n",
        "      <td> [/photos/pets/28672414/1/?bust=1406560156, /ph...</td>\n",
        "      <td> /photos/pets/28672414/1/?bust=1406560156</td>\n",
        "      <td>    NaN</td>\n",
        "      <td>                                               NaN</td>\n",
        "      <td>        NaN</td>\n",
        "      <td> 10003</td>\n",
        "      <td>               Chihuahua</td>\n",
        "      <td> {u'previous': u'http://www.petfinder/2A0BD832-...</td>\n",
        "      <td> NY</td>\n",
        "      <td>                    Terrier</td>\n",
        "      <td> NY835</td>\n",
        "      <td> Social Tees Animal Rescue Foundation</td>\n",
        "      <td>  Small</td>\n",
        "      <td> Dog</td>\n",
        "      <td> Adoptable</td>\n",
        "      <td> please email dimitra.socialtees@gmail.com</td>\n",
        "      <td> 0</td>\n",
        "      <td> 0</td>\n",
        "      <td> 40.7316</td>\n",
        "      <td> -73.9892</td>\n",
        "      <td> 0</td>\n",
        "      <td> 0</td>\n",
        "      <td> 1</td>\n",
        "    </tr>\n",
        "    <tr>\n",
        "      <th>6 </th>\n",
        "      <td> Young</td>\n",
        "      <td> Dog</td>\n",
        "      <td>  Samantha Brody</td>\n",
        "      <td> 40.7316,-73.9892</td>\n",
        "      <td> US</td>\n",
        "      <td> 2014-04-27T19:30:38Z</td>\n",
        "      <td> Please VISIT OUR FACEBOOK PAGE AND WEBSITE for...</td>\n",
        "      <td> samantha@socialteesnyc.org</td>\n",
        "      <td> True</td>\n",
        "      <td> True</td>\n",
        "      <td> True</td>\n",
        "      <td>       [House trained, Spay/Neuter, Shots Current]</td>\n",
        "      <td>   Male</td>\n",
        "      <td> 29086443</td>\n",
        "      <td> Nyc</td>\n",
        "      <td> False</td>\n",
        "      <td>           Element</td>\n",
        "      <td> [/photos/pets/29086443/1/?bust=1398627037, /ph...</td>\n",
        "      <td> /photos/pets/29086443/1/?bust=1398627037</td>\n",
        "      <td>    NaN</td>\n",
        "      <td>                                               NaN</td>\n",
        "      <td>        NaN</td>\n",
        "      <td> 10003</td>\n",
        "      <td>                Shih Tzu</td>\n",
        "      <td> {u'next': u'http://www.petfinder/2A0BD832-546C...</td>\n",
        "      <td> NY</td>\n",
        "      <td>                        NaN</td>\n",
        "      <td> NY835</td>\n",
        "      <td> Social Tees Animal Rescue Foundation</td>\n",
        "      <td>  Small</td>\n",
        "      <td> Dog</td>\n",
        "      <td> Adoptable</td>\n",
        "      <td> please email dimitra.socialtees@gmail.com</td>\n",
        "      <td> 0</td>\n",
        "      <td> 0</td>\n",
        "      <td> 40.7316</td>\n",
        "      <td> -73.9892</td>\n",
        "      <td> 0</td>\n",
        "      <td> 0</td>\n",
        "      <td> 1</td>\n",
        "    </tr>\n",
        "    <tr>\n",
        "      <th>7 </th>\n",
        "      <td> Young</td>\n",
        "      <td> Cat</td>\n",
        "      <td>  Samantha Brody</td>\n",
        "      <td> 40.7316,-73.9892</td>\n",
        "      <td> US</td>\n",
        "      <td> 2014-06-06T13:59:06Z</td>\n",
        "      <td> Please VISIT OUR FACEBOOK PAGE AND WEBSITE for...</td>\n",
        "      <td> samantha@socialteesnyc.org</td>\n",
        "      <td> True</td>\n",
        "      <td> True</td>\n",
        "      <td> True</td>\n",
        "      <td>       [House trained, Spay/Neuter, Shots Current]</td>\n",
        "      <td> Female</td>\n",
        "      <td> 29417489</td>\n",
        "      <td> Nyc</td>\n",
        "      <td> False</td>\n",
        "      <td>             Kiara</td>\n",
        "      <td> [/photos/pets/29417489/1/?bust=1402063145, /ph...</td>\n",
        "      <td> /photos/pets/29417489/1/?bust=1402063145</td>\n",
        "      <td>    NaN</td>\n",
        "      <td>                                               NaN</td>\n",
        "      <td>        NaN</td>\n",
        "      <td> 10003</td>\n",
        "      <td>           Tortoiseshell</td>\n",
        "      <td> {u'next': u'http://www.petfinder/2A0BD832-546C...</td>\n",
        "      <td> NY</td>\n",
        "      <td>                        NaN</td>\n",
        "      <td> NY835</td>\n",
        "      <td> Social Tees Animal Rescue Foundation</td>\n",
        "      <td> Medium</td>\n",
        "      <td> Cat</td>\n",
        "      <td> Adoptable</td>\n",
        "      <td> please email dimitra.socialtees@gmail.com</td>\n",
        "      <td> 0</td>\n",
        "      <td> 0</td>\n",
        "      <td> 40.7316</td>\n",
        "      <td> -73.9892</td>\n",
        "      <td> 0</td>\n",
        "      <td> 0</td>\n",
        "      <td> 1</td>\n",
        "    </tr>\n",
        "    <tr>\n",
        "      <th>8 </th>\n",
        "      <td> Adult</td>\n",
        "      <td> Dog</td>\n",
        "      <td>  Samantha Brody</td>\n",
        "      <td> 40.7316,-73.9892</td>\n",
        "      <td> US</td>\n",
        "      <td> 2014-07-21T23:29:08Z</td>\n",
        "      <td> Please VISIT OUR FACEBOOK PAGE AND WEBSITE for...</td>\n",
        "      <td> samantha@socialteesnyc.org</td>\n",
        "      <td> True</td>\n",
        "      <td> True</td>\n",
        "      <td> True</td>\n",
        "      <td>       [House trained, Spay/Neuter, Shots Current]</td>\n",
        "      <td>   Male</td>\n",
        "      <td> 29489420</td>\n",
        "      <td> Nyc</td>\n",
        "      <td>  True</td>\n",
        "      <td>             Ricky</td>\n",
        "      <td> [/photos/pets/29489420/1/?bust=1405985332, /ph...</td>\n",
        "      <td> /photos/pets/29489420/1/?bust=1405985332</td>\n",
        "      <td>    NaN</td>\n",
        "      <td>                                               NaN</td>\n",
        "      <td>        NaN</td>\n",
        "      <td> 10003</td>\n",
        "      <td>               Chihuahua</td>\n",
        "      <td> {u'previous': u'http://www.petfinder/2A0BD832-...</td>\n",
        "      <td> NY</td>\n",
        "      <td>                    Terrier</td>\n",
        "      <td> NY835</td>\n",
        "      <td> Social Tees Animal Rescue Foundation</td>\n",
        "      <td>  Small</td>\n",
        "      <td> Dog</td>\n",
        "      <td> Adoptable</td>\n",
        "      <td> please email dimitra.socialtees@gmail.com</td>\n",
        "      <td> 0</td>\n",
        "      <td> 0</td>\n",
        "      <td> 40.7316</td>\n",
        "      <td> -73.9892</td>\n",
        "      <td> 1</td>\n",
        "      <td> 0</td>\n",
        "      <td> 0</td>\n",
        "    </tr>\n",
        "    <tr>\n",
        "      <th>9 </th>\n",
        "      <td> Young</td>\n",
        "      <td> Dog</td>\n",
        "      <td> Dimitra Bennett</td>\n",
        "      <td> 40.7316,-73.9892</td>\n",
        "      <td> US</td>\n",
        "      <td> 2014-09-20T23:27:52Z</td>\n",
        "      <td> Please VISIT OUR FACEBOOK PAGE AND WEBSITE for...</td>\n",
        "      <td>  dimitra@socialteesnyc.org</td>\n",
        "      <td> True</td>\n",
        "      <td> True</td>\n",
        "      <td> True</td>\n",
        "      <td>       [House trained, Spay/Neuter, Shots Current]</td>\n",
        "      <td>   Male</td>\n",
        "      <td> 29627267</td>\n",
        "      <td> Nyc</td>\n",
        "      <td>  True</td>\n",
        "      <td>            Zayden</td>\n",
        "      <td> [/photos/pets/29627267/1/?bust=1405985429, /ph...</td>\n",
        "      <td> /photos/pets/29627267/2/?bust=1411255672</td>\n",
        "      <td>    NaN</td>\n",
        "      <td>                                               NaN</td>\n",
        "      <td> 7182131099</td>\n",
        "      <td> 10003</td>\n",
        "      <td>      Labrador Retriever</td>\n",
        "      <td> {u'next': u'http://www.petfinder/2A0BD832-546C...</td>\n",
        "      <td> NY</td>\n",
        "      <td>                      Husky</td>\n",
        "      <td> NY835</td>\n",
        "      <td> Social Tees Animal Rescue Foundation</td>\n",
        "      <td> Medium</td>\n",
        "      <td> Dog</td>\n",
        "      <td> Adoptable</td>\n",
        "      <td> please email dimitra.socialtees@gmail.com</td>\n",
        "      <td> 0</td>\n",
        "      <td> 0</td>\n",
        "      <td> 40.7316</td>\n",
        "      <td> -73.9892</td>\n",
        "      <td> 0</td>\n",
        "      <td> 0</td>\n",
        "      <td> 1</td>\n",
        "    </tr>\n",
        "    <tr>\n",
        "      <th>10</th>\n",
        "      <td> Young</td>\n",
        "      <td> Dog</td>\n",
        "      <td>  Samantha Brody</td>\n",
        "      <td> 40.7316,-73.9892</td>\n",
        "      <td> US</td>\n",
        "      <td> 2014-09-09T16:09:07Z</td>\n",
        "      <td> Please VISIT OUR FACEBOOK PAGE AND WEBSITE for...</td>\n",
        "      <td> samantha@socialteesnyc.org</td>\n",
        "      <td> True</td>\n",
        "      <td> True</td>\n",
        "      <td> True</td>\n",
        "      <td>       [House trained, Spay/Neuter, Shots Current]</td>\n",
        "      <td> Female</td>\n",
        "      <td> 29823933</td>\n",
        "      <td> Nyc</td>\n",
        "      <td>  True</td>\n",
        "      <td>          Ladybird</td>\n",
        "      <td> [/photos/pets/29823933/1/?bust=1410210303, /ph...</td>\n",
        "      <td> /photos/pets/29823933/2/?bust=1410278947</td>\n",
        "      <td>    NaN</td>\n",
        "      <td>                                               NaN</td>\n",
        "      <td>        NaN</td>\n",
        "      <td> 10003</td>\n",
        "      <td> Black and Tan Coonhound</td>\n",
        "      <td> {u'next': u'http://www.petfinder/2A0BD832-546C...</td>\n",
        "      <td> NY</td>\n",
        "      <td>                      Hound</td>\n",
        "      <td> NY835</td>\n",
        "      <td> Social Tees Animal Rescue Foundation</td>\n",
        "      <td> Medium</td>\n",
        "      <td> Dog</td>\n",
        "      <td> Adoptable</td>\n",
        "      <td> please email dimitra.socialtees@gmail.com</td>\n",
        "      <td> 0</td>\n",
        "      <td> 0</td>\n",
        "      <td> 40.7316</td>\n",
        "      <td> -73.9892</td>\n",
        "      <td> 0</td>\n",
        "      <td> 0</td>\n",
        "      <td> 1</td>\n",
        "    </tr>\n",
        "    <tr>\n",
        "      <th>11</th>\n",
        "      <td> Young</td>\n",
        "      <td> Dog</td>\n",
        "      <td>  Samantha Brody</td>\n",
        "      <td> 40.7316,-73.9892</td>\n",
        "      <td> US</td>\n",
        "      <td> 2014-09-15T15:27:49Z</td>\n",
        "      <td> Please VISIT OUR FACEBOOK PAGE AND WEBSITE for...</td>\n",
        "      <td> samantha@socialteesnyc.org</td>\n",
        "      <td> True</td>\n",
        "      <td> True</td>\n",
        "      <td> True</td>\n",
        "      <td>       [House trained, Spay/Neuter, Shots Current]</td>\n",
        "      <td>   Male</td>\n",
        "      <td> 29990897</td>\n",
        "      <td> Nyc</td>\n",
        "      <td>  True</td>\n",
        "      <td>        Champ Blue</td>\n",
        "      <td> [/photos/pets/29990897/1/?bust=1410794869, /ph...</td>\n",
        "      <td> /photos/pets/29990897/1/?bust=1410794869</td>\n",
        "      <td>    NaN</td>\n",
        "      <td>                                               NaN</td>\n",
        "      <td>        NaN</td>\n",
        "      <td> 10003</td>\n",
        "      <td>   Catahoula Leopard Dog</td>\n",
        "      <td> {u'next': u'http://www.petfinder/2A0BD832-546C...</td>\n",
        "      <td> NY</td>\n",
        "      <td>           Pit Bull Terrier</td>\n",
        "      <td> NY835</td>\n",
        "      <td> Social Tees Animal Rescue Foundation</td>\n",
        "      <td> Medium</td>\n",
        "      <td> Dog</td>\n",
        "      <td> Adoptable</td>\n",
        "      <td> please email dimitra.socialtees@gmail.com</td>\n",
        "      <td> 0</td>\n",
        "      <td> 0</td>\n",
        "      <td> 40.7316</td>\n",
        "      <td> -73.9892</td>\n",
        "      <td> 0</td>\n",
        "      <td> 0</td>\n",
        "      <td> 1</td>\n",
        "    </tr>\n",
        "    <tr>\n",
        "      <th>12</th>\n",
        "      <td> Young</td>\n",
        "      <td> Dog</td>\n",
        "      <td>  Samantha Brody</td>\n",
        "      <td> 40.7316,-73.9892</td>\n",
        "      <td> US</td>\n",
        "      <td> 2014-09-16T15:32:26Z</td>\n",
        "      <td> Please VISIT OUR FACEBOOK PAGE AND WEBSITE for...</td>\n",
        "      <td> samantha@socialteesnyc.org</td>\n",
        "      <td> True</td>\n",
        "      <td> True</td>\n",
        "      <td> True</td>\n",
        "      <td> [House trained, Spay/Neuter, Special needs, Sh...</td>\n",
        "      <td> Female</td>\n",
        "      <td> 30030684</td>\n",
        "      <td> Nyc</td>\n",
        "      <td> False</td>\n",
        "      <td>          Princess</td>\n",
        "      <td> [/photos/pets/30030684/1/?bust=1410881516, /ph...</td>\n",
        "      <td> /photos/pets/30030684/1/?bust=1410881516</td>\n",
        "      <td> v1l3m6</td>\n",
        "      <td> &lt;iframe frameborder=\"0\" allowfullscreen webkit...</td>\n",
        "      <td>        NaN</td>\n",
        "      <td> 10003</td>\n",
        "      <td>                Shih Tzu</td>\n",
        "      <td> {u'previous': u'http://www.petfinder/2A0BD832-...</td>\n",
        "      <td> NY</td>\n",
        "      <td>                        NaN</td>\n",
        "      <td> NY835</td>\n",
        "      <td> Social Tees Animal Rescue Foundation</td>\n",
        "      <td>  Small</td>\n",
        "      <td> Dog</td>\n",
        "      <td> Adoptable</td>\n",
        "      <td> please email dimitra.socialtees@gmail.com</td>\n",
        "      <td> 0</td>\n",
        "      <td> 0</td>\n",
        "      <td> 40.7316</td>\n",
        "      <td> -73.9892</td>\n",
        "      <td> 0</td>\n",
        "      <td> 0</td>\n",
        "      <td> 1</td>\n",
        "    </tr>\n",
        "    <tr>\n",
        "      <th>13</th>\n",
        "      <td>  Baby</td>\n",
        "      <td> Dog</td>\n",
        "      <td> Dimitra Bennett</td>\n",
        "      <td> 40.7316,-73.9892</td>\n",
        "      <td> US</td>\n",
        "      <td> 2014-10-12T04:56:18Z</td>\n",
        "      <td> Please VISIT OUR FACEBOOK PAGE AND WEBSITE for...</td>\n",
        "      <td>  dimitra@socialteesnyc.org</td>\n",
        "      <td> True</td>\n",
        "      <td> True</td>\n",
        "      <td> True</td>\n",
        "      <td>       [House trained, Spay/Neuter, Shots Current]</td>\n",
        "      <td> Female</td>\n",
        "      <td> 30085215</td>\n",
        "      <td> Nyc</td>\n",
        "      <td> False</td>\n",
        "      <td>             MOLLY</td>\n",
        "      <td> [/photos/pets/30085215/1/?bust=1408632368, /ph...</td>\n",
        "      <td> /photos/pets/30085215/1/?bust=1408632368</td>\n",
        "      <td>    NaN</td>\n",
        "      <td>                                               NaN</td>\n",
        "      <td> 7182131099</td>\n",
        "      <td> 10003</td>\n",
        "      <td>              Weimaraner</td>\n",
        "      <td> {u'next': u'http://www.petfinder/2A0BD832-546C...</td>\n",
        "      <td> NY</td>\n",
        "      <td>                        NaN</td>\n",
        "      <td> NY835</td>\n",
        "      <td> Social Tees Animal Rescue Foundation</td>\n",
        "      <td> Medium</td>\n",
        "      <td> Dog</td>\n",
        "      <td> Adoptable</td>\n",
        "      <td> please email dimitra.socialtees@gmail.com</td>\n",
        "      <td> 0</td>\n",
        "      <td> 0</td>\n",
        "      <td> 40.7316</td>\n",
        "      <td> -73.9892</td>\n",
        "      <td> 0</td>\n",
        "      <td> 1</td>\n",
        "      <td> 0</td>\n",
        "    </tr>\n",
        "    <tr>\n",
        "      <th>14</th>\n",
        "      <td> Young</td>\n",
        "      <td> Dog</td>\n",
        "      <td>  Samantha Brody</td>\n",
        "      <td> 40.7316,-73.9892</td>\n",
        "      <td> US</td>\n",
        "      <td> 2014-09-08T18:09:12Z</td>\n",
        "      <td> Please VISIT OUR FACEBOOK PAGE AND WEBSITE for...</td>\n",
        "      <td> samantha@socialteesnyc.org</td>\n",
        "      <td> True</td>\n",
        "      <td> True</td>\n",
        "      <td> True</td>\n",
        "      <td>       [House trained, Spay/Neuter, Shots Current]</td>\n",
        "      <td>   Male</td>\n",
        "      <td> 30093114</td>\n",
        "      <td> Nyc</td>\n",
        "      <td>  True</td>\n",
        "      <td>              Papi</td>\n",
        "      <td> [/photos/pets/30093114/1/?bust=1408671490, /ph...</td>\n",
        "      <td> /photos/pets/30093114/3/?bust=1410199752</td>\n",
        "      <td>    NaN</td>\n",
        "      <td>                                               NaN</td>\n",
        "      <td>        NaN</td>\n",
        "      <td> 10003</td>\n",
        "      <td>                 Maltese</td>\n",
        "      <td> {u'next': u'http://www.petfinder/2A0BD832-546C...</td>\n",
        "      <td> NY</td>\n",
        "      <td>                     Poodle</td>\n",
        "      <td> NY835</td>\n",
        "      <td> Social Tees Animal Rescue Foundation</td>\n",
        "      <td>  Small</td>\n",
        "      <td> Dog</td>\n",
        "      <td> Adoptable</td>\n",
        "      <td> please email dimitra.socialtees@gmail.com</td>\n",
        "      <td> 0</td>\n",
        "      <td> 0</td>\n",
        "      <td> 40.7316</td>\n",
        "      <td> -73.9892</td>\n",
        "      <td> 0</td>\n",
        "      <td> 0</td>\n",
        "      <td> 1</td>\n",
        "    </tr>\n",
        "  </tbody>\n",
        "</table>\n",
        "</div>"
       ],
       "metadata": {},
       "output_type": "pyout",
       "prompt_number": 39,
       "text": [
        "      age animal     contact_name            coords country_code          date_updated                                        description               email_address export export_api export_partners                                           features  gender        id locality mixed_breed               name                                          pet_photo                         pet_photo_primary pet_video                                     pet_video_link       phone postal_code            primary_breed                                   record_nav_links region_code             secondary_breed shelter_id                          shelter_name    size species     status                             street_address  is_terrier  is_old      lat       lon  Adult  Baby  Young\n",
        "0   Young    Dog   Samantha Brody  40.7316,-73.9892           US  2014-10-08T18:34:07Z  Please VISIT OUR FACEBOOK PAGE AND WEBSITE for...  samantha@socialteesnyc.org   True       True            True        [House trained, Spay/Neuter, Shots Current]    Male  28151483      Nyc        True  Sasha and his cat  [/photos/pets/28151483/1/?bust=1412793247, /ph...  /photos/pets/28151483/1/?bust=1412793247       NaN                                                NaN         NaN       10003                    Boxer  {u'next': u'http://www.petfinder/2A0BD832-546C...          NY  Staffordshire Bull Terrier      NY835  Social Tees Animal Rescue Foundation  Medium     Dog  Adoptable  please email dimitra.socialtees@gmail.com           0       0  40.7316  -73.9892      0     0      1\n",
        "1   Young    Dog   Samantha Brody  40.7316,-73.9892           US  2014-08-20T20:56:44Z  Please VISIT OUR FACEBOOK PAGE AND WEBSITE for...  samantha@socialteesnyc.org   True       True            True        [House trained, Spay/Neuter, Shots Current]  Female  28523506      Nyc       False            Chi Chi  [/photos/pets/28523506/1/?bust=1394807003, /ph...  /photos/pets/28523506/1/?bust=1394807003       NaN                                                NaN         NaN       10003       Manchester Terrier  {u'previous': u'http://www.petfinder/2A0BD832-...          NY                         NaN      NY835  Social Tees Animal Rescue Foundation   Small     Dog  Adoptable  please email dimitra.socialtees@gmail.com           1       0  40.7316  -73.9892      0     0      1\n",
        "2   Adult    Dog   Samantha Brody  40.7316,-73.9892           US  2014-03-07T20:09:56Z  Please VISIT OUR FACEBOOK PAGE AND WEBSITE for...  samantha@socialteesnyc.org   True       True            True        [House trained, Spay/Neuter, Shots Current]    Male  28607245      Nyc       False              Beast  [/photos/pets/28607245/1/?bust=1393547223, /ph...  /photos/pets/28607245/3/?bust=1394222995       NaN                                                NaN         NaN       10003                Chihuahua  {u'next': u'http://www.petfinder/2A0BD832-546C...          NY                         NaN      NY835  Social Tees Animal Rescue Foundation   Small     Dog  Adoptable  please email dimitra.socialtees@gmail.com           0       0  40.7316  -73.9892      1     0      0\n",
        "3   Young    Dog   Samantha Brody  40.7316,-73.9892           US  2014-07-15T01:11:37Z  Please VISIT OUR FACEBOOK PAGE AND WEBSITE for...  samantha@socialteesnyc.org   True       True            True        [House trained, Spay/Neuter, Shots Current]    Male  28628404      Nyc        True               Oreo  [/photos/pets/28628404/1/?bust=1393545376, /ph...  /photos/pets/28628404/1/?bust=1393545376       NaN                                                NaN         NaN       10003           Boston Terrier  {u'previous': u'http://www.petfinder/2A0BD832-...          NY                   Chihuahua      NY835  Social Tees Animal Rescue Foundation   Small     Dog  Adoptable  please email dimitra.socialtees@gmail.com           1       0  40.7316  -73.9892      0     0      1\n",
        "4   Adult    Dog   Samantha Brody  40.7316,-73.9892           US  2014-10-13T13:14:10Z  Please VISIT OUR FACEBOOK PAGE AND WEBSITE for...  samantha@socialteesnyc.org   True       True            True  [House trained, Spay/Neuter, Special needs, Sh...  Female  28663255      Nyc        True              Daisy  [/photos/pets/28663255/1/?bust=1395841254, /ph...  /photos/pets/28663255/2/?bust=1413206050       NaN                                                NaN         NaN       10003                 Shih Tzu  {u'previous': u'http://www.petfinder/2A0BD832-...          NY        Jack Russell Terrier      NY835  Social Tees Animal Rescue Foundation   Small     Dog  Adoptable  please email dimitra.socialtees@gmail.com           0       0  40.7316  -73.9892      1     0      0\n",
        "5   Young    Dog   Samantha Brody  40.7316,-73.9892           US  2014-07-28T15:09:15Z  Please VISIT OUR FACEBOOK PAGE AND WEBSITE for...  samantha@socialteesnyc.org   True       True            True        [House trained, Spay/Neuter, Shots Current]  Female  28672414      Nyc        True      Salt & Pepper  [/photos/pets/28672414/1/?bust=1406560156, /ph...  /photos/pets/28672414/1/?bust=1406560156       NaN                                                NaN         NaN       10003                Chihuahua  {u'previous': u'http://www.petfinder/2A0BD832-...          NY                     Terrier      NY835  Social Tees Animal Rescue Foundation   Small     Dog  Adoptable  please email dimitra.socialtees@gmail.com           0       0  40.7316  -73.9892      0     0      1\n",
        "6   Young    Dog   Samantha Brody  40.7316,-73.9892           US  2014-04-27T19:30:38Z  Please VISIT OUR FACEBOOK PAGE AND WEBSITE for...  samantha@socialteesnyc.org   True       True            True        [House trained, Spay/Neuter, Shots Current]    Male  29086443      Nyc       False            Element  [/photos/pets/29086443/1/?bust=1398627037, /ph...  /photos/pets/29086443/1/?bust=1398627037       NaN                                                NaN         NaN       10003                 Shih Tzu  {u'next': u'http://www.petfinder/2A0BD832-546C...          NY                         NaN      NY835  Social Tees Animal Rescue Foundation   Small     Dog  Adoptable  please email dimitra.socialtees@gmail.com           0       0  40.7316  -73.9892      0     0      1\n",
        "7   Young    Cat   Samantha Brody  40.7316,-73.9892           US  2014-06-06T13:59:06Z  Please VISIT OUR FACEBOOK PAGE AND WEBSITE for...  samantha@socialteesnyc.org   True       True            True        [House trained, Spay/Neuter, Shots Current]  Female  29417489      Nyc       False              Kiara  [/photos/pets/29417489/1/?bust=1402063145, /ph...  /photos/pets/29417489/1/?bust=1402063145       NaN                                                NaN         NaN       10003            Tortoiseshell  {u'next': u'http://www.petfinder/2A0BD832-546C...          NY                         NaN      NY835  Social Tees Animal Rescue Foundation  Medium     Cat  Adoptable  please email dimitra.socialtees@gmail.com           0       0  40.7316  -73.9892      0     0      1\n",
        "8   Adult    Dog   Samantha Brody  40.7316,-73.9892           US  2014-07-21T23:29:08Z  Please VISIT OUR FACEBOOK PAGE AND WEBSITE for...  samantha@socialteesnyc.org   True       True            True        [House trained, Spay/Neuter, Shots Current]    Male  29489420      Nyc        True              Ricky  [/photos/pets/29489420/1/?bust=1405985332, /ph...  /photos/pets/29489420/1/?bust=1405985332       NaN                                                NaN         NaN       10003                Chihuahua  {u'previous': u'http://www.petfinder/2A0BD832-...          NY                     Terrier      NY835  Social Tees Animal Rescue Foundation   Small     Dog  Adoptable  please email dimitra.socialtees@gmail.com           0       0  40.7316  -73.9892      1     0      0\n",
        "9   Young    Dog  Dimitra Bennett  40.7316,-73.9892           US  2014-09-20T23:27:52Z  Please VISIT OUR FACEBOOK PAGE AND WEBSITE for...   dimitra@socialteesnyc.org   True       True            True        [House trained, Spay/Neuter, Shots Current]    Male  29627267      Nyc        True             Zayden  [/photos/pets/29627267/1/?bust=1405985429, /ph...  /photos/pets/29627267/2/?bust=1411255672       NaN                                                NaN  7182131099       10003       Labrador Retriever  {u'next': u'http://www.petfinder/2A0BD832-546C...          NY                       Husky      NY835  Social Tees Animal Rescue Foundation  Medium     Dog  Adoptable  please email dimitra.socialtees@gmail.com           0       0  40.7316  -73.9892      0     0      1\n",
        "10  Young    Dog   Samantha Brody  40.7316,-73.9892           US  2014-09-09T16:09:07Z  Please VISIT OUR FACEBOOK PAGE AND WEBSITE for...  samantha@socialteesnyc.org   True       True            True        [House trained, Spay/Neuter, Shots Current]  Female  29823933      Nyc        True           Ladybird  [/photos/pets/29823933/1/?bust=1410210303, /ph...  /photos/pets/29823933/2/?bust=1410278947       NaN                                                NaN         NaN       10003  Black and Tan Coonhound  {u'next': u'http://www.petfinder/2A0BD832-546C...          NY                       Hound      NY835  Social Tees Animal Rescue Foundation  Medium     Dog  Adoptable  please email dimitra.socialtees@gmail.com           0       0  40.7316  -73.9892      0     0      1\n",
        "11  Young    Dog   Samantha Brody  40.7316,-73.9892           US  2014-09-15T15:27:49Z  Please VISIT OUR FACEBOOK PAGE AND WEBSITE for...  samantha@socialteesnyc.org   True       True            True        [House trained, Spay/Neuter, Shots Current]    Male  29990897      Nyc        True         Champ Blue  [/photos/pets/29990897/1/?bust=1410794869, /ph...  /photos/pets/29990897/1/?bust=1410794869       NaN                                                NaN         NaN       10003    Catahoula Leopard Dog  {u'next': u'http://www.petfinder/2A0BD832-546C...          NY            Pit Bull Terrier      NY835  Social Tees Animal Rescue Foundation  Medium     Dog  Adoptable  please email dimitra.socialtees@gmail.com           0       0  40.7316  -73.9892      0     0      1\n",
        "12  Young    Dog   Samantha Brody  40.7316,-73.9892           US  2014-09-16T15:32:26Z  Please VISIT OUR FACEBOOK PAGE AND WEBSITE for...  samantha@socialteesnyc.org   True       True            True  [House trained, Spay/Neuter, Special needs, Sh...  Female  30030684      Nyc       False           Princess  [/photos/pets/30030684/1/?bust=1410881516, /ph...  /photos/pets/30030684/1/?bust=1410881516    v1l3m6  <iframe frameborder=\"0\" allowfullscreen webkit...         NaN       10003                 Shih Tzu  {u'previous': u'http://www.petfinder/2A0BD832-...          NY                         NaN      NY835  Social Tees Animal Rescue Foundation   Small     Dog  Adoptable  please email dimitra.socialtees@gmail.com           0       0  40.7316  -73.9892      0     0      1\n",
        "13   Baby    Dog  Dimitra Bennett  40.7316,-73.9892           US  2014-10-12T04:56:18Z  Please VISIT OUR FACEBOOK PAGE AND WEBSITE for...   dimitra@socialteesnyc.org   True       True            True        [House trained, Spay/Neuter, Shots Current]  Female  30085215      Nyc       False              MOLLY  [/photos/pets/30085215/1/?bust=1408632368, /ph...  /photos/pets/30085215/1/?bust=1408632368       NaN                                                NaN  7182131099       10003               Weimaraner  {u'next': u'http://www.petfinder/2A0BD832-546C...          NY                         NaN      NY835  Social Tees Animal Rescue Foundation  Medium     Dog  Adoptable  please email dimitra.socialtees@gmail.com           0       0  40.7316  -73.9892      0     1      0\n",
        "14  Young    Dog   Samantha Brody  40.7316,-73.9892           US  2014-09-08T18:09:12Z  Please VISIT OUR FACEBOOK PAGE AND WEBSITE for...  samantha@socialteesnyc.org   True       True            True        [House trained, Spay/Neuter, Shots Current]    Male  30093114      Nyc        True               Papi  [/photos/pets/30093114/1/?bust=1408671490, /ph...  /photos/pets/30093114/3/?bust=1410199752       NaN                                                NaN         NaN       10003                  Maltese  {u'next': u'http://www.petfinder/2A0BD832-546C...          NY                      Poodle      NY835  Social Tees Animal Rescue Foundation   Small     Dog  Adoptable  please email dimitra.socialtees@gmail.com           0       0  40.7316  -73.9892      0     0      1"
       ]
      }
     ],
     "prompt_number": 39
    },
    {
     "cell_type": "code",
     "collapsed": false,
     "input": [
      "config = {'TOKEN':'201453018-1HjFhMG1S5ILJTXtqltZPS62J1baXQqwL84FOybY',\n",
      "          'TOKEN_SECRET':'QcvTqn60kAk7E988NxUCcQ13nFvQmhuiFAdjPLgXbwWF3',\n",
      "          'CONSUMER_KEY':'0c6XYJFLG66wn4f6wQQaWZQYN',\n",
      "          'CONSUMER_SECRET':'qSdKdIODHURrsZy3ByM0RaPbLe50tEGZ6LJMMhLzWE3ey1h2zF'}"
     ],
     "language": "python",
     "metadata": {},
     "outputs": [],
     "prompt_number": 4
    },
    {
     "cell_type": "code",
     "collapsed": false,
     "input": [
      "import twitterconfig\n",
      "from twitter import *\n",
      "\"\"\"\n",
      "there would be code here to set up a dictionary including everything required to load the authentication for twitter.\n",
      "What are the advantages of setting up a dictionary here instead of just defining it below?\n",
      "\"\"\"\n",
      "t = Twitter(\n",
      "    auth=OAuth(\n",
      "        token=config.TOKEN,\n",
      "        token_secret=config.TOKEN_SECRET,\n",
      "        consumer_key=config.CONSUMER_KEY,\n",
      "        consumer_secret=config.CONSUMER_SECRET)\n",
      "    )\n",
      "\n",
      "hashtags=[\n",
      "    u'hongkong',\n",
      "    u'occupycentral',\n",
      "    u'umbrellarevolution',\n",
      "    u'china',\n",
      "    u'hk',\n",
      "    u'admiralty',\n",
      "    u'occupyhk',\n",
      "]\n",
      "\n",
      "all_results = []\n",
      "for hashtag in hashtags:\n",
      "    results = t.search.tweets(q='#'+hashtag, count=100, result_type='mixed')\n",
      "    for r in results['statuses']:\n",
      "        try:\n",
      "            clean_tweet = unicode(r['text']).encode('utf-8').replace('\\n', ' ').replace('\\r', ' ').replace('\"', \"'\")\n",
      "            print u','.join([unicode(r['id']),'\"'+clean_tweet+'\"', '\"'+hashtag+'\"'])\n",
      "        except UnicodeDecodeError:\n",
      "            pass"
     ],
     "language": "python",
     "metadata": {},
     "outputs": [
      {
       "output_type": "stream",
       "stream": "stdout",
       "text": [
        "572306942825140224,\"The very famous #HongKong celebrity I just interviewed, a cat called Cream Brother. Stay tuned for the story! http://t.co/Yd2K1tUNtF\",\"hongkong\"\n",
        "572380843739463681,\"The irresistibly romantic Victoria Harbor in #HongKong: http://t.co/XxnC77E7h3 http://t.co/pfEEwNg9Fo\",\"hongkong\"\n",
        "572060408552423425,\"Arrests made in #HongKong as #Protesters clash with Police  http://t.co/LXEQNh7cR5  #1u http://t.co/OTAALGob5c\",\"hongkong\"\n",
        "572566649150185473,\"Today marks 1-year anniversary since #HongKong government introduced its 'unified screening mechanism' to process refugee claims last 3 Mar\",\"hongkong\"\n",
        "572566261898584064,\"Back at the #office in #HongKong. (@ Nationwide Garments - @nwgarments in Kwun Tong, N/A) https://t.co/wqhSjbnXL7\",\"hongkong\"\n",
        "572565420923699200,\"RT @STForeignDesk: On #STAsiaReport:  #HongKong lawmakers arrested over democracy protests http://t.co/cOnMQIlOYw http://t.co/s5yRyfVg9v\",\"hongkong\"\n",
        "572565201469366272,\"RT @STForeignDesk: On #STAsiaReport:  #HongKong lawmakers arrested over democracy protests http://t.co/cOnMQIlOYw http://t.co/s5yRyfVg9v\",\"hongkong\"\n",
        "572565152677163009,\"RT @SCMP_News: Hong Kong's Occupy protest 'was an attempt at c... http://t.co/Ib3k5vgzNG #Hongkong #Umhk #Occupyhk #HK via @FrankfurtFinanz\",\"hongkong\"\n",
        "572565118715891712,\"How Hongkongers will live in 2040: standing room only,eating &amp; sleeping while standing,no need to lie down #HongKong https://t.co/mP7kQHgUHF\",\"hongkong\"\n",
        "572565079054393344,\"On #STAsiaReport:  #HongKong lawmakers arrested over democracy protests http://t.co/cOnMQIlOYw http://t.co/s5yRyfVg9v\",\"hongkong\"\n",
        "572565043864158208,\"CEB: Greater China Marketing Speciali... (#HongKong) http://t.co/sPlixg4SRf #Marketing #CEBCareers #Job http://t.co/RIjoZtpJvD\",\"hongkong\"\n",
        "572564819880112128,\"RT @GordonCTPoon: Good morning! #Hongkong,China #iAmAlive\",\"hongkong\"\n",
        "572564707749601281,\"Enjoying the view #CloudsAndSky #Sunset #Silhouette #HongKong http://t.co/3icOCTAmuA\",\"hongkong\"\n",
        "572564613826551810,\"A Beautiful Night in Hong Kong  #asia #china #hongkong #hk http://t.co/KM9OkisbOK\",\"hongkong\"\n",
        "572564557501210625,\"Protesters arrested in #HongKong plus more news from the region: http://t.co/x60BOYAYej\",\"hongkong\"\n",
        "572564548022083585,\"Protesters arrested in #HongKong plus more news from the region: http://t.co/uOO74RV9c6\",\"hongkong\"\n",
        "572564402500587521,\"Good morning! #Hongkong,China #iAmAlive\",\"hongkong\"\n",
        "572563978276093952,\"#cathaypacific what plane we will be using cx918 #Manila to #hongkong.\",\"hongkong\"\n",
        "572561908244471810,\"#hongkong Hong Kong anger over shopper invasion from China: Hong Kong police have arr... http://t.co/DQ4OVkP4Yc - http://t.co/UIQIpYp9sm\",\"hongkong\"\n",
        "572561464650702848,\"... http://t.co/WAN6xg6VZk #adult #daughter #free #hongkong #indian #japan #japanese #oriental #porn #video #whoriental #XXX\",\"hongkong\"\n",
        "572560926471163904,\"Boko Haram posts 'beheading' video http://t.co/xTu6W0dqbJ #HongKong #News\",\"hongkong\"\n",
        "572560923459657729,\"Rice: A bad deal with Iran is worse than no deal http://t.co/EnUaygWvcN #HongKong #News\",\"hongkong\"\n",
        "572560920351666176,\"'Jihadi John' emails released http://t.co/zj2JrtPx1G #HongKong #News\",\"hongkong\"\n",
        "572560917210112001,\"Netanyahu: Speech not intended to disrespect Obama http://t.co/qhyVlWmF1R #HongKong #News\",\"hongkong\"\n",
        "572560914005667840,\"Russia's history of mysterious murders http://t.co/RVaJgAeBVi #HongKong #News\",\"hongkong\"\n",
        "572560910285348865,\"Iraqi forces battle ISIS for key city http://t.co/Qp6E1JAj9m #HongKong #News\",\"hongkong\"\n",
        "572560906971832321,\"LAPD shooting death could test value of body cams http://t.co/cIHdIJID2t #HongKong #News\",\"hongkong\"\n",
        "572560903909986304,\"5 things about China's 'Inconvenient Truth' http://t.co/h77XQQZ4Kk #HongKong #News\",\"hongkong\"\n",
        "572560900885889024,\"Una apuesta innovadora http://t.co/dDtGfNinPC #HongKong #News\",\"hongkong\"\n",
        "572560395652624384,\"#EXO #hongkong #FROMLOSTPLANET #kai  #20140601 http://t.co/cf3tMAIlLX\",\"hongkong\"\n",
        "572559222854057985,\"Millions share new Chinese character... and @EyeOfJackieChan might have started it all!!... #china #viral #hongkong http://t.co/vnmcGt6hqR\",\"hongkong\"\n",
        "572559168583819264,\"RT @HongKongBlog0: 6 severe flu cases reported  #HongKong #Health&amp;Community http://t.co/yCc8kRpZN9\",\"hongkong\"\n",
        "572330514423648256,\"Protest against Chinese SHOPPERS breaks out in clashes http://t.co/PevTyjR3EV #occupyhk #occupycentral #HK  https://t.co/RT4AHuu6Uj\",\"occupycentral\""
       ]
      },
      {
       "output_type": "stream",
       "stream": "stdout",
       "text": [
        "\n",
        "572537420803145728,\"#FISHINABOX #interview #press #taiji #protest #London #occupycentral #demoday #londonislovinit http://t.co/wSQC0QWpaE http://t.co/ln9ZIVxZ2N\",\"occupycentral\"\n",
        "572442084260638721,\"Independent filmmaker making a documentary video for the movement http://t.co/7e8kIE1dMa #umbrellamovement #occupyhongkong #occupycentral\",\"occupycentral\"\n",
        "572362621627858944,\"RT @aqchiu: Arrests after HK shopping protest via @BBC featured news #OccupyCentral http://t.co/3D6OmxMG5X\",\"occupycentral\"\n",
        "572351103930540032,\"Arrests after HK shopping protest via @BBC featured news #OccupyCentral http://t.co/3D6OmxMG5X\",\"occupycentral\"\n",
        "572350490110926848,\"RT @gavinrmorgan: #Retail #property sales up despite #OccupyCentral protests in #HongKong http://t.co/259fpxvC7D\",\"occupycentral\"\n",
        "572345651788427264,\"RT @gavinrmorgan: #Retail #property sales up despite #OccupyCentral protests in #HongKong http://t.co/259fpxvC7D\",\"occupycentral\"\n",
        "572345621891440640,\"RT @wolfpeng: More than 30 arrested as Hk anti-#China protesters scuffle w police http://t.co/uC0xWbYpub  #occupyhk #occupycentral #HK\",\"occupycentral\"\n",
        "572345594892685312,\"RT @RoyCCNg: @HKFS1958 Two small-circle elected kids demanded universal suffrage. Do they know what they're doing!? #occupycentral #occupyhk\",\"occupycentral\"\n",
        "572345261399379968,\"Protest against Chinese SHOPPERS breaks out in clashes http://t.co/ZeDzOhrRUJ #occupyhk #occupycentral #HK http://t.co/ehr3247wyB\",\"occupycentral\"\n",
        "572345207259340801,\"RT @gavinrmorgan: #Retail #property sales up despite #OccupyCentral protests in #HongKong http://t.co/259fpxvC7D\",\"occupycentral\"\n",
        "572330514423648256,\"Protest against Chinese SHOPPERS breaks out in clashes http://t.co/PevTyjR3EV #occupyhk #occupycentral #HK  https://t.co/RT4AHuu6Uj\",\"occupycentral\"\n",
        "572319528555843584,\"Hong Kong lawmakers http://t.co/C6LmNrWZt7 #hongkong #umhk #occupyhk #hk #umbrellamovement #occupycentral #umbrellarevolution #hkindigenous\",\"occupycentral\"\n",
        "572316777100677120,\"#Retail #property sales up despite #OccupyCentral protests in #HongKong http://t.co/259fpxvC7D\",\"occupycentral\"\n",
        "572293104260276224,\"themselves police protests http://t.co/C6LmNrWZt7 #hongkong #umhk #occupyhk #hk #umbrellamovement #occupycentral #umbrellarevolution\",\"occupycentral\"\n",
        "572274119879753728,\"@HKFS1958 Two small-circle elected kids demanded universal suffrage. Do they know what they're doing!? #occupycentral #occupyhk\",\"occupycentral\"\n",
        "572241083859529728,\"More than 30 arrested as Hong Kong anti-#China protesters scuffle with police http://t.co/vOt8e85D9D   #occupyhk #occupycentral #HK #freedom\",\"occupycentral\"\n",
        "572236307897847808,\"HongKong pro-democracy lawmakers hand themselves in for being a part of #OccupyCentral http://t.co/REYiOaZEka http://t.co/ox4A7G1p1S\",\"occupycentral\"\n",
        "572233844851515392,\"#HongKong pro-democracy lawmakers hand themselves in for being a part of #OccupyCentral http://t.co/X544AbR8cZ http://t.co/Sh9LZyQUQk\",\"occupycentral\"\n",
        "572231225915531265,\"RT @STForeignDesk: #HongKong lawmakers hand themselves in to police over #OccupyCentral protests http://t.co/3wAdhvYepu\",\"occupycentral\"\n",
        "572231113072115712,\"RT @STForeignDesk: #HongKong lawmakers hand themselves in to police over #OccupyCentral protests http://t.co/3wAdhvYepu\",\"occupycentral\"\n",
        "572231098601746434,\"RT @STcom: RT @STForeignDesk: #HongKong lawmakers hand themselves in to police over #OccupyCentral protests http://t.co/6Oc69e7dW3\",\"occupycentral\"\n",
        "572228962593611776,\"RT @STForeignDesk: #HongKong lawmakers hand themselves in to police over #OccupyCentral protests http://t.co/6Oc69e7dW3\",\"occupycentral\"\n",
        "572228937922703360,\"#HongKong lawmakers hand themselves in to police over #OccupyCentral protests http://t.co/3wAdhvYepu\",\"occupycentral\"\n",
        "572172013432930305,\"RT @nbeffemellevw: Non-violence does not mean non-action. Let your voices be heard.#OccupyCentral\",\"occupycentral\"\n",
        "572144388920356864,\"Non-violence does not mean non-action. Let your voices be heard.#OccupyCentral\",\"occupycentral\"\n",
        "572342223796375552,\"Is it just me or does #Jesus look like he's under a yellow umbrella? #umhk #UmbrellaMovement #UmbrellaRevolution #HK http://t.co/GGkN9NcBCH\",\"umbrellarevolution\""
       ]
      },
      {
       "output_type": "stream",
       "stream": "stdout",
       "text": [
        "\n",
        "572558029222096896,\"RT @GodBlessFreedom: #UmbrellaRevolution Hong Kong Nazi Wannabe http://t.co/CBH4a3cquU\",\"umbrellarevolution\"\n",
        "572557590330253312,\"Stay in touch with the #umbrellaMovement, U can follow ours news page here at http://t.co/YCIju7WtmA #believe #wecandoit #umbrellarevolution\",\"umbrellarevolution\"\n",
        "572553095642779650,\"RT @FrancescoSotis: @Gabriele_Corno #inspiration #stunningimages #oldtownflyers #umbrellarevolution\",\"umbrellarevolution\"\n",
        "572550748606627841,\"RT @OpNewWorldOrder: @sinonomeaa #UmbrellaLove #umbrellamovement   #UmbrellaRevolution how is it going? http://t.co/OhgsTmXR0T\",\"umbrellarevolution\"\n",
        "572536978463457280,\"@Gabriele_Corno #inspiration #stunningimages #oldtownflyers #umbrellarevolution\",\"umbrellarevolution\"\n",
        "572527908817932288,\"Good morning, #UmbrellaRevolution #OccupyHK! :) #Sunrise 06:44, noon 12:36, sunset 18:28 HKT (UTC+8), March 3. Day length: 11h 44m.\",\"umbrellarevolution\"\n",
        "572510489898442752,\"Indigenous vs. Out-of-Towners in border town. Bring back Gurkhas border guards? Illegal trading. #UmbrellaRevolution  http://t.co/wzKdRF4r6R\",\"umbrellarevolution\"\n",
        "572486677261918210,\"Even the good Doctor hates rain! &gt;&gt;&gt;  http://t.co/vJnfS5b3yO  #MondayMustBuys #umbrellarevolution #RainyDay http://t.co/OH7AcRax6b\",\"umbrellarevolution\"\n",
        "572445822887043072,\"@pallavfnz94 PPL from #HongKong need ur #Help Pls sign the online petition to #UNSC http://t.co/ZYKcMzSFn1 #UmbrellaRevolution #thankyou\",\"umbrellarevolution\"\n",
        "572445806034362368,\"@jonasanbrown PPL from #HongKong need ur #Help Pls sign the online petition to #UNSC http://t.co/ZYKcMzSFn1 #UmbrellaRevolution #thankyou\",\"umbrellarevolution\"\n",
        "572429576107765760,\"RT @2legit2trip: So uh I saw this on a taxi earlier in Mei Foo #umbrellamovement #umbrellarevolution #D7689 http://t.co/Y760AaVtpL\",\"umbrellarevolution\"\n",
        "572424359094063105,\"RT @2legit2trip: So uh I saw this on a taxi earlier in Mei Foo #umbrellamovement #umbrellarevolution #D7689 http://t.co/Y760AaVtpL\",\"umbrellarevolution\"\n",
        "572423805974548480,\"RT @OpNewWorldOrder: @sinonomeaa #UmbrellaLove #umbrellamovement   #UmbrellaRevolution how is it going? http://t.co/OhgsTmXR0T\",\"umbrellarevolution\"\n",
        "572414017811161091,\"@sinonomeaa #UmbrellaLove #umbrellamovement   #UmbrellaRevolution how is it going? http://t.co/OhgsTmXR0T\",\"umbrellarevolution\"\n",
        "572413162512879616,\"@UnitedAvrill PPL from #HongKong need ur #Help Pls sign the online petition to #UNSC http://t.co/ZYKcMzSFn1 #UmbrellaRevolution #thankyou\",\"umbrellarevolution\"\n",
        "572413143705653250,\"@HiringScreenRH PPL from #HongKong need ur #Help Pls sign the online petition to #UNSC http://t.co/ZYKcMzSFn1 #UmbrellaRevolution #thankyou\",\"umbrellarevolution\"\n",
        "572413132678828033,\"@hgc81221 PPL from #HongKong need ur #Help Pls sign the online petition to #UNSC http://t.co/ZYKcMzSFn1 #UmbrellaRevolution #thankyou\",\"umbrellarevolution\"\n",
        "572413121962373120,\"@lukebryanllyric PPL from #HongKong need ur #Help Pls sign the online petition to #UNSC http://t.co/ZYKcMzSFn1 #UmbrellaRevolution #thankyou\",\"umbrellarevolution\"\n",
        "572412944232935424,\"@guiltyberryChoo PPL from #HongKong need ur #Help Pls sign the online petition to #UNSC http://t.co/ZYKcMzSFn1 #UmbrellaRevolution #thankyou\",\"umbrellarevolution\"\n",
        "572412931029266432,\"@ahmed_azhan PPL from #HongKong need ur #Help Pls sign the online petition to #UNSC http://t.co/ZYKcMzSFn1 #UmbrellaRevolution #thankyou\",\"umbrellarevolution\"\n",
        "572390643437326336,\"RT @enjolrasthewimp: There is a flame that never dies. (For once, I'm not talking about my hair.) #UmbrellaRevolution http://t.co/My9t9nXNhJ\",\"umbrellarevolution\"\n",
        "572370252983508993,\"RT @alejandroriano: That whiteshirt cop landed three baton hits on the one protestor. #hk #umbrellarevolution https://t.co/ZJmLcgs1ae\",\"umbrellarevolution\"\n",
        "572354192733560832,\"RT @2legit2trip: So uh I saw this on a taxi earlier in Mei Foo #umbrellamovement #umbrellarevolution #D7689 http://t.co/Y760AaVtpL\",\"umbrellarevolution\"\n",
        "572352884446244864,\"RT @alejandroriano: Life at the front. #HK #umbrellarevolution continua https://t.co/D6PSHBAnjA\",\"umbrellarevolution\"\n",
        "572350423123685377,\"RT @alejandroriano: Life at the front. #HK #umbrellarevolution continua https://t.co/D6PSHBAnjA\",\"umbrellarevolution\"\n",
        "572350346359521280,\"RT @alejandroriano: That whiteshirt cop landed three baton hits on the one protestor. #hk #umbrellarevolution https://t.co/ZJmLcgs1ae\",\"umbrellarevolution\"\n",
        "572349846130192384,\"R @alejandroriano Protest against Chinese SHOPPERS breaks out in clashes http://t.co/0O0SVta7EV #umbrellarevolution  https://t.co/gCD6MPz8dd\",\"umbrellarevolution\"\n",
        "572348656449277952,\"RT @2legit2trip: So uh I saw this on a taxi earlier in Mei Foo #umbrellamovement #umbrellarevolution #D7689 http://t.co/Y760AaVtpL\",\"umbrellarevolution\"\n",
        "572347936799006720,\"RT @2legit2trip: So uh I saw this on a taxi earlier in Mei Foo #umbrellamovement #umbrellarevolution #D7689 http://t.co/Y760AaVtpL\",\"umbrellarevolution\"\n",
        "572346579543146496,\"RT @alejandroriano: That whiteshirt cop landed three baton hits on the one protestor. #hk #umbrellarevolution https://t.co/ZJmLcgs1ae\",\"umbrellarevolution\"\n",
        "572346557913120769,\"RT @alejandroriano: Life at the front. #HK #umbrellarevolution continua https://t.co/D6PSHBAnjA\",\"umbrellarevolution\"\n",
        "572346489416126464,\"RT @therosefox: China is like the US in the 60s... minus the drugs... and with communism. #cleanairacts #UmbrellaRevolution\",\"umbrellarevolution\"\n",
        "572345963324579840,\"RT @therosefox: China is like the US in the 60s... minus the drugs... and with communism. #cleanairacts #UmbrellaRevolution\",\"umbrellarevolution\"\n",
        "572345924921368576,\"RT @2legit2trip: So uh I saw this on a taxi earlier in Mei Foo #umbrellamovement #umbrellarevolution #D7689 http://t.co/Y760AaVtpL\",\"umbrellarevolution\"\n",
        "572345624223453184,\"RT @alejandroriano: @OccuWorld #UmbrellaRevolution @ProtestPin #OccupyHK\",\"umbrellarevolution\"\n",
        "572345524558438400,\"RT @alejandroriano: That whiteshirt cop landed three baton hits on the one protestor. #hk #umbrellarevolution https://t.co/ZJmLcgs1ae\",\"umbrellarevolution\"\n",
        "572345505411416064,\"RT @alejandroriano: Life at the front. #HK #umbrellarevolution continua https://t.co/D6PSHBAnjA\",\"umbrellarevolution\"\n",
        "572345483471003648,\"RT @2legit2trip: So uh I saw this on a taxi earlier in Mei Foo #umbrellamovement #umbrellarevolution #D7689 http://t.co/Y760AaVtpL\",\"umbrellarevolution\"\n",
        "572342223796375552,\"Is it just me or does #Jesus look like he's under a yellow umbrella? #umhk #UmbrellaMovement #UmbrellaRevolution #HK http://t.co/GGkN9NcBCH\",\"umbrellarevolution\"\n",
        "572339667279990784,\"RT @alejandroriano: @OccuWorld #UmbrellaRevolution @ProtestPin #OccupyHK\",\"umbrellarevolution\"\n",
        "572334432952184833,\"@OccuWorld #UmbrellaRevolution @ProtestPin #OccupyHK\",\"umbrellarevolution\"\n",
        "572333697313062912,\"RT @2legit2trip: So uh I saw this on a taxi earlier in Mei Foo #umbrellamovement #umbrellarevolution #D7689 http://t.co/Y760AaVtpL\",\"umbrellarevolution\"\n",
        "572330688957030400,\"Life at the front. #HK #umbrellarevolution continua https://t.co/D6PSHBAnjA\",\"umbrellarevolution\"\n",
        "572329930651906049,\"RT @2legit2trip: So uh I saw this on a taxi earlier in Mei Foo #umbrellamovement #umbrellarevolution #D7689 http://t.co/Y760AaVtpL\",\"umbrellarevolution\"\n",
        "572329411384635392,\"That whiteshirt cop landed three baton hits on the one protestor. #hk #umbrellarevolution https://t.co/ZJmLcgs1ae\",\"umbrellarevolution\"\n",
        "572328427883249664,\"Protest against Chinese SHOPPERS breaks out in clashes http://t.co/vS62AA7VQO #umbrellarevolution  https://t.co/rHdgB7Hjuy\",\"umbrellarevolution\"\n",
        "572322713139691521,\"RT @2legit2trip: So uh I saw this on a taxi earlier in Mei Foo #umbrellamovement #umbrellarevolution #D7689 http://t.co/Y760AaVtpL\",\"umbrellarevolution\"\n",
        "572320992145506304,\"RT @2legit2trip: So uh I saw this on a taxi earlier in Mei Foo #umbrellamovement #umbrellarevolution #D7689 http://t.co/Y760AaVtpL\",\"umbrellarevolution\"\n",
        "572319528555843584,\"Hong Kong lawmakers http://t.co/C6LmNrWZt7 #hongkong #umhk #occupyhk #hk #umbrellamovement #occupycentral #umbrellarevolution #hkindigenous\",\"umbrellarevolution\"\n",
        "572318249276190720,\"RT @2legit2trip: So uh I saw this on a taxi earlier in Mei Foo #umbrellamovement #umbrellarevolution #D7689 http://t.co/Y760AaVtpL\",\"umbrellarevolution\"\n",
        "572318227667107840,\"China is like the US in the 60s... minus the drugs... and with communism. #cleanairacts #UmbrellaRevolution\",\"umbrellarevolution\"\n",
        "572566739155861505,\"RT @sekerpner: River in Southwest China #china #photography #nature #beautiful #10jahreurlaub http://t.co/iF2eHt85Iw http://t.co/DcqP5oHPls\",\"china\""
       ]
      },
      {
       "output_type": "stream",
       "stream": "stdout",
       "text": [
        "\n",
        "572566719459278848,\"#RMB #Investor, everything you want to know on #Renminbi, #China! http://t.co/8GRoPM2h14 ,\",\"china\"\n",
        "572566607437832192,\"#Myanmar - Deal paves the way for legal rice exports to #China http://t.co/T9ID76yS0g\",\"china\"\n",
        "572566572885270528,\"RT @ValatPannaWW: '@birch313: @MariaMiaow Tell #China to stop selling #Tiger Skins http://t.co/AWhTTg1lcY http://t.co/KOH8HeQvrC'\",\"china\"\n",
        "572566491146657794,\"RT @sekerpner: River in Southwest China #china #photography #nature #beautiful #10jahreurlaub http://t.co/iF2eHt85Iw http://t.co/DcqP5oHPls\",\"china\"\n",
        "572566469839462400,\"Report says #USA #Congress pass law promote tourism to #Tibet, dispite strong Tibet '#Liberation Movement' campaign say that, helps #China\",\"china\"\n",
        "572566186614898690,\"Hardware news!: Boat Building News http://t.co/RIobQlXPwI #manufacturing #hardware #China #steel #trailer #fencing\",\"china\"\n",
        "572566180214538240,\"#Senkaku Is disputed between #China &amp; #Japan  USA is treaty bound to side with Japan  Remember #TAIJI  and   #BoycottJapan\",\"china\"\n",
        "572566086694121473,\"#Obama sharply criticizes #China's plans for new technology rules http://t.co/bTMxzgKEgx via @reuters  @SPAMFI5H @woodywood143\",\"china\"\n",
        "572565976799182848,\"#China at top of E&amp;Y's #renewables country attractiveness index, #Egypt a hot destination. http://t.co/lTsc3NYOk2\",\"china\"\n",
        "572565914685722624,\"It is #sunny and 6C (43F) in #Dengying, #China http://t.co/qJdZWNItdQ\",\"china\"\n",
        "572565817453355008,\"Chinese car sales platform Cheyipai raises $110 million: http://t.co/Lp37iGnawF #startups #china #funding #finance\",\"china\"\n",
        "572565753196515328,\"'@AnonsOpsNews: Zimbabwe elephants prepared for transport confirmed for #China   #SaveAfricanAnimals http://t.co/7iaBI4v3PI'\",\"china\"\n",
        "572565624947269632,\"#China may further lower growth target for 2015 | http://t.co/ew9oBwKQPa http://t.co/yIhTCHMfzb\",\"china\"\n",
        "572565619008122880,\"#China may further lower growth target for 2015 | http://t.co/e4T3giQrg8 http://t.co/X4vsrlMu5O\",\"china\"\n",
        "572565372957802496,\"Doing stuff in china #china #Epcot #dayoff #wdw #talentrighthere https://t.co/BlxvPO19yR\",\"china\"\n",
        "572565252077842432,\"#UniteArabEmirates #Iran #China-#Pray that many come to faith in Christ through #Christian websites,literature,TV,radio,evangelists,more.\",\"china\"\n",
        "572565234868756481,\"Alibaba to put $316 million behind Taiwanese startups http://t.co/YeMGIBp8sB #corporateventure #alibaba #cvc #taiwan #china @mashable\",\"china\"\n",
        "572565193881866240,\"Marks &amp; Spencer to focus on Beijing, Shanghai[1]- http://t.co/PYVXkpNcrU http://t.co/rnFMAC1mQF #Beijing #China\",\"china\"\n",
        "572565193164656640,\"Marks &amp; Spencer shifts China strategy, targeting new cities for growth http://t.co/hRRRgNVaJN #Beijing #China\",\"china\"\n",
        "572565192237690880,\"Deal activity in China property services sector picks up http://t.co/hbWtmzTPhK #Beijing #China\",\"china\"\n",
        "572565191558242305,\"Singapore's Best Sweets: With Celebrity Dessert Chef Janice Wong | Jacada... http://t.co/6ouaDiYhzt #Beijing #China\",\"china\"\n",
        "572565173426253824,\"Risk the #yuan's trading band could be widened is increasing, with #China leaders meeting this week, via @business - http://t.co/hBP9Ckqgll\",\"china\"\n",
        "572565155789217792,\"#China #Chongqing A Basic Strategy Vegas Strip Vintage Blackjack - Joseph Hadley:                             ...  http://t.co/ABYpL7MGJv\",\"china\"\n",
        "572565095244439552,\"Insider Trading: Is #China Serious about Cleaning Up Its Capital Market? http://t.co/GRWu7Jg1N1 http://t.co/fSPzPE2SDM\",\"china\"\n",
        "572565071701925888,\"CPPCC, NPC Sessions Begin: Here's What the Meetings Mean http://t.co/Mnjjw0WOdI via @business #China\",\"china\"\n",
        "572565067687976961,\"Hi, don't tell your real IP #proxy from #China: https://t.co/j8yrEEE1OM\",\"china\"\n",
        "572564749692612608,\"Billionaire Lawmakers Ensure the Rich Are Represented in #China's Legislature  http://t.co/YgMv5HJYkZ\",\"china\"\n",
        "572564705039933440,\"#China Xiaomi has tripled its sales in 2014! http://t.co/XZTHejmSYg\",\"china\"\n",
        "572564703634800640,\"#China Xiaomi has tripled its sales in 2014! http://t.co/IhTX6Fb7CA\",\"china\"\n",
        "572564657782849536,\"Royal Suites and Towers Hotel - 5 Star #Hotel - $89 - #Hotels #China #Shenzhen #Luohu http://t.co/wtWpVGFZe9 http://t.co/bI7OETKOFR\",\"china\"\n",
        "572564623620247553,\"Dionysus is your Partner to get your Brand into Taiwan #china http://t.co/JlpEaTV9Jy\",\"china\"\n",
        "572564615038685184,\"BFRD-21 Beautiful Japanese women enema http://t.co/bKZz3v6xqc #Japan #China #Porn #Sex #Pixx http://t.co/zCpHnAPhTJ\",\"china\"\n",
        "572564613826551810,\"A Beautiful Night in Hong Kong  #asia #china #hongkong #hk http://t.co/KM9OkisbOK\",\"china\"\n",
        "572564575729655808,\"#China's Next Challenge - The Depletion of Global Natural Resources http://t.co/4LtMDCgKvN #ivory #forests http://t.co/T2RntUKKtt\",\"china\"\n",
        "572564469282414593,\"#China #Shanghai #stocks: #Merger #Acquisition: China Gezhouba Group : insecure growth for Mar 2015. http://t.co/kf4FiMtsPn\",\"china\"\n",
        "572564373643898881,\"A Myrica Village - 5 Star #Hotel - $112 - #Hotels #China #Hangzhou #Xihu http://t.co/UrKu7mQM7P http://t.co/EpAySFYV1K\",\"china\"\n",
        "572564367415353344,\"RT @Gabbycrts: #China Stop Selling #Tiger Skins &amp; Promoting Tiger Farms! Pls share &amp; sign this petition to END this: http://t.co/IFPO1eD22w\",\"china\"\n",
        "572564306912411648,\"RT @inDEXupdates: **inDEX Price Update**  $BTC: $272.07 $GOLD: 4.434btc $SILVER: 0.06btc $OIL: 0.183btc  #bitcoin $FOREX $RMB #China #Asia\",\"china\"\n",
        "572564290202406912,\"#Documentary film on #China's air #pollution viewed by 100 million. Then #censors stepped in http://t.co/VcLyUabQFJ\",\"china\"\n",
        "572320993781272576,\"#China says stance on #HK constitutional reform remains 'clear and consistent'; says regional chief executive should love country, HK\",\"hk\""
       ]
      },
      {
       "output_type": "stream",
       "stream": "stdout",
       "text": [
        "\n",
        "572330514423648256,\"Protest against Chinese SHOPPERS breaks out in clashes http://t.co/PevTyjR3EV #occupyhk #occupycentral #HK  https://t.co/RT4AHuu6Uj\",\"hk\"\n",
        "572342223796375552,\"Is it just me or does #Jesus look like he's under a yellow umbrella? #umhk #UmbrellaMovement #UmbrellaRevolution #HK http://t.co/GGkN9NcBCH\",\"hk\"\n",
        "572565588201107456,\"#Tuesday #ootd #rainy #HK  #white #tee #black #leather #skirt #stilettos #beige #trenchcoat #yellow #skull #scarf http://t.co/OehQCwTFxy\",\"hk\"\n",
        "572565152677163009,\"RT @SCMP_News: Hong Kong's Occupy protest 'was an attempt at c... http://t.co/Ib3k5vgzNG #Hongkong #Umhk #Occupyhk #HK via @FrankfurtFinanz\",\"hk\"\n",
        "572564613826551810,\"A Beautiful Night in Hong Kong  #asia #china #hongkong #hk http://t.co/KM9OkisbOK\",\"hk\"\n",
        "572563076488142848,\"Hotel ideas for your next trip to Hong Kong via @yondertribe http://t.co/xrkekDkBwg @travel2hongkong #HK #travel\",\"hk\"\n",
        "572559748140146688,\"RT @Marshy00: WOLF TOTEM opens in #HK on 2 April http://t.co/ayHrUbPeXl http://t.co/ceGgSVdL07\",\"hk\"\n",
        "572558047454740480,\"RT @Amberbrella: I thought pepper spray were used to disperse protesters...#occupyHK #HK #occupy #hongkong http://t.co/BvzHHcQW4D\",\"hk\"\n",
        "572556288057610240,\"Happy Birthday @EthanHanson12 Have a good one #HK\",\"hk\"\n",
        "572545912498614272,\"#China #shortselling via #HK fails to take off. #FT @JoshTANoble http://t.co/kkghKZyAM4\",\"hk\"\n",
        "572542212392681472,\"@sophontrack @AlphaSphere it's awesome in HK! #hk  #bestplaceever\",\"hk\"\n",
        "572541788583534594,\"Hong Kong's NIGHT SHIFT: http://t.co/hxbihE1MpW #HK #BMX\",\"hk\"\n",
        "572540749851459586,\"The early bird catches the worm #bikinifit #hk #fitness #bootcamp @ Sun Yet Sen Sai Ying Pun Park https://t.co/o8hsdAakbT\",\"hk\"\n",
        "572538394313682944,\"#HK #ETF $EWH monthly charts see difficulty sustaining further gains. Consolidation to turn lower into 2015Q2. http://t.co/2Y9t2NJN5K\",\"hk\"\n",
        "572532700084609025,\"Cross-border tensions overshadow yearly national meetings in Beijing  http://t.co/VdwLdPhG55  #UmbrellaMovement #occupyhk #9wu #HongKong #hk\",\"hk\"\n",
        "572526854067916803,\"Hotel ideas for your next trip to Hong Kong via @yondertribe http://t.co/lvzfjj6iiY @travel2hongkong #HK #travel\",\"hk\"\n",
        "572523026996199425,\"Watch '#Citizenfour' by Laura #Poitras Online For Free (113min): https://t.co/QuOJTs0PFo - #Snowden #NSA #HongKong #HK\",\"hk\"\n",
        "572521056302440449,\"Halcon Resources Corp given $1.75 PT by Canaccord Genuity. hold rating. http://t.co/x0k1H59LtG $HK #HK\",\"hk\"\n",
        "572521028099960833,\"Halcon Resources Corp given $1.75 PT by Canaccord Genuity. hold rating. http://t.co/McDrlgOYIJ $HK #HK\",\"hk\"\n",
        "572517207307132928,\"Dang I really wanna take that boat behind me!!!!! #Hk @ Hawaii Kai Marina https://t.co/tkfKbraYuT\",\"hk\"\n",
        "572516741634502656,\"#yayornay: Looks from @openingceremony 2015 Autumn/Winter by .@stylepx #hk #hongkong #asia http://t.co/pbEa8VqTnE\",\"hk\"\n",
        "572514513355841536,\"Join us this Thurs Mar 5, 6-8pm in #HK for the opening of 'Revisit - Paintings by Frank Burbach'. http://t.co/1JryWYZpIx\",\"hk\"\n",
        "572504404605067264,\"En route to #HK 's biggest race-course - Sha Tin - to film Champion Jockey @zpurton. 1st ride out: 05:30! #Racing #horseracing #HK\",\"hk\"\n",
        "572495152759095297,\"RT @ajam: Hong Kong arrests 38 people in protests over mainland Ch... http://t.co/Ib3k5vgzNG #Hongkong #Umhk #Occupyhk #HK via @PhotoRaptor\",\"hk\"\n",
        "572489952463745024,\"#HK #China Fixes for the weakest link http://t.co/CMRCO5Ivbl @thestandardhk\",\"hk\"\n",
        "572489951687798784,\"#HK #China Charge of the smart brigade http://t.co/2QcC15ym7n @thestandardhk\",\"hk\"\n",
        "572489951004139521,\"#HK #China Java 'can keep MS at bay' http://t.co/pl3Fuqon5B @thestandardhk\",\"hk\"\n",
        "572489950312046594,\"#HK #China Link between depression and violent crime http://t.co/M4iNwyZjGv @thestandardhk\",\"hk\"\n",
        "572489949628391424,\"#HK #China Power of play http://t.co/Ux6dMMvo22 @thestandardhk\",\"hk\"\n",
        "572488009469186048,\"#HK #China #EM #Asia Namibia's leader gets US$5m leadership prize http://t.co/wFfv42KYN8 @SCMP_News\",\"hk\"\n",
        "572488008726794240,\"#HK #China #EM #Asia A rare glimpse into Saudi prison for convicted terrorists http://t.co/OCTkPiuZKB @SCMP_News\",\"hk\"\n",
        "572483975802982400,\"Changing #HK\",\"hk\"\n",
        "572483521081704449,\"Pool A standings. #CWC15 #Cricket  #HK http://t.co/83bVcgdETJ\",\"hk\"\n",
        "572483367989583873,\"Pool B standings. #CWC15 #Cricket  #HK http://t.co/XMfVXH0xsD\",\"hk\"\n",
        "572483221360918528,\"Saeed Ajmal is still at No.1 spot at ICC ODI Ranking. #ICCODIRanking #Cricket  #HK http://t.co/2kX0fr1ELa\",\"hk\"\n",
        "572482963130224641,\"#UK #Escorts #Escort at #HamiltonsLondon #Egypt #Bahrain #Dubai #AbuDhabi  #London #Paris #Budapest #UAE #USA  #France #Berlin #Italy #HK\",\"hk\"\n",
        "572482867319713793,\"ICC ODI Ranking. #CWC15 #Cricket  #HK http://t.co/gMWOvb42mN\",\"hk\"\n",
        "572482611832078336,\"Sarfaraz Ahmed is looking to play against UAE tomorrow. #CWC15 #PAKvUAE #Cricket  #HK http://t.co/KvIhSr6sbq\",\"hk\"\n",
        "572481745737674752,\"Pakistan Cricket Team tops Google search charts. #CWC15 #Cricket  #HK http://t.co/I2Pe2hyue5\",\"hk\"\n",
        "572481628779368449,\"Ireland need to win the game against South Africa to reach into the Quarter Finals. #CWC15 #SAvIRE #Cricket  #HK http://t.co/hP2jqpwtRb\",\"hk\"\n",
        "572481276650897409,\"Misbah's reaction after Sohaib Maqsood dismissal! #CWC15 #PakvZim #Cricket  #HK http://t.co/PfHxvFkUjp\",\"hk\"\n",
        "572480842863398912,\"Ireland will face South Africa today at Canberra, watch at 8:30 am PST. #CWC15 #Cricket #SAvIRE  #HK http://t.co/wKrvenZToQ\",\"hk\"\n",
        "572480549752864769,\"Chris Gayle Taking Autograph from AB De Villiers after #SAvWI Match. #CWC15 #Cricket  #HK http://t.co/fdO4D057Eb\",\"hk\"\n",
        "572480409973460992,\"Latest #Selfie of Kevin Pietersen. #CWC15 #Cricket  #HK http://t.co/3AFMyWj3lB\",\"hk\"\n",
        "572478851563069440,\"#moraineave #flying over the #rockymountains #cathaypacific from #Hk #hongkong #nyc #newyorkcity by 6dust http://t.co/5MnfkSrUR8\",\"hk\"\n",
        "572474071499313152,\"5 Misconceptions about Hong Kong http://t.co/7GdAH8Ttat #expat #hongkong #hk #china #travel #ttot\",\"hk\"\n",
        "572470185984204802,\"RT @ColombianLoveMo: @Prestige_HK RT @AlphaSphere based in #hk crowd funding campaign   https://t.co/QtcRy4bZlV #musictech #innovation\",\"hk\"\n",
        "572467439319027713,\"Benieuwd naar openingstijden van onze vestigingen in #HK, #Hem, #Enkhuizen? Bekijk ze hier: http://t.co/4R2DVBDtbL http://t.co/QnzGG1docL\",\"hk\"\n",
        "572464639147159553,\"RT @HKwalls: #pantone is coming to #HK for #HKwalls! http://t.co/ClCsn47Ox7\",\"hk\"\n",
        "572461513606352896,\"Occupy Central was an attempt at colour revolution: PLA general #... http://t.co/Ib3k5vgzNG #Hongkong #Umhk #Occupyhk #HK via @FollowHKNews\",\"hk\"\n",
        "572460648023654402,\"#IceHockey #Livescore @ScoresPro: (SVK-1L) #HC 07 Detva vs #Hk Spis N. Ves: 3-0 ...\",\"hk\"\n",
        "572459489300897792,\"arahkeun panah anjeun ka cermin, salila ieu, musuh anu diteang2 di kahirupan anjeun bakalan aya didinya. #HK\",\"hk\"\n",
        "572459385953386496,\"#IceHockey #Livescore @ScoresPro: (SVK-1L) #HC 07 Detva vs #Hk Spis N. Ves: 2-0 ...\",\"hk\"\n",
        "572459269657767936,\"#HK #China #EM #Asia Cross-border tensions overshadow yearly national meetings in Beijing http://t.co/fnidmFO0Gz @SCMP_News\",\"hk\"\n",
        "572459268370137088,\"#HK #China #EM #Asia Occupy Central was an attempt at colour revolution: PLA general http://t.co/7bdx5o2p7s @SCMP_News\",\"hk\"\n",
        "572456877168185345,\"#IceHockey #Livescore @ScoresPro: (SVK-1L) #HC 07 Detva vs #Hk Spis N. Ves: 1-0 ...\",\"hk\"\n",
        "572455477671559168,\"Professionals in creative design #hk  http://t.co/NhC5x2RZBg http://t.co/kfoHldRP5q\",\"hk\"\n",
        "572453094656741376,\"#IceHockey #Livescore @ScoresPro: (SVK-LIG) #HKM Zvolen vs #HK Poprad: 3-4 ...\",\"hk\"\n",
        "572451835686084608,\"#IceHockey #Livescore @ScoresPro: (SVK-LIG) #HKM Zvolen vs #HK Poprad: 3-3 ...\",\"hk\"\n",
        "571325508576681985,\"Hello @milanluthria what's your top pick for #invitationcup2015 weekend? #BeSafe? #DancingPrances? #Admiralty? #ifyounevergo\",\"admiralty\""
       ]
      },
      {
       "output_type": "stream",
       "stream": "stdout",
       "text": [
        "\n",
        "571296128261443585,\"Roll bet your 30% investment on #eternalflame to #Admiralty #rwitc\",\"admiralty\"\n",
        "571288802045636608,\"Happy Friday... Knackered... #hk #hkig #hongkong #admiralty #thaibasil #pacificplace @ Thai Basil https://t.co/J7WwzJLAL0\",\"admiralty\"\n",
        "570890981802799105,\"@YeodieHk #tbt Umbrella Revolution 30/9/14 #urhk #occupyhk #REVOLUTION #Wanchai #Admiralty #ILOVEHK http://t.co/4w5rLbRxKr\",\"admiralty\"\n",
        "570190777210544128,\"#parrot #HKPark #aviary #bird #admiralty @ Edward Youde Aviary https://t.co/jChJsQ0hVQ\",\"admiralty\"\n",
        "572248950134079488,\"Helena Wong: these arrests are political persecution to scare people from fighting for democracy. #OccupyHk http://t.co/KeHIezkWsY\",\"occupyhk\""
       ]
      },
      {
       "output_type": "stream",
       "stream": "stdout",
       "text": [
        "\n",
        "572209201621032960,\"Audrey Eu: the 'appointment arrests' feel like a show to me. Why haven't they arrested the '7 policemen'? #OccupyHK http://t.co/wFZJz5IXa1\",\"occupyhk\"\n",
        "572329926679896064,\"Via @EJInsightHK: 'Novelist Murakami tells HK pro-democracy activists: Fight on!' http://t.co/kX7FpQ9YPf #occupyhk http://t.co/bvgrvukTdR\",\"occupyhk\"\n",
        "572565152677163009,\"RT @SCMP_News: Hong Kong's Occupy protest 'was an attempt at c... http://t.co/Ib3k5vgzNG #Hongkong #Umhk #Occupyhk #HK via @FrankfurtFinanz\",\"occupyhk\"\n",
        "572558047454740480,\"RT @Amberbrella: I thought pepper spray were used to disperse protesters...#occupyHK #HK #occupy #hongkong http://t.co/BvzHHcQW4D\",\"occupyhk\"\n",
        "572534143256420352,\"Lawyers want Hong Kong government's 'political ads' on reform pulled from radio, TV http://t.co/4tIMaE2iaX #OccupyHK http://t.co/rt0rr64KVl\",\"occupyhk\"\n",
        "572532831567675392,\"Unmarked #HKPF squad car tries to follow outrider cop from #YuenLongprotests!! ;-)  http://t.co/dbENUgjt01  #UmbrellaMovement #occupyhk #9wu\",\"occupyhk\"\n",
        "572532700084609025,\"Cross-border tensions overshadow yearly national meetings in Beijing  http://t.co/VdwLdPhG55  #UmbrellaMovement #occupyhk #9wu #HongKong #hk\",\"occupyhk\"\n",
        "572532664286248962,\"Occupy Central was an attempt at colour revolution: PLA general.  http://t.co/vwQLv5a8Qp  #UmbrellaMovement #occupyhk #9wu  The #CCP canard!\",\"occupyhk\"\n",
        "572527908817932288,\"Good morning, #UmbrellaRevolution #OccupyHK! :) #Sunrise 06:44, noon 12:36, sunset 18:28 HKT (UTC+8), March 3. Day length: 11h 44m.\",\"occupyhk\"\n",
        "572495152759095297,\"RT @ajam: Hong Kong arrests 38 people in protests over mainland Ch... http://t.co/Ib3k5vgzNG #Hongkong #Umhk #Occupyhk #HK via @PhotoRaptor\",\"occupyhk\"\n",
        "572488328903200768,\"Views sharply divided over mainland Chinese shoppers visiting Hong Kong http://t.co/BCFMwoEi9m #OccupyHK http://t.co/Rr1naE13Oo\",\"occupyhk\"\n",
        "572478563305172992,\"@NoTalk2014 @SpyEast ~Hong Kong has always been Hong Kong,will always be Hong Kong--a unique place &amp;city-state! #UmbrellaMovement #OccupyHK\",\"occupyhk\"\n",
        "572461513606352896,\"Occupy Central was an attempt at colour revolution: PLA general #... http://t.co/Ib3k5vgzNG #Hongkong #Umhk #Occupyhk #HK via @FollowHKNews\",\"occupyhk\"\n",
        "572443107528077314,\"RT @MikeGJW: Here they come. #occupyHK http://t.co/QKEbfNfffS\",\"occupyhk\"\n",
        "572440845951107072,\"RT @MikeGJW: Here they come. #occupyHK http://t.co/QKEbfNfffS\",\"occupyhk\"\n",
        "572439713358856193,\"RT @lostdutchhk: Pepperspray in use #occupyhk #yuenlong http://t.co/FL201nGdCv\",\"occupyhk\"\n",
        "572439420164448259,\"RT @Amberbrella: I thought pepper spray were used to disperse protesters...#occupyHK #HK #occupy #hongkong http://t.co/BvzHHcQW4D\",\"occupyhk\"\n",
        "572437766707023873,\"RT @SCMP_News: CITY BEAT: Dangers emerge in Hong Kong over anti-Ma... http://t.co/Ib3k5vgzNG #Hongkong #Umhk #Occupyhk #HK via @hinhung0119\",\"occupyhk\"\n",
        "572434778751819778,\"RT @tomgrundy: #occupyhk artist 'Mr &amp; Ms HK People' https://t.co/HWtBDCwG9W reacts to CY poll: http://t.co/SnsdfQ6nCH http://t.co/f3rkyaetN8\",\"occupyhk\"\n",
        "572416160395894784,\"Dozens arrested in Hong Kong amid protests over #China mainland shoppers http://t.co/FLGKQc2HTW via @guardian #OccupyHK #HK @tomgrundy\",\"occupyhk\"\n",
        "572408833940844544,\"Sigh, anger escalated @ahpei0311 Fresh violence agai... http://t.co/Ib3k5vgzNG #Hongkong #Umhk #Occupyhk #HK #Umbrellamovement via @cycypea\",\"occupyhk\"\n",
        "572408614364717057,\"RT @tomgrundy: #occupyhk artist 'Mr &amp; Ms HK People' https://t.co/HWtBDCwG9W reacts to CY poll: http://t.co/SnsdfQ6nCH http://t.co/f3rkyaetN8\",\"occupyhk\"\n",
        "572406668283154432,\"RT @tomgrundy: #occupyhk artist 'Mr &amp; Ms HK People' https://t.co/HWtBDCwG9W reacts to CY poll: http://t.co/SnsdfQ6nCH http://t.co/f3rkyaetN8\",\"occupyhk\"\n",
        "572405660178104320,\"RT @tomgrundy: #occupyhk artist 'Mr &amp; Ms HK People' https://t.co/HWtBDCwG9W reacts to CY poll: http://t.co/SnsdfQ6nCH http://t.co/f3rkyaetN8\",\"occupyhk\"\n",
        "572402321855922176,\"RT @tomgrundy: #occupyhk artist 'Mr &amp; Ms HK People' https://t.co/HWtBDCwG9W reacts to CY poll: http://t.co/SnsdfQ6nCH http://t.co/f3rkyaetN8\",\"occupyhk\"\n",
        "572401438304808962,\"RT @tomgrundy: #occupyhk artist 'Mr &amp; Ms HK People' https://t.co/HWtBDCwG9W reacts to CY poll: http://t.co/SnsdfQ6nCH http://t.co/f3rkyaetN8\",\"occupyhk\"\n",
        "572401260046913537,\"#occupyhk artist 'Mr &amp; Ms HK People' https://t.co/HWtBDCwG9W reacts to CY poll: http://t.co/SnsdfQ6nCH http://t.co/f3rkyaetN8\",\"occupyhk\"\n",
        "572398333009928193,\"Constitutional development must reflect 'public sentiment' http://t.co/B5fxEdDb7p says Lam,who refused further meetings w/#Occupyhk leaders\",\"occupyhk\"\n",
        "572368168456482817,\"Protesters in Hong Kong Pepper-Sprayed By Police http://t.co/Ib3k5vgzNG #Hongkong #Umhk #Occupyhk #HK #Umbrellamovement via @AngelaNBC6\",\"occupyhk\"\n",
        "572361251063537664,\"RT @harbourtimes: Martin Lee's lawyer: Martin faces 8 counts of participating in unauthorized assembly. #occupyHk\",\"occupyhk\"\n",
        "572359479951376385,\"RT @harbourtimes: Martin Lee's lawyer: Martin faces 8 counts of participating in unauthorized assembly. #occupyHk\",\"occupyhk\"\n",
        "572359146818945024,\"#SkidRow shooting, protests in #HongKong &amp; a wax #PrinceWilliam... http://t.co/Ib3k5vgzNG #Umhk #Occupyhk #HK #Umbrellamovement via @BBCOS\",\"occupyhk\"\n",
        "572355587218022400,\"RT @harbourtimes: Martin Lee leaves without saying a word to the press. #OccupyHK http://t.co/9f9kamP1q5\",\"occupyhk\"\n",
        "572355506045620224,\"RT @harbourtimes: Martin Lee's lawyer: Martin faces 8 counts of participating in unauthorized assembly. #occupyHk\",\"occupyhk\"\n",
        "572350882475610112,\"Hong Kong protest sees violence, pepper spray and arrests, but triad... http://t.co/Ib3k5vgzNG #Hongkong #Umhk #Occupyhk #HK via @SCMP_News\",\"occupyhk\"\n",
        "572345624223453184,\"RT @alejandroriano: @OccuWorld #UmbrellaRevolution @ProtestPin #OccupyHK\",\"occupyhk\"\n"
       ]
      }
     ],
     "prompt_number": 42
    },
    {
     "cell_type": "code",
     "collapsed": false,
     "input": [
      "import nltk\n",
      "nltk.download('all')"
     ],
     "language": "python",
     "metadata": {},
     "outputs": [
      {
       "output_type": "stream",
       "stream": "stdout",
       "text": [
        "[nltk_data] Downloading collection u'all'\n",
        "[nltk_data]    | \n",
        "[nltk_data]    | Downloading package abc to /Users/zeyu/nltk_data...\n",
        "[nltk_data]    |   Unzipping corpora/abc.zip."
       ]
      },
      {
       "output_type": "stream",
       "stream": "stdout",
       "text": [
        "\n",
        "[nltk_data]    | Downloading package alpino to\n",
        "[nltk_data]    |     /Users/zeyu/nltk_data..."
       ]
      },
      {
       "output_type": "stream",
       "stream": "stdout",
       "text": [
        "\n",
        "[nltk_data]    |   Unzipping corpora/alpino.zip."
       ]
      },
      {
       "output_type": "stream",
       "stream": "stdout",
       "text": [
        "\n",
        "[nltk_data]    | Downloading package biocreative_ppi to\n",
        "[nltk_data]    |     /Users/zeyu/nltk_data..."
       ]
      },
      {
       "output_type": "stream",
       "stream": "stdout",
       "text": [
        "\n",
        "[nltk_data]    |   Unzipping corpora/biocreative_ppi.zip."
       ]
      },
      {
       "output_type": "stream",
       "stream": "stdout",
       "text": [
        "\n",
        "[nltk_data]    | Downloading package brown to /Users/zeyu/nltk_data...\n",
        "[nltk_data]    |   Unzipping corpora/brown.zip."
       ]
      },
      {
       "output_type": "stream",
       "stream": "stdout",
       "text": [
        "\n",
        "[nltk_data]    | Downloading package brown_tei to\n",
        "[nltk_data]    |     /Users/zeyu/nltk_data..."
       ]
      },
      {
       "output_type": "stream",
       "stream": "stdout",
       "text": [
        "\n",
        "[nltk_data]    |   Unzipping corpora/brown_tei.zip."
       ]
      },
      {
       "output_type": "stream",
       "stream": "stdout",
       "text": [
        "\n",
        "[nltk_data]    | Downloading package cess_cat to\n",
        "[nltk_data]    |     /Users/zeyu/nltk_data..."
       ]
      },
      {
       "output_type": "stream",
       "stream": "stdout",
       "text": [
        "\n",
        "[nltk_data]    |   Unzipping corpora/cess_cat.zip."
       ]
      },
      {
       "output_type": "stream",
       "stream": "stdout",
       "text": [
        "\n",
        "[nltk_data]    | Downloading package cess_esp to\n",
        "[nltk_data]    |     /Users/zeyu/nltk_data..."
       ]
      },
      {
       "output_type": "stream",
       "stream": "stdout",
       "text": [
        "\n",
        "[nltk_data]    |   Unzipping corpora/cess_esp.zip."
       ]
      },
      {
       "output_type": "stream",
       "stream": "stdout",
       "text": [
        "\n",
        "[nltk_data]    | Downloading package chat80 to\n",
        "[nltk_data]    |     /Users/zeyu/nltk_data..."
       ]
      },
      {
       "output_type": "stream",
       "stream": "stdout",
       "text": [
        "\n",
        "[nltk_data]    |   Unzipping corpora/chat80.zip.\n",
        "[nltk_data]    | Downloading package city_database to\n",
        "[nltk_data]    |     /Users/zeyu/nltk_data...\n",
        "[nltk_data]    |   Unzipping corpora/city_database.zip."
       ]
      },
      {
       "output_type": "stream",
       "stream": "stdout",
       "text": [
        "\n",
        "[nltk_data]    | Downloading package cmudict to\n",
        "[nltk_data]    |     /Users/zeyu/nltk_data...\n",
        "[nltk_data]    |   Unzipping corpora/cmudict.zip."
       ]
      },
      {
       "output_type": "stream",
       "stream": "stdout",
       "text": [
        "\n",
        "[nltk_data]    | Downloading package comtrans to\n",
        "[nltk_data]    |     /Users/zeyu/nltk_data..."
       ]
      },
      {
       "output_type": "stream",
       "stream": "stdout",
       "text": [
        "\n",
        "[nltk_data]    | Downloading package conll2000 to\n",
        "[nltk_data]    |     /Users/zeyu/nltk_data..."
       ]
      },
      {
       "output_type": "stream",
       "stream": "stdout",
       "text": [
        "\n",
        "[nltk_data]    |   Unzipping corpora/conll2000.zip."
       ]
      },
      {
       "output_type": "stream",
       "stream": "stdout",
       "text": [
        "\n",
        "[nltk_data]    | Downloading package conll2002 to\n",
        "[nltk_data]    |     /Users/zeyu/nltk_data..."
       ]
      },
      {
       "output_type": "stream",
       "stream": "stdout",
       "text": [
        "\n",
        "[nltk_data]    |   Unzipping corpora/conll2002.zip."
       ]
      },
      {
       "output_type": "stream",
       "stream": "stdout",
       "text": [
        "\n",
        "[nltk_data]    | Downloading package conll2007 to\n",
        "[nltk_data]    |     /Users/zeyu/nltk_data..."
       ]
      },
      {
       "output_type": "stream",
       "stream": "stdout",
       "text": [
        "\n",
        "[nltk_data]    | Downloading package crubadan to\n",
        "[nltk_data]    |     /Users/zeyu/nltk_data..."
       ]
      },
      {
       "output_type": "stream",
       "stream": "stdout",
       "text": [
        "\n",
        "[nltk_data]    |   Unzipping corpora/crubadan.zip."
       ]
      },
      {
       "output_type": "stream",
       "stream": "stdout",
       "text": [
        "\n",
        "[nltk_data]    | Downloading package dependency_treebank to\n",
        "[nltk_data]    |     /Users/zeyu/nltk_data..."
       ]
      },
      {
       "output_type": "stream",
       "stream": "stdout",
       "text": [
        "\n",
        "[nltk_data]    |   Unzipping corpora/dependency_treebank.zip."
       ]
      },
      {
       "output_type": "stream",
       "stream": "stdout",
       "text": [
        "\n",
        "[nltk_data]    | Downloading package europarl_raw to\n",
        "[nltk_data]    |     /Users/zeyu/nltk_data..."
       ]
      },
      {
       "output_type": "stream",
       "stream": "stdout",
       "text": [
        "\n",
        "[nltk_data]    |   Unzipping corpora/europarl_raw.zip."
       ]
      },
      {
       "output_type": "stream",
       "stream": "stdout",
       "text": [
        "\n",
        "[nltk_data]    | Downloading package floresta to\n",
        "[nltk_data]    |     /Users/zeyu/nltk_data..."
       ]
      },
      {
       "output_type": "stream",
       "stream": "stdout",
       "text": [
        "\n",
        "[nltk_data]    |   Unzipping corpora/floresta.zip."
       ]
      },
      {
       "output_type": "stream",
       "stream": "stdout",
       "text": [
        "\n",
        "[nltk_data]    | Downloading package framenet_v15 to\n",
        "[nltk_data]    |     /Users/zeyu/nltk_data..."
       ]
      },
      {
       "output_type": "stream",
       "stream": "stdout",
       "text": [
        "\n",
        "[nltk_data]    |   Unzipping corpora/framenet_v15.zip."
       ]
      },
      {
       "output_type": "stream",
       "stream": "stdout",
       "text": [
        "\n",
        "[nltk_data]    | Downloading package gazetteers to\n",
        "[nltk_data]    |     /Users/zeyu/nltk_data..."
       ]
      },
      {
       "output_type": "stream",
       "stream": "stdout",
       "text": [
        "\n",
        "[nltk_data]    |   Unzipping corpora/gazetteers.zip.\n",
        "[nltk_data]    | Downloading package genesis to\n",
        "[nltk_data]    |     /Users/zeyu/nltk_data..."
       ]
      },
      {
       "output_type": "stream",
       "stream": "stdout",
       "text": [
        "\n",
        "[nltk_data]    |   Unzipping corpora/genesis.zip."
       ]
      },
      {
       "output_type": "stream",
       "stream": "stdout",
       "text": [
        "\n",
        "[nltk_data]    | Downloading package gutenberg to\n",
        "[nltk_data]    |     /Users/zeyu/nltk_data...\n",
        "[nltk_data]    |   Unzipping corpora/gutenberg.zip."
       ]
      },
      {
       "output_type": "stream",
       "stream": "stdout",
       "text": [
        "\n",
        "[nltk_data]    | Downloading package ieer to /Users/zeyu/nltk_data..."
       ]
      },
      {
       "output_type": "stream",
       "stream": "stdout",
       "text": [
        "\n",
        "[nltk_data]    |   Unzipping corpora/ieer.zip."
       ]
      },
      {
       "output_type": "stream",
       "stream": "stdout",
       "text": [
        "\n",
        "[nltk_data]    | Downloading package inaugural to\n",
        "[nltk_data]    |     /Users/zeyu/nltk_data...\n",
        "[nltk_data]    |   Unzipping corpora/inaugural.zip."
       ]
      },
      {
       "output_type": "stream",
       "stream": "stdout",
       "text": [
        "\n",
        "[nltk_data]    | Downloading package indian to\n",
        "[nltk_data]    |     /Users/zeyu/nltk_data...\n",
        "[nltk_data]    |   Unzipping corpora/indian.zip."
       ]
      },
      {
       "output_type": "stream",
       "stream": "stdout",
       "text": [
        "\n",
        "[nltk_data]    | Downloading package jeita to /Users/zeyu/nltk_data...\n",
        "[nltk_data]    | Downloading package kimmo to /Users/zeyu/nltk_data..."
       ]
      },
      {
       "output_type": "stream",
       "stream": "stdout",
       "text": [
        "\n",
        "[nltk_data]    |   Unzipping corpora/kimmo.zip."
       ]
      },
      {
       "output_type": "stream",
       "stream": "stdout",
       "text": [
        "\n",
        "[nltk_data]    | Downloading package knbc to /Users/zeyu/nltk_data...\n",
        "[nltk_data]    | Downloading package lin_thesaurus to\n",
        "[nltk_data]    |     /Users/zeyu/nltk_data..."
       ]
      },
      {
       "output_type": "stream",
       "stream": "stdout",
       "text": [
        "\n",
        "[nltk_data]    |   Unzipping corpora/lin_thesaurus.zip."
       ]
      },
      {
       "output_type": "stream",
       "stream": "stdout",
       "text": [
        "\n",
        "[nltk_data]    | Downloading package mac_morpho to\n",
        "[nltk_data]    |     /Users/zeyu/nltk_data..."
       ]
      },
      {
       "output_type": "stream",
       "stream": "stdout",
       "text": [
        "\n",
        "[nltk_data]    |   Unzipping corpora/mac_morpho.zip."
       ]
      },
      {
       "output_type": "stream",
       "stream": "stdout",
       "text": [
        "\n",
        "[nltk_data]    | Downloading package machado to\n",
        "[nltk_data]    |     /Users/zeyu/nltk_data..."
       ]
      },
      {
       "output_type": "stream",
       "stream": "stdout",
       "text": [
        "\n",
        "[nltk_data]    | Downloading package masc_tagged to\n",
        "[nltk_data]    |     /Users/zeyu/nltk_data..."
       ]
      },
      {
       "output_type": "stream",
       "stream": "stdout",
       "text": [
        "\n",
        "[nltk_data]    | Downloading package moses_sample to\n",
        "[nltk_data]    |     /Users/zeyu/nltk_data..."
       ]
      },
      {
       "output_type": "stream",
       "stream": "stdout",
       "text": [
        "\n",
        "[nltk_data]    |   Unzipping models/moses_sample.zip."
       ]
      },
      {
       "output_type": "stream",
       "stream": "stdout",
       "text": [
        "\n",
        "[nltk_data]    | Downloading package movie_reviews to\n",
        "[nltk_data]    |     /Users/zeyu/nltk_data..."
       ]
      },
      {
       "output_type": "stream",
       "stream": "stdout",
       "text": [
        "\n",
        "[nltk_data]    |   Unzipping corpora/movie_reviews.zip."
       ]
      },
      {
       "output_type": "stream",
       "stream": "stdout",
       "text": [
        "\n",
        "[nltk_data]    | Downloading package names to /Users/zeyu/nltk_data..."
       ]
      },
      {
       "output_type": "stream",
       "stream": "stdout",
       "text": [
        "\n",
        "[nltk_data]    |   Unzipping corpora/names.zip.\n",
        "[nltk_data]    | Downloading package nombank.1.0 to\n",
        "[nltk_data]    |     /Users/zeyu/nltk_data...\n",
        "[nltk_data]    | Downloading package nps_chat to\n",
        "[nltk_data]    |     /Users/zeyu/nltk_data..."
       ]
      },
      {
       "output_type": "stream",
       "stream": "stdout",
       "text": [
        "\n",
        "[nltk_data]    |   Unzipping corpora/nps_chat.zip."
       ]
      },
      {
       "output_type": "stream",
       "stream": "stdout",
       "text": [
        "\n",
        "[nltk_data]    | Downloading package oanc_masc to\n",
        "[nltk_data]    |     /Users/zeyu/nltk_data...\n",
        "[nltk_data]    | Downloading package omw to /Users/zeyu/nltk_data..."
       ]
      },
      {
       "output_type": "stream",
       "stream": "stdout",
       "text": [
        "\n",
        "[nltk_data]    |   Unzipping corpora/omw.zip."
       ]
      },
      {
       "output_type": "stream",
       "stream": "stdout",
       "text": [
        "\n",
        "[nltk_data]    | Downloading package paradigms to\n",
        "[nltk_data]    |     /Users/zeyu/nltk_data..."
       ]
      },
      {
       "output_type": "stream",
       "stream": "stdout",
       "text": [
        "\n",
        "[nltk_data]    |   Unzipping corpora/paradigms.zip."
       ]
      },
      {
       "output_type": "stream",
       "stream": "stdout",
       "text": [
        "\n",
        "[nltk_data]    | Downloading package pil to /Users/zeyu/nltk_data...\n",
        "[nltk_data]    |   Unzipping corpora/pil.zip."
       ]
      },
      {
       "output_type": "stream",
       "stream": "stdout",
       "text": [
        "\n",
        "[nltk_data]    | Downloading package pl196x to\n",
        "[nltk_data]    |     /Users/zeyu/nltk_data..."
       ]
      },
      {
       "output_type": "stream",
       "stream": "stdout",
       "text": [
        "\n",
        "[nltk_data]    |   Unzipping corpora/pl196x.zip."
       ]
      },
      {
       "output_type": "stream",
       "stream": "stdout",
       "text": [
        "\n",
        "[nltk_data]    | Downloading package ppattach to\n",
        "[nltk_data]    |     /Users/zeyu/nltk_data..."
       ]
      },
      {
       "output_type": "stream",
       "stream": "stdout",
       "text": [
        "\n",
        "[nltk_data]    |   Unzipping corpora/ppattach.zip."
       ]
      },
      {
       "output_type": "stream",
       "stream": "stdout",
       "text": [
        "\n",
        "[nltk_data]    | Downloading package problem_reports to\n",
        "[nltk_data]    |     /Users/zeyu/nltk_data...\n",
        "[nltk_data]    |   Unzipping corpora/problem_reports.zip."
       ]
      },
      {
       "output_type": "stream",
       "stream": "stdout",
       "text": [
        "\n",
        "[nltk_data]    | Downloading package propbank to\n",
        "[nltk_data]    |     /Users/zeyu/nltk_data..."
       ]
      },
      {
       "output_type": "stream",
       "stream": "stdout",
       "text": [
        "\n",
        "[nltk_data]    | Downloading package ptb to /Users/zeyu/nltk_data..."
       ]
      },
      {
       "output_type": "stream",
       "stream": "stdout",
       "text": [
        "\n",
        "[nltk_data]    |   Unzipping corpora/ptb.zip."
       ]
      },
      {
       "output_type": "stream",
       "stream": "stdout",
       "text": [
        "\n",
        "[nltk_data]    | Downloading package oanc_masc to\n",
        "[nltk_data]    |     /Users/zeyu/nltk_data...\n",
        "[nltk_data]    |   Package oanc_masc is already up-to-date!\n",
        "[nltk_data]    | Downloading package qc to /Users/zeyu/nltk_data...\n",
        "[nltk_data]    |   Unzipping corpora/qc.zip."
       ]
      },
      {
       "output_type": "stream",
       "stream": "stdout",
       "text": [
        "\n",
        "[nltk_data]    | Downloading package reuters to\n",
        "[nltk_data]    |     /Users/zeyu/nltk_data...\n",
        "[nltk_data]    | Downloading package rte to /Users/zeyu/nltk_data..."
       ]
      },
      {
       "output_type": "stream",
       "stream": "stdout",
       "text": [
        "\n",
        "[nltk_data]    |   Unzipping corpora/rte.zip."
       ]
      },
      {
       "output_type": "stream",
       "stream": "stdout",
       "text": [
        "\n",
        "[nltk_data]    | Downloading package semcor to\n",
        "[nltk_data]    |     /Users/zeyu/nltk_data...\n",
        "[nltk_data]    | Downloading package senseval to\n",
        "[nltk_data]    |     /Users/zeyu/nltk_data..."
       ]
      },
      {
       "output_type": "stream",
       "stream": "stdout",
       "text": [
        "\n",
        "[nltk_data]    |   Unzipping corpora/senseval.zip."
       ]
      },
      {
       "output_type": "stream",
       "stream": "stdout",
       "text": [
        "\n",
        "[nltk_data]    | Downloading package sentiwordnet to\n",
        "[nltk_data]    |     /Users/zeyu/nltk_data..."
       ]
      },
      {
       "output_type": "stream",
       "stream": "stdout",
       "text": [
        "\n",
        "[nltk_data]    |   Unzipping corpora/sentiwordnet.zip."
       ]
      },
      {
       "output_type": "stream",
       "stream": "stdout",
       "text": [
        "\n",
        "[nltk_data]    | Downloading package shakespeare to\n",
        "[nltk_data]    |     /Users/zeyu/nltk_data..."
       ]
      },
      {
       "output_type": "stream",
       "stream": "stdout",
       "text": [
        "\n",
        "[nltk_data]    |   Unzipping corpora/shakespeare.zip."
       ]
      },
      {
       "output_type": "stream",
       "stream": "stdout",
       "text": [
        "\n",
        "[nltk_data]    | Downloading package sinica_treebank to\n",
        "[nltk_data]    |     /Users/zeyu/nltk_data...\n",
        "[nltk_data]    |   Unzipping corpora/sinica_treebank.zip."
       ]
      },
      {
       "output_type": "stream",
       "stream": "stdout",
       "text": [
        "\n",
        "[nltk_data]    | Downloading package smultron to\n",
        "[nltk_data]    |     /Users/zeyu/nltk_data..."
       ]
      },
      {
       "output_type": "stream",
       "stream": "stdout",
       "text": [
        "\n",
        "[nltk_data]    |   Unzipping corpora/smultron.zip."
       ]
      },
      {
       "output_type": "stream",
       "stream": "stdout",
       "text": [
        "\n",
        "[nltk_data]    | Downloading package state_union to\n",
        "[nltk_data]    |     /Users/zeyu/nltk_data...\n",
        "[nltk_data]    |   Unzipping corpora/state_union.zip."
       ]
      },
      {
       "output_type": "stream",
       "stream": "stdout",
       "text": [
        "\n",
        "[nltk_data]    | Downloading package stopwords to\n",
        "[nltk_data]    |     /Users/zeyu/nltk_data..."
       ]
      },
      {
       "output_type": "stream",
       "stream": "stdout",
       "text": [
        "\n",
        "[nltk_data]    |   Unzipping corpora/stopwords.zip.\n",
        "[nltk_data]    | Downloading package swadesh to\n",
        "[nltk_data]    |     /Users/zeyu/nltk_data...\n",
        "[nltk_data]    |   Unzipping corpora/swadesh.zip."
       ]
      },
      {
       "output_type": "stream",
       "stream": "stdout",
       "text": [
        "\n",
        "[nltk_data]    | Downloading package switchboard to\n",
        "[nltk_data]    |     /Users/zeyu/nltk_data...\n",
        "[nltk_data]    |   Unzipping corpora/switchboard.zip."
       ]
      },
      {
       "output_type": "stream",
       "stream": "stdout",
       "text": [
        "\n",
        "[nltk_data]    | Downloading package timit to /Users/zeyu/nltk_data...\n",
        "[nltk_data]    |   Unzipping corpora/timit.zip."
       ]
      },
      {
       "output_type": "stream",
       "stream": "stdout",
       "text": [
        "\n",
        "[nltk_data]    | Downloading package toolbox to\n",
        "[nltk_data]    |     /Users/zeyu/nltk_data..."
       ]
      },
      {
       "output_type": "stream",
       "stream": "stdout",
       "text": [
        "\n",
        "[nltk_data]    |   Unzipping corpora/toolbox.zip."
       ]
      },
      {
       "output_type": "stream",
       "stream": "stdout",
       "text": [
        "\n",
        "[nltk_data]    | Downloading package treebank to\n",
        "[nltk_data]    |     /Users/zeyu/nltk_data...\n",
        "[nltk_data]    |   Unzipping corpora/treebank.zip."
       ]
      },
      {
       "output_type": "stream",
       "stream": "stdout",
       "text": [
        "\n",
        "[nltk_data]    | Downloading package udhr to /Users/zeyu/nltk_data..."
       ]
      },
      {
       "output_type": "stream",
       "stream": "stdout",
       "text": [
        "\n",
        "[nltk_data]    |   Unzipping corpora/udhr.zip."
       ]
      },
      {
       "output_type": "stream",
       "stream": "stdout",
       "text": [
        "\n",
        "[nltk_data]    | Downloading package udhr2 to /Users/zeyu/nltk_data..."
       ]
      },
      {
       "output_type": "stream",
       "stream": "stdout",
       "text": [
        "\n",
        "[nltk_data]    |   Unzipping corpora/udhr2.zip."
       ]
      },
      {
       "output_type": "stream",
       "stream": "stdout",
       "text": [
        "\n",
        "[nltk_data]    | Downloading package unicode_samples to\n",
        "[nltk_data]    |     /Users/zeyu/nltk_data..."
       ]
      },
      {
       "output_type": "stream",
       "stream": "stdout",
       "text": [
        "\n",
        "[nltk_data]    |   Unzipping corpora/unicode_samples.zip."
       ]
      },
      {
       "output_type": "stream",
       "stream": "stdout",
       "text": [
        "\n",
        "[nltk_data]    | Downloading package universal_treebanks_v20 to\n",
        "[nltk_data]    |     /Users/zeyu/nltk_data...\n",
        "[nltk_data]    | Downloading package verbnet to\n",
        "[nltk_data]    |     /Users/zeyu/nltk_data..."
       ]
      },
      {
       "output_type": "stream",
       "stream": "stdout",
       "text": [
        "\n",
        "[nltk_data]    |   Unzipping corpora/verbnet.zip."
       ]
      },
      {
       "output_type": "stream",
       "stream": "stdout",
       "text": [
        "\n",
        "[nltk_data]    | Downloading package webtext to\n",
        "[nltk_data]    |     /Users/zeyu/nltk_data..."
       ]
      },
      {
       "output_type": "stream",
       "stream": "stdout",
       "text": [
        "\n",
        "[nltk_data]    |   Unzipping corpora/webtext.zip."
       ]
      },
      {
       "output_type": "stream",
       "stream": "stdout",
       "text": [
        "\n",
        "[nltk_data]    | Downloading package wordnet to\n",
        "[nltk_data]    |     /Users/zeyu/nltk_data...\n",
        "[nltk_data]    |   Unzipping corpora/wordnet.zip."
       ]
      },
      {
       "output_type": "stream",
       "stream": "stdout",
       "text": [
        "\n",
        "[nltk_data]    | Downloading package wordnet_ic to\n",
        "[nltk_data]    |     /Users/zeyu/nltk_data..."
       ]
      },
      {
       "output_type": "stream",
       "stream": "stdout",
       "text": [
        "\n",
        "[nltk_data]    |   Unzipping corpora/wordnet_ic.zip."
       ]
      },
      {
       "output_type": "stream",
       "stream": "stdout",
       "text": [
        "\n",
        "[nltk_data]    | Downloading package words to /Users/zeyu/nltk_data..."
       ]
      },
      {
       "output_type": "stream",
       "stream": "stdout",
       "text": [
        "\n",
        "[nltk_data]    |   Unzipping corpora/words.zip."
       ]
      },
      {
       "output_type": "stream",
       "stream": "stdout",
       "text": [
        "\n",
        "[nltk_data]    | Downloading package ycoe to /Users/zeyu/nltk_data...\n",
        "[nltk_data]    |   Unzipping corpora/ycoe.zip."
       ]
      },
      {
       "output_type": "stream",
       "stream": "stdout",
       "text": [
        "\n",
        "[nltk_data]    | Downloading package rslp to /Users/zeyu/nltk_data...\n",
        "[nltk_data]    |   Unzipping stemmers/rslp.zip."
       ]
      },
      {
       "output_type": "stream",
       "stream": "stdout",
       "text": [
        "\n",
        "[nltk_data]    | Downloading package hmm_treebank_pos_tagger to\n",
        "[nltk_data]    |     /Users/zeyu/nltk_data...\n",
        "[nltk_data]    |   Unzipping taggers/hmm_treebank_pos_tagger.zip."
       ]
      },
      {
       "output_type": "stream",
       "stream": "stdout",
       "text": [
        "\n",
        "[nltk_data]    | Downloading package maxent_treebank_pos_tagger to\n",
        "[nltk_data]    |     /Users/zeyu/nltk_data...\n",
        "[nltk_data]    |   Unzipping taggers/maxent_treebank_pos_tagger.zip."
       ]
      },
      {
       "output_type": "stream",
       "stream": "stdout",
       "text": [
        "\n",
        "[nltk_data]    | Downloading package universal_tagset to\n",
        "[nltk_data]    |     /Users/zeyu/nltk_data..."
       ]
      },
      {
       "output_type": "stream",
       "stream": "stdout",
       "text": [
        "\n",
        "[nltk_data]    |   Unzipping taggers/universal_tagset.zip."
       ]
      },
      {
       "output_type": "stream",
       "stream": "stdout",
       "text": [
        "\n",
        "[nltk_data]    | Downloading package maxent_ne_chunker to\n",
        "[nltk_data]    |     /Users/zeyu/nltk_data...\n",
        "[nltk_data]    |   Unzipping chunkers/maxent_ne_chunker.zip."
       ]
      },
      {
       "output_type": "stream",
       "stream": "stdout",
       "text": [
        "\n",
        "[nltk_data]    | Downloading package punkt to /Users/zeyu/nltk_data..."
       ]
      },
      {
       "output_type": "stream",
       "stream": "stdout",
       "text": [
        "\n",
        "[nltk_data]    |   Unzipping tokenizers/punkt.zip."
       ]
      },
      {
       "output_type": "stream",
       "stream": "stdout",
       "text": [
        "\n",
        "[nltk_data]    | Downloading package book_grammars to\n",
        "[nltk_data]    |     /Users/zeyu/nltk_data..."
       ]
      },
      {
       "output_type": "stream",
       "stream": "stdout",
       "text": [
        "\n",
        "[nltk_data]    |   Unzipping grammars/book_grammars.zip."
       ]
      },
      {
       "output_type": "stream",
       "stream": "stdout",
       "text": [
        "\n",
        "[nltk_data]    | Downloading package sample_grammars to\n",
        "[nltk_data]    |     /Users/zeyu/nltk_data...\n",
        "[nltk_data]    |   Unzipping grammars/sample_grammars.zip."
       ]
      },
      {
       "output_type": "stream",
       "stream": "stdout",
       "text": [
        "\n",
        "[nltk_data]    | Downloading package spanish_grammars to\n",
        "[nltk_data]    |     /Users/zeyu/nltk_data...\n",
        "[nltk_data]    |   Unzipping grammars/spanish_grammars.zip."
       ]
      },
      {
       "output_type": "stream",
       "stream": "stdout",
       "text": [
        "\n",
        "[nltk_data]    | Downloading package basque_grammars to\n",
        "[nltk_data]    |     /Users/zeyu/nltk_data...\n",
        "[nltk_data]    |   Unzipping grammars/basque_grammars.zip."
       ]
      },
      {
       "output_type": "stream",
       "stream": "stdout",
       "text": [
        "\n",
        "[nltk_data]    | Downloading package large_grammars to\n",
        "[nltk_data]    |     /Users/zeyu/nltk_data...\n",
        "[nltk_data]    |   Unzipping grammars/large_grammars.zip."
       ]
      },
      {
       "output_type": "stream",
       "stream": "stdout",
       "text": [
        "\n",
        "[nltk_data]    | Downloading package tagsets to\n",
        "[nltk_data]    |     /Users/zeyu/nltk_data...\n",
        "[nltk_data]    | Downloading package snowball_data to\n",
        "[nltk_data]    |     /Users/zeyu/nltk_data..."
       ]
      },
      {
       "output_type": "stream",
       "stream": "stdout",
       "text": [
        "\n",
        "[nltk_data]    | Downloading package bllip_wsj_no_aux to\n",
        "[nltk_data]    |     /Users/zeyu/nltk_data..."
       ]
      },
      {
       "output_type": "stream",
       "stream": "stdout",
       "text": [
        "\n",
        "[nltk_data]    |   Unzipping models/bllip_wsj_no_aux.zip."
       ]
      },
      {
       "output_type": "stream",
       "stream": "stdout",
       "text": [
        "\n",
        "[nltk_data]    | "
       ]
      },
      {
       "output_type": "stream",
       "stream": "stdout",
       "text": [
        "\n",
        "[nltk_data]  Done downloading collection all\n"
       ]
      },
      {
       "metadata": {},
       "output_type": "pyout",
       "prompt_number": 44,
       "text": [
        "True"
       ]
      }
     ],
     "prompt_number": 44
    },
    {
     "cell_type": "code",
     "collapsed": false,
     "input": [
      "tweets = pd.read_csv('./data/twitter5.csv')"
     ],
     "language": "python",
     "metadata": {},
     "outputs": [],
     "prompt_number": 45
    },
    {
     "cell_type": "code",
     "collapsed": false,
     "input": [
      "tweets.head()"
     ],
     "language": "python",
     "metadata": {},
     "outputs": [
      {
       "html": [
        "<div style=\"max-height:1000px;max-width:1500px;overflow:auto;\">\n",
        "<table border=\"1\" class=\"dataframe\">\n",
        "  <thead>\n",
        "    <tr style=\"text-align: right;\">\n",
        "      <th></th>\n",
        "      <th>id</th>\n",
        "      <th>tweet</th>\n",
        "      <th>hashtag</th>\n",
        "    </tr>\n",
        "  </thead>\n",
        "  <tbody>\n",
        "    <tr>\n",
        "      <th>0</th>\n",
        "      <td> 522205943074160640</td>\n",
        "      <td> Is this #HongKong 's Rodney King? Police need ...</td>\n",
        "      <td> hongkong</td>\n",
        "    </tr>\n",
        "    <tr>\n",
        "      <th>1</th>\n",
        "      <td> 521669229188501504</td>\n",
        "      <td> 'We won't move and I'm ready to get arrested',...</td>\n",
        "      <td> hongkong</td>\n",
        "    </tr>\n",
        "    <tr>\n",
        "      <th>2</th>\n",
        "      <td> 522228472786067456</td>\n",
        "      <td> RT @stanyee: Footage of beating prompts #HongK...</td>\n",
        "      <td> hongkong</td>\n",
        "    </tr>\n",
        "    <tr>\n",
        "      <th>3</th>\n",
        "      <td> 522228386002108418</td>\n",
        "      <td> What is happening in Hong Kong is something th...</td>\n",
        "      <td> hongkong</td>\n",
        "    </tr>\n",
        "    <tr>\n",
        "      <th>4</th>\n",
        "      <td> 522228373964480512</td>\n",
        "      <td> #Funding:#HongKong #travel #startup @KlookTrav...</td>\n",
        "      <td> hongkong</td>\n",
        "    </tr>\n",
        "  </tbody>\n",
        "</table>\n",
        "</div>"
       ],
       "metadata": {},
       "output_type": "pyout",
       "prompt_number": 46,
       "text": [
        "                   id                                              tweet   hashtag\n",
        "0  522205943074160640  Is this #HongKong 's Rodney King? Police need ...  hongkong\n",
        "1  521669229188501504  'We won't move and I'm ready to get arrested',...  hongkong\n",
        "2  522228472786067456  RT @stanyee: Footage of beating prompts #HongK...  hongkong\n",
        "3  522228386002108418  What is happening in Hong Kong is something th...  hongkong\n",
        "4  522228373964480512  #Funding:#HongKong #travel #startup @KlookTrav...  hongkong"
       ]
      }
     ],
     "prompt_number": 46
    },
    {
     "cell_type": "code",
     "collapsed": false,
     "input": [
      "from __future__ import division\n",
      "def tweet_uniqueness(series):\n",
      "    return len(series.unique()) / len(series)\n",
      "\n",
      "print tweet_uniqueness(tweets.id)\n",
      "\n",
      "unique_tweets = tweets.drop_duplicates(cols = ['id'])\n",
      "\n",
      "print tweet_uniqueness(unique_tweets.id)\n",
      "print tweet_uniqueness(unique_tweets.tweet)"
     ],
     "language": "python",
     "metadata": {},
     "outputs": [
      {
       "output_type": "stream",
       "stream": "stdout",
       "text": [
        "0.761363636364\n",
        "1.0\n",
        "0.779631255487\n"
       ]
      }
     ],
     "prompt_number": 52
    },
    {
     "cell_type": "code",
     "collapsed": false,
     "input": [
      "for i in unique_tweets.hashtag.unique():\n",
      "    \n",
      "    print i, tweet_uniqueness(unique_tweets[unique_tweets.hashtag==i].tweet)"
     ],
     "language": "python",
     "metadata": {},
     "outputs": [
      {
       "output_type": "stream",
       "stream": "stdout",
       "text": [
        "hongkong 0.863636363636\n",
        "occupycentral 0.719047619048\n",
        "umbrellarevolution 0.630872483221\n",
        "china 0.950980392157\n",
        "hk 0.970588235294\n",
        "admiralty 0.716981132075\n",
        "occupyhk 0.610778443114\n"
       ]
      }
     ],
     "prompt_number": 55
    },
    {
     "cell_type": "code",
     "collapsed": false,
     "input": [
      "import nltk\n",
      "\n",
      "def tokenize_tweet(t, remove_stop=True, remove_hashtag=False):\n",
      "    import string\n",
      "    import re\n",
      "    tweet = t\n",
      "    tweet = tweet.lower()\n",
      "    tweet = re.sub('@\\w+', 'TWITTER_HANDLE', tweet)\n",
      "    tweet = re.sub('(https?:\\/\\/)?([\\da-z\\.-]+)\\.([a-z\\.]{2,6})([\\/\\w \\.-]*)*\\/?', 'URL', tweet)\n",
      "    tweet = tweet.translate(string.maketrans(\"\",\"\"), string.punctuation)\n",
      "    words = nltk.tokenize.wordpunct_tokenize(tweet)\n",
      "    if remove_stop:\n",
      "        # How do we filter for words in the stopwords corpus?\n",
      "        stopwords_filter = set(nltk.corpus.stopwords.words('english'))\n",
      "        words = [word for word in words if word not in stopwords_filter]\n",
      "    if remove_hashtag:\n",
      "        # How do we filter out the actual hashtag in the tweet itself?\n",
      "        words = [word for word in words if word[0] != '#']\n",
      "\n",
      "    return words\n",
      "\n",
      "\n",
      "unique_tweets['tokens'] = unique_tweets.tweet.apply(tokenize_tweet, remove_stop=True)\n",
      "unique_tweets['tokens_w_stopwords'] = unique_tweets.tweet.apply(tokenize_tweet, remove_stop=False)\n",
      "\n",
      "print unique_tweets['tokens_w_stopwords']"
     ],
     "language": "python",
     "metadata": {},
     "outputs": [
      {
       "output_type": "stream",
       "stream": "stderr",
       "text": [
        "-c:23: SettingWithCopyWarning: \n",
        "A value is trying to be set on a copy of a slice from a DataFrame.\n",
        "Try using .loc[row_indexer,col_indexer] = value instead\n",
        "\n",
        "See the the caveats in the documentation: http://pandas.pydata.org/pandas-docs/stable/indexing.html#indexing-view-versus-copy\n",
        "-c:24: SettingWithCopyWarning: \n",
        "A value is trying to be set on a copy of a slice from a DataFrame.\n",
        "Try using .loc[row_indexer,col_indexer] = value instead\n",
        "\n",
        "See the the caveats in the documentation: http://pandas.pydata.org/pandas-docs/stable/indexing.html#indexing-view-versus-copy\n"
       ]
      },
      {
       "output_type": "stream",
       "stream": "stdout",
       "text": [
        "0     [is, this, hongkong, s, rodney, king, police, ...\n",
        "1     [we, wont, move, and, im, ready, to, get, arre...\n",
        "2     [rt, TWITTERHANDLE, footage, of, beating, prom...\n",
        "3     [what, is, happening, in, hong, kong, is, some...\n",
        "4     [fundinghongkong, travel, startup, TWITTERHAND...\n",
        "5     [hk, police, use, pepper, spray, on, protester...\n",
        "6     [rt, TWITTERHANDLE, footage, of, beating, prom...\n",
        "7     [rt, TWITTERHANDLE, footage, of, beating, prom...\n",
        "8     [squeezed, vscocam, vscohub, vscogang, vscogra...\n",
        "9     [rt, TWITTERHANDLE, footage, of, beating, prom...\n",
        "10    [breaking, hongkong, security, chief, says, 6,...\n",
        "11    [trendingnews, hongkong, demonstranten, aangek...\n",
        "12    [TWITTERHANDLE, in, hongkong, umbrellamovement...\n",
        "13    [TWITTERHANDLE, in, hongkong, umbrellamovement...\n",
        "14    [map, of, the, underpass, in, hongkong, where,...\n",
        "...\n",
        "1476    [rt, TWITTERHANDLE, five, hk, press, unions, u...\n",
        "1477    [rt, TWITTERHANDLE, 911pm, rodney, street, pac...\n",
        "1478    [rt, TWITTERHANDLE, packed, around, the, stage...\n",
        "1479              [rt, TWITTERHANDLE, now, occupyhk, URL]\n",
        "1481    [rt, TWITTERHANDLE, this, is, the, post, start...\n",
        "1482    [rt, TWITTERHANDLE, urgently, need, face, mask...\n",
        "1484    [rt, TWITTERHANDLE, occupied, area, stretches,...\n",
        "1485    [police, cant, stand, the, verbal, abuse, from...\n",
        "1486    [rt, TWITTERHANDLE, barricades, also, building...\n",
        "1487    [album, of, close, up, shots, of, the, pepper,...\n",
        "1488    [rt, TWITTERHANDLE, calling, wooden, plates, h...\n",
        "1490    [rt, TWITTERHANDLE, lung, wo, rd, what, source...\n",
        "1491    [rt, TWITTERHANDLE, big, pictures, from, TWITT...\n",
        "1492    [rt, TWITTERHANDLE, now, amp, signing, off, oc...\n",
        "1493    [rt, TWITTERHANDLE, this, amount, of, people, ...\n",
        "Name: tokens_w_stopwords, Length: 1139, dtype: object\n"
       ]
      }
     ],
     "prompt_number": 56
    },
    {
     "cell_type": "code",
     "collapsed": false,
     "input": [
      "# pos_tag is a part of speech tagger, based on the text that it ingests.\n",
      "# It needs some kind of sentence structure to work okay, so we'll use the tokens with stopwords.\n",
      "# While its not built for twitter data, we can try it out and see how accurate it is\n",
      "nltk.pos_tag\n",
      "unique_tweets['pos'] = unique_tweets['tokens_w_stopwords'].apply(nltk.pos_tag)\n",
      "\n",
      "# Printing out all words that come back as adjectives (JJ):\n",
      "def find_all_adj(series):\n",
      "    bag_of_words = [j[0] for j in series if j[1] == 'JJ']\n",
      "    return bag_of_words if bag_of_words else []\n",
      "    \n",
      "adjectives = unique_tweets.pos.apply(find_all_adj)\n",
      "\n",
      "final_list = []\n",
      "for i in list(adjectives):\n",
      "    final_list.extend(list(set(i)))\n",
      "\n",
      "final_list = list(set(final_list))"
     ],
     "language": "python",
     "metadata": {},
     "outputs": [
      {
       "output_type": "stream",
       "stream": "stderr",
       "text": [
        "-c:5: SettingWithCopyWarning: \n",
        "A value is trying to be set on a copy of a slice from a DataFrame.\n",
        "Try using .loc[row_indexer,col_indexer] = value instead\n",
        "\n",
        "See the the caveats in the documentation: http://pandas.pydata.org/pandas-docs/stable/indexing.html#indexing-view-versus-copy\n"
       ]
      }
     ],
     "prompt_number": 57
    },
    {
     "cell_type": "code",
     "collapsed": false,
     "input": [
      "print final_list"
     ],
     "language": "python",
     "metadata": {},
     "outputs": [
      {
       "output_type": "stream",
       "stream": "stdout",
       "text": [
        "['heutejournal', 'cute', 'malicious', 'excessive', 'chinese', 'global', 'displayed', 'yellow', 'kong', 'violent', 'own', 'asian', 'human', 'innovative', 'japan', 'hate', 'suisheng', '116th', 'le', 'police', 'jian', 'leung', 'much', 'hurtful', 'extra', 'young', 'only', 'rich', 'rabble', 'cardinal', 'te', 'worth', 'real', 'good', 'animal', 'big', 'stop', 'possible', 'finish', 'dark', 'joint', 'traffic', 'shameful', 'anonymous', 'international', 'front', 'viral', 'trouble', 'occupyhongkong', 'helpful', 'cable', 'tear', 'shy', 'unnecessary', 'large', 'bad', 'small', 'passionate', 'insane', 'r', 'financial', 'fair', 'tepid', 'national', 'easy', 'dead', 'breakthrough', 'likely', 'economic', '3nsailing', 'complete', 'agricultural', 'corrupt', 'close', 'sexual', 'special', 'outrageous', 'tungchung', 'symbiotic', 'beaten', 'legal', 'creative', 'current', 'outside', 'indian', 'various', 'new', 'adorable', 'public', '3d', 'available', 'pepper', 'full', 'christian', 'pathetic', 'wan', 'sixth', 'fugitive', 'free', 'huang', 'strong', 'soundcloud', 'jubilant', 'revolutionary', 'prodemocratic', 'great', 'bible', 'central', 'many', 'aguus', 'equal', 'urged', 'foreign', 'greatwall', 'protestorsoccupycentral', 'social', 'military', 'weird', 'whole', 'top', 'first', 'major', 'industrial', 'key', 'vid', 'civic', 'civil', 'sweet', 'irresponsible', 'powerful', 'arsenal', 'private', 'supporthongkong', 'lung', 'female', 'spanish', 'doubleedged', 'open', 'legislative', 'east', 'additive', 'silent', 'ophongkong', 'illegal', 'angry', 'live', 'handcuffed', 'long', 'next', 'few', 'genetic', 'occupycentral', 'crush', 'futile', 'basic', 'palestine', 'australian', '3dprinting', 'low', 'website', 'british', 'recipient', 'general', 'gear', 'successful', 'peaceful', 'hk', 'alive', 'icable', 'last', 'comfortable', 'true', 'former', 'tonight', 'main', 'dangerous', 'past', 'handicapped', 'sous', 'future', 'obvious', 'dirty', 'itinerary', 'fiveyear', 'property', 'average', 'ive', 'gratuitous', 'chaotic', 'pic', 'halloween', 'site', 'overzealous', 'sad', 'high', 'brutal', 'gordonmcqueen', 'ready', 'wonderful', 'david', 'occupied', 'id', 'physical', 'opportunityfinancial', 'hong', 'hongkong', 'mic', 'responsible', 'american', 'eric', 'hot', 'other', 'republic', 'fourth', 'automotive', 'widespread', 'several', 'poor', 'independent', 'apparent', 'normal', 'impartial', 'polite', 'evil', 'sigue', 'wrong', 'serious', 'hair', 'yuan', 'recent', 'early', 'natural', 'third', 'clear', 'proud', 'drive', 'concrete', 'verbal', 'detained', 'english', 'professional', 'democratic', 'unspeakable', 'western']\n"
       ]
      }
     ],
     "prompt_number": 59
    },
    {
     "cell_type": "code",
     "collapsed": false,
     "input": [],
     "language": "python",
     "metadata": {},
     "outputs": []
    }
   ],
   "metadata": {}
  }
 ]
}