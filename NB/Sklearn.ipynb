{
 "metadata": {
  "name": "",
  "signature": "sha256:33c07b3270f6ad9c8001f89de6945b1f577ca8a490ad8012bffe2b19a4d06601"
 },
 "nbformat": 3,
 "nbformat_minor": 0,
 "worksheets": [
  {
   "cells": [
    {
     "cell_type": "code",
     "collapsed": false,
     "input": [
      "%%html\n",
      "<link rel=\"stylesheet\" href=\"static/hyrule.css\" type=\"text/css\">"
     ],
     "language": "python",
     "metadata": {},
     "outputs": [
      {
       "html": [
        "<link rel=\"stylesheet\" href=\"static/hyrule.css\" type=\"text/css\">"
       ],
       "metadata": {},
       "output_type": "display_data",
       "text": [
        "<IPython.core.display.HTML at 0x1076eb5d0>"
       ]
      }
     ],
     "prompt_number": 3
    },
    {
     "cell_type": "code",
     "collapsed": false,
     "input": [
      "import pandas as pd\n",
      "import numpy as np\n",
      "import matplotlib.pyplot as plt\n",
      "import seaborn as sns\n",
      "from __future__ import division\n",
      "pd.set_option('display.max_rows', 500)\n",
      "pd.set_option('display.max_columns', 50)\n",
      "pd.set_option('display.width', 1000)"
     ],
     "language": "python",
     "metadata": {},
     "outputs": [],
     "prompt_number": 4
    },
    {
     "cell_type": "code",
     "collapsed": false,
     "input": [
      "df = pd.read_pickle('affair_dataframe.pkl')\n",
      "df.head()"
     ],
     "language": "python",
     "metadata": {},
     "outputs": [
      {
       "html": [
        "<div style=\"max-height:1000px;max-width:1500px;overflow:auto;\">\n",
        "<table border=\"1\" class=\"dataframe\">\n",
        "  <thead>\n",
        "    <tr style=\"text-align: right;\">\n",
        "      <th></th>\n",
        "      <th>rate_marriage</th>\n",
        "      <th>age</th>\n",
        "      <th>yrs_married</th>\n",
        "      <th>children</th>\n",
        "      <th>religious</th>\n",
        "      <th>educ</th>\n",
        "      <th>occupation</th>\n",
        "      <th>occupation_husb</th>\n",
        "      <th>affairs</th>\n",
        "      <th>affair</th>\n",
        "    </tr>\n",
        "  </thead>\n",
        "  <tbody>\n",
        "    <tr>\n",
        "      <th>0</th>\n",
        "      <td> 3</td>\n",
        "      <td> 32</td>\n",
        "      <td>  9.0</td>\n",
        "      <td> 3</td>\n",
        "      <td> 3</td>\n",
        "      <td> 17</td>\n",
        "      <td> 2</td>\n",
        "      <td> 5</td>\n",
        "      <td> 0.111111</td>\n",
        "      <td> 1</td>\n",
        "    </tr>\n",
        "    <tr>\n",
        "      <th>1</th>\n",
        "      <td> 3</td>\n",
        "      <td> 27</td>\n",
        "      <td> 13.0</td>\n",
        "      <td> 3</td>\n",
        "      <td> 1</td>\n",
        "      <td> 14</td>\n",
        "      <td> 3</td>\n",
        "      <td> 4</td>\n",
        "      <td> 3.230769</td>\n",
        "      <td> 1</td>\n",
        "    </tr>\n",
        "    <tr>\n",
        "      <th>2</th>\n",
        "      <td> 4</td>\n",
        "      <td> 22</td>\n",
        "      <td>  2.5</td>\n",
        "      <td> 0</td>\n",
        "      <td> 1</td>\n",
        "      <td> 16</td>\n",
        "      <td> 3</td>\n",
        "      <td> 5</td>\n",
        "      <td> 1.400000</td>\n",
        "      <td> 1</td>\n",
        "    </tr>\n",
        "    <tr>\n",
        "      <th>3</th>\n",
        "      <td> 4</td>\n",
        "      <td> 37</td>\n",
        "      <td> 16.5</td>\n",
        "      <td> 4</td>\n",
        "      <td> 3</td>\n",
        "      <td> 16</td>\n",
        "      <td> 5</td>\n",
        "      <td> 5</td>\n",
        "      <td> 0.727273</td>\n",
        "      <td> 1</td>\n",
        "    </tr>\n",
        "    <tr>\n",
        "      <th>4</th>\n",
        "      <td> 5</td>\n",
        "      <td> 27</td>\n",
        "      <td>  9.0</td>\n",
        "      <td> 1</td>\n",
        "      <td> 1</td>\n",
        "      <td> 14</td>\n",
        "      <td> 3</td>\n",
        "      <td> 4</td>\n",
        "      <td> 4.666666</td>\n",
        "      <td> 1</td>\n",
        "    </tr>\n",
        "  </tbody>\n",
        "</table>\n",
        "</div>"
       ],
       "metadata": {},
       "output_type": "pyout",
       "prompt_number": 5,
       "text": [
        "   rate_marriage  age  yrs_married  children  religious  educ  occupation  occupation_husb   affairs  affair\n",
        "0              3   32          9.0         3          3    17           2                5  0.111111       1\n",
        "1              3   27         13.0         3          1    14           3                4  3.230769       1\n",
        "2              4   22          2.5         0          1    16           3                5  1.400000       1\n",
        "3              4   37         16.5         4          3    16           5                5  0.727273       1\n",
        "4              5   27          9.0         1          1    14           3                4  4.666666       1"
       ]
      }
     ],
     "prompt_number": 5
    },
    {
     "cell_type": "code",
     "collapsed": false,
     "input": [
      "from sklearn import linear_model as lm\n",
      "from sklearn import cross_validation as cv\n",
      "from sklearn import metrics\n",
      "x_cols = list(df.columns)\n",
      "y_col = 'affair'\n",
      "x_cols.remove(y_col)\n",
      "x_train,x_test,y_train,y_test=cv.train_test_split(df[x_cols],\n",
      "                                                  df[y_col],\n",
      "                                                  test_size=0.333,\n",
      "                                                  random_state=1234)\n",
      "model = lm.LogisticRegression(penalty='l1', C=1e100).fit(x_train, y_train)\n",
      "model.coef_"
     ],
     "language": "python",
     "metadata": {},
     "outputs": [
      {
       "metadata": {},
       "output_type": "pyout",
       "prompt_number": 6,
       "text": [
        "array([[ -0.23708717,  -0.01274157,   0.07038539,   0.08437953,\n",
        "         -0.31884344,  -0.02325092,   0.01232658,  -0.09594941,\n",
        "         10.73613023]])"
       ]
      }
     ],
     "prompt_number": 6
    },
    {
     "cell_type": "code",
     "collapsed": false,
     "input": [
      "metrics.accuracy_score(y_test, model.predict(x_test))"
     ],
     "language": "python",
     "metadata": {},
     "outputs": [
      {
       "metadata": {},
       "output_type": "pyout",
       "prompt_number": 7,
       "text": [
        "0.96226415094339623"
       ]
      }
     ],
     "prompt_number": 7
    },
    {
     "cell_type": "code",
     "collapsed": false,
     "input": [
      "# K-fold validation\n",
      "kf = cv.KFold(n=len(df), n_folds=10, shuffle=True, random_state=1234)\n",
      "\n",
      "for train, test in kf:\n",
      "    model = lm.LogisticRegression(penalty='l1', C=1e100).fit(df.iloc[train][x_cols], \n",
      "                                                             df.iloc[train][y_col])\n",
      "    # Score for most classifiers by default returns accuracy.\n",
      "    print metrics.accuracy_score(df.iloc[test][y_col], \n",
      "                                 model.predict(df.iloc[test][x_cols]))"
     ],
     "language": "python",
     "metadata": {},
     "outputs": [
      {
       "output_type": "stream",
       "stream": "stdout",
       "text": [
        "0.956043956044\n",
        "0.967032967033"
       ]
      },
      {
       "output_type": "stream",
       "stream": "stdout",
       "text": [
        "\n",
        "0.967032967033"
       ]
      },
      {
       "output_type": "stream",
       "stream": "stdout",
       "text": [
        "\n",
        "0.94191522763"
       ]
      },
      {
       "output_type": "stream",
       "stream": "stdout",
       "text": [
        "\n",
        "0.967032967033"
       ]
      },
      {
       "output_type": "stream",
       "stream": "stdout",
       "text": [
        "\n",
        "0.970172684458"
       ]
      },
      {
       "output_type": "stream",
       "stream": "stdout",
       "text": [
        "\n",
        "0.968553459119"
       ]
      },
      {
       "output_type": "stream",
       "stream": "stdout",
       "text": [
        "\n",
        "0.960691823899"
       ]
      },
      {
       "output_type": "stream",
       "stream": "stdout",
       "text": [
        "\n",
        "0.954402515723"
       ]
      },
      {
       "output_type": "stream",
       "stream": "stdout",
       "text": [
        "\n",
        "0.973270440252"
       ]
      },
      {
       "output_type": "stream",
       "stream": "stdout",
       "text": [
        "\n"
       ]
      }
     ],
     "prompt_number": 8
    },
    {
     "cell_type": "code",
     "collapsed": false,
     "input": [
      "import pickle; m = pickle.load(open('affairs.pkl'))"
     ],
     "language": "python",
     "metadata": {},
     "outputs": [],
     "prompt_number": 9
    },
    {
     "cell_type": "code",
     "collapsed": false,
     "input": [
      "m"
     ],
     "language": "python",
     "metadata": {},
     "outputs": [
      {
       "metadata": {},
       "output_type": "pyout",
       "prompt_number": 11,
       "text": [
        "LogisticRegression(C=1.0, class_weight=None, dual=False, fit_intercept=True,\n",
        "          intercept_scaling=1, penalty='l2', random_state=None, tol=0.0001)"
       ]
      }
     ],
     "prompt_number": 11
    },
    {
     "cell_type": "code",
     "collapsed": false,
     "input": [
      "m.predict_proba([1,1,1])[:,1]"
     ],
     "language": "python",
     "metadata": {},
     "outputs": [
      {
       "metadata": {},
       "output_type": "pyout",
       "prompt_number": 10,
       "text": [
        "array([ 0.33142288])"
       ]
      }
     ],
     "prompt_number": 10
    },
    {
     "cell_type": "code",
     "collapsed": false,
     "input": [],
     "language": "python",
     "metadata": {},
     "outputs": []
    }
   ],
   "metadata": {}
  }
 ]
}